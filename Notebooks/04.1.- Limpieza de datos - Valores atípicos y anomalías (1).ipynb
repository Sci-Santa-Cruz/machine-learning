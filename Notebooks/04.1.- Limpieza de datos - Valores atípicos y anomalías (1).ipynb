{
 "cells": [
  {
   "cell_type": "markdown",
   "metadata": {},
   "source": [
    "\n",
    "<div class=\"jumbotron\">\n",
    "  <h1><i class=\"fa fa-bar-chart\" aria-hidden=\"true\"></i> Valores atípicos y anomalías</h1>\n",
    "  <p></p>\n",
    "</div>"
   ]
  },
  {
   "cell_type": "code",
   "execution_count": 1,
   "metadata": {},
   "outputs": [],
   "source": [
    "from pandas import DataFrame,read_csv\n",
    "from matplotlib.pyplot import tight_layout, show,subplot,legend ,subplots, xlabel, style,hist, figure\n",
    "\n",
    "from seaborn import set, boxplot\n",
    "from os import chdir\n",
    "# from dotenv import load_dotenv, find_dotenv\n",
    "\n",
    "chdir(\"..\")\n",
    "# load_dotenv('conf/.local') \n",
    "set(style=\"whitegrid\")"
   ]
  },
  {
   "cell_type": "markdown",
   "metadata": {},
   "source": [
    "## Valores atípicos\n",
    "Un valor atípico es un punto de datos que es significativamente diferente de los datos restantes. En ocasiones, los valores atípicos son muy informativos; por ejemplo, al buscar transacciones con tarjeta de crédito, un valor atípico puede ser un indicio de fraude. En otros casos, los valores atípicos son observaciones raras que no agregan ninguna información adicional. Estos casos también pueden afectar el rendimiento de algunos modelos de aprendizaje automático.\n",
    "\n",
    "<img src=\"../images/outliers.png\" height=\"500\" width=\"500\" >\n",
    "\n",
    "\n",
    "\"Un valor atípico es una observación que se desvía tanto de las otras observaciones como para despertar sospechas de que fue generada por un mecanismo diferente\". [RE. Hawkins Identificación de valores atípicos, Chapman y Hall, 1980.] \n",
    "\n",
    "Un valor atípico es una observación que se ubica fuera del patrón general de distribución de los datos ([Mathworld](http://mathworld.wolfram.com/Outlier.html)). \n",
    "\n",
    "![](../images/Outlier.png)\n",
    "![ ](../images/blank.png)\n",
    "\n"
   ]
  },
  {
   "cell_type": "markdown",
   "metadata": {},
   "source": [
    "Los valores atípicos pueden deberse a diferentes causas, siendo las principales:\n",
    "* Casos que no se ajustan al modelo de estudio\n",
    "* Errores en la medición\n",
    "\n"
   ]
  },
  {
   "cell_type": "markdown",
   "metadata": {},
   "source": [
    "\n",
    "<div class=\"alert alert-warning\" role=\"alert\"></div>\n",
    "\n",
    "\n",
    "- __Outlier__ : punto de datos legítimo que está lejos de la media o mediana en una distribución.\n",
    "- __Anomalía__ : punto de datos ilegítimos generado por un proceso diferente al que generó el resto de los datos\n",
    "\n",
    "<div class=\"alert alert-warning\" role=\"alert\">ESTO ES MUY IMPORTANTE</div>\n",
    "\n"
   ]
  },
  {
   "cell_type": "markdown",
   "metadata": {},
   "source": [
    "El tratamiento dado a los valores atípicos depende del origen de la inconsistencia. En el caso de errores en la medición pueden eliminarse o ajustarse (como en el caso de [valores faltantes](http://nbviewer.ipython.org/github/rsotoc/pattern-recognition/blob/master/Limpieza%20de%20datos%20I.ipynb)). Cuando la causa es que los casos no se ajustan al modelo utilizado pueden indicar la necesidad de replantear el modelo (incluyendo modificaciones a la teoría, como sucedía con el caso del movimiento anómalo de Mercurio). Sin embargo, también pueden representar casos singulares o excepcionales. En cualquier caso, es importante detectar estos valores, pues su presencia generan tendencias en el análisis global de los datos.\n",
    "\n",
    "Una forma común de analizar la presencia de valores atípicos es a través de los diagramas de caja (boxplots). El diagrama de caja es una descripción gráfica de la agrupación de los datos en base a sus cuartiles y tiene la siguiente estructura:\n",
    "\n"
   ]
  },
  {
   "cell_type": "markdown",
   "metadata": {},
   "source": [
    "![ ](../images/457px-Boxplot.svg.png)\n",
    "![ ](../images/blank.png)\n",
    "\n"
   ]
  },
  {
   "cell_type": "markdown",
   "metadata": {},
   "source": [
    "## Gráficas de cajas y bigotes"
   ]
  },
  {
   "cell_type": "markdown",
   "metadata": {},
   "source": [
    "Partimos de un conjunto de datos como el siguiente :"
   ]
  },
  {
   "cell_type": "markdown",
   "metadata": {},
   "source": [
    "![ ](../images/caja_1.png)\n",
    "\n",
    "El diagrma muestra como se separan los datos para generar los 4 elementos principales de un digrama de caja de bigotes.  ¿Logras deducir el algoritmo a seguir? "
   ]
  },
  {
   "cell_type": "markdown",
   "metadata": {},
   "source": [
    "su grafíco de caja y bigotes es el siguiente"
   ]
  },
  {
   "cell_type": "markdown",
   "metadata": {},
   "source": [
    "![ ](../images/caja_2.png)"
   ]
  },
  {
   "cell_type": "markdown",
   "metadata": {},
   "source": [
    "__Ahora veamos un ejemplo utilizando código python__"
   ]
  },
  {
   "cell_type": "code",
   "execution_count": 2,
   "metadata": {},
   "outputs": [],
   "source": [
    "# Crear conjunto de datos \n",
    "data = [1,1,6,13,13,14,14,14,15,15,16,18,18,18,19]\n",
    "pos =  [1,2,1,1,2,1,2,3,1,2,1,1,2,3,1]\n",
    "# Create the pandas DataFrame \n",
    "df_elements =  DataFrame(data, columns = ['Valor'])\n",
    "df_elements['Name'] = pos"
   ]
  },
  {
   "cell_type": "code",
   "execution_count": 3,
   "metadata": {},
   "outputs": [
    {
     "data": {
      "text/html": [
       "<div>\n",
       "<style scoped>\n",
       "    .dataframe tbody tr th:only-of-type {\n",
       "        vertical-align: middle;\n",
       "    }\n",
       "\n",
       "    .dataframe tbody tr th {\n",
       "        vertical-align: top;\n",
       "    }\n",
       "\n",
       "    .dataframe thead th {\n",
       "        text-align: right;\n",
       "    }\n",
       "</style>\n",
       "<table border=\"1\" class=\"dataframe\">\n",
       "  <thead>\n",
       "    <tr style=\"text-align: right;\">\n",
       "      <th></th>\n",
       "      <th>Valor</th>\n",
       "      <th>Name</th>\n",
       "    </tr>\n",
       "  </thead>\n",
       "  <tbody>\n",
       "    <tr>\n",
       "      <th>0</th>\n",
       "      <td>1</td>\n",
       "      <td>1</td>\n",
       "    </tr>\n",
       "    <tr>\n",
       "      <th>1</th>\n",
       "      <td>1</td>\n",
       "      <td>2</td>\n",
       "    </tr>\n",
       "    <tr>\n",
       "      <th>2</th>\n",
       "      <td>6</td>\n",
       "      <td>1</td>\n",
       "    </tr>\n",
       "    <tr>\n",
       "      <th>3</th>\n",
       "      <td>13</td>\n",
       "      <td>1</td>\n",
       "    </tr>\n",
       "    <tr>\n",
       "      <th>4</th>\n",
       "      <td>13</td>\n",
       "      <td>2</td>\n",
       "    </tr>\n",
       "  </tbody>\n",
       "</table>\n",
       "</div>"
      ],
      "text/plain": [
       "   Valor  Name\n",
       "0      1     1\n",
       "1      1     2\n",
       "2      6     1\n",
       "3     13     1\n",
       "4     13     2"
      ]
     },
     "execution_count": 3,
     "metadata": {},
     "output_type": "execute_result"
    }
   ],
   "source": [
    "df_elements.head()"
   ]
  },
  {
   "cell_type": "markdown",
   "metadata": {},
   "source": [
    "Nuestro conjunto de datos es el siguiente:"
   ]
  },
  {
   "cell_type": "markdown",
   "metadata": {},
   "source": [
    "<img src=\"../images/data_raw_0.png\" width=\"400\"/>"
   ]
  },
  {
   "cell_type": "markdown",
   "metadata": {},
   "source": [
    "podemos identificar los cuartiles `Q1`, `Q2(mediana)`, `Q3`, `máximo` , `mínimo` , `rango` y `IQR` de dicho conjunto de datos,"
   ]
  },
  {
   "cell_type": "markdown",
   "metadata": {},
   "source": [
    "<img src=\"../images/data_raw.png\" width=\"800\"/>"
   ]
  },
  {
   "cell_type": "code",
   "execution_count": 4,
   "metadata": {},
   "outputs": [
    {
     "data": {
      "image/png": "[encoded data removed]",
      "text/plain": [
       "<Figure size 640x480 with 1 Axes>"
      ]
     },
     "metadata": {},
     "output_type": "display_data"
    }
   ],
   "source": [
    "ax = boxplot(x=\"Valor\", data=df_elements)"
   ]
  },
  {
   "cell_type": "markdown",
   "metadata": {},
   "source": [
    "Colocando los puntos sobre una recta observamos algo como esto :"
   ]
  },
  {
   "cell_type": "markdown",
   "metadata": {},
   "source": [
    "![ ](../images/grap_1.png)"
   ]
  },
  {
   "cell_type": "markdown",
   "metadata": {},
   "source": [
    "En esta conveción, los valores atípicos utilizando diagramas de caja y la regla de proximidad del rango intercuartil ( IQR ) se re obtiene de acuerdo con la regla de proximidad IQR, un valor es un valor atípico si cae fuera de estos límites:\n",
    "\n",
    "\n",
    "Límite superior = $75º cuantil + (IQR * 1.5)$\n",
    "\n",
    "Límite inferior = $25º cuantil - (IQR * 1.5)$\n",
    "\n",
    "Aquí, `IQR` viene dado por la siguiente ecuación:\n",
    "\n",
    "$IQR = 75º cuantil - 25º cuantil$\n",
    "\n",
    "Por lo general, calculamos los límites de la regla de proximidad `IQR`  multiplicando el `IQR` por `1.5`. Sin embargo, también es una práctica común encontrar valores extremos multiplicando el `IQR` por `3`.\n",
    "\n",
    "Entonce:"
   ]
  },
  {
   "cell_type": "markdown",
   "metadata": {},
   "source": [
    "\n",
    "<img src=\"../images/data_raw.png\" width=\"600\"/>\n",
    "<img src=\"../images/rango.png\" width=\"600\"/>"
   ]
  },
  {
   "cell_type": "markdown",
   "metadata": {},
   "source": [
    "Regresando a nuestro gráfico de caja y bigotes podemos obtener dos vertientes, (1) sin anomalías o (2) Marcando anomalías\n",
    "![ ](../images/cajas.png)"
   ]
  },
  {
   "cell_type": "markdown",
   "metadata": {},
   "source": [
    "El espaciado entre los componentes de una caja reflejan la dispersión y tendencias en los datos. La parte principal de esta representación es la propia caja. La tapa inferior corresponde al primer cuartil (Q1, el punto que separa el 25% de los datos inferiores), la línea intermedia refleja la mediana o segundo cuartil (Q2) y la tapa superior corresponde al tercer cuartil (Q3, el punto que delimita el 75% de los datos inferiores). \n",
    "\n",
    "RIC es el *rango inter cuartil* y es el 50% de los datos que quedan al centro del conjunto total de datos. Las líneas punteadas se denomina *bigotes* (*whiskers*); los extremos de los bigotes inferior y superior suelen seleccionarse como el menor dato que aún queda a una distancia máxima de 1.5 veces RIC por abajo de Q1 y el dato máximo a una distancia igual o menor de 1.5 RIC por arriba de Q3. "
   ]
  },
  {
   "cell_type": "markdown",
   "metadata": {},
   "source": [
    "## Histogramas y Distribución de datos"
   ]
  },
  {
   "cell_type": "markdown",
   "metadata": {},
   "source": [
    "Otra forma de detectar valores atípicos es mediantes la gráfica de distribución normal y la varianza de los datos.\n",
    "\n",
    "La justificación para utilizar la desviación estándar (STD) y el concepto de múltiplos de __sigma (σ)__ para identificar valores atípicos (outliers) se basa en la idea de que en una distribución de datos normal o aproximadamente normal (distribución gaussiana), la mayoría de los valores se encuentran cerca de la media y disminuyen a medida que nos alejamos de la media. Esto se conoce como la regla empírica o la regla $68-95-99.7$, (probeniente de Lla interpretación del `Z-score`) que establece que:\n",
    "\n",
    "- Aproximadamente el 68% de los datos caen dentro de ±1σ de la media.\n",
    "- Aproximadamente el 95% de los datos caen dentro de ±2σ de la media.\n",
    "- Aproximadamente el 99.7% de los datos caen dentro de ±3σ de la media.\n",
    "\n",
    "En esta regla, σ representa la desviación estándar de la distribución.\n",
    "\n",
    "La justificación para usar múltiplos de σ para identificar valores atípicos se basa en la idea de que los valores que están más allá de un cierto número de desviaciones estándar de la media son inusuales y pueden considerarse atípicos. Esto se debe a que la mayoría de los datos caen dentro de un rango específico alrededor de la media, y los valores que se alejan significativamente de la media pueden ser considerados como excepciones o anómalos.\n",
    "\n",
    "Por ejemplo, si decides usar la regla de los ±2σ para identificar valores atípicos en una distribución normal, estarás considerando como atípicos a aquellos valores que están más allá de dos desviaciones estándar de la media. Esto significa que solo alrededor del 5% de los datos caerán fuera de este rango, y estos valores se considerarán atípicos debido a su rareza en la distribución.\n",
    "\n",
    "Sin embargo, es importante tener en cuenta que esta es una regla simplificada y que la identificación de valores atípicos no se basa únicamente en múltiplos de σ. En la práctica, se pueden utilizar métodos más avanzados, como el método Z-score o gráficos de caja y bigotes, que tienen en cuenta la distribución real de los datos y pueden proporcionar una identificación más precisa de los valores atípicos.\n",
    "\n",
    "En resumen, la justificación para utilizar la desviación estándar y múltiplos de σ para identificar valores atípicos se basa en la distribución de datos normales y la idea de que los valores que se alejan significativamente de la media son inusuales y pueden considerarse atípicos. Sin embargo, es importante utilizar métodos adecuados y considerar la distribución real de los datos al identificar valores atípicos en situaciones prácticas.\n",
    "\n",
    "Si graficamos el histograma de los datos de la variable `Valor`, obtendremos el siguiente resultado"
   ]
  },
  {
   "cell_type": "code",
   "execution_count": 5,
   "metadata": {},
   "outputs": [
    {
     "data": {
      "text/plain": [
       "<Axes: >"
      ]
     },
     "execution_count": 5,
     "metadata": {},
     "output_type": "execute_result"
    },
    {
     "data": {
      "image/png": "[encoded data removed]",
      "text/plain": [
       "<Figure size 640x480 with 1 Axes>"
      ]
     },
     "metadata": {},
     "output_type": "display_data"
    }
   ],
   "source": [
    "df_elements.Valor.hist()"
   ]
  },
  {
   "cell_type": "markdown",
   "metadata": {},
   "source": [
    "Ver : https://www.youtube.com/watch?v=6TyepQq9NBc, antes de continuar"
   ]
  },
  {
   "cell_type": "markdown",
   "metadata": {},
   "source": [
    "obtenemos si desviación estantandar de esta variable :"
   ]
  },
  {
   "cell_type": "code",
   "execution_count": 6,
   "metadata": {},
   "outputs": [
    {
     "data": {
      "text/plain": [
       "5.7817446699565895"
      ]
     },
     "execution_count": 6,
     "metadata": {},
     "output_type": "execute_result"
    }
   ],
   "source": [
    "df_elements.Valor.std()"
   ]
  },
  {
   "cell_type": "markdown",
   "metadata": {},
   "source": [
    "definimos el umbral de normalidad: $±1$ desviación estándar de la media"
   ]
  },
  {
   "cell_type": "code",
   "execution_count": 7,
   "metadata": {},
   "outputs": [],
   "source": [
    "sigma = 1"
   ]
  },
  {
   "cell_type": "markdown",
   "metadata": {},
   "source": [
    "obtenemos la media de los datos :"
   ]
  },
  {
   "cell_type": "code",
   "execution_count": 8,
   "metadata": {},
   "outputs": [
    {
     "data": {
      "text/plain": [
       "13.0"
      ]
     },
     "execution_count": 8,
     "metadata": {},
     "output_type": "execute_result"
    }
   ],
   "source": [
    "df_elements.Valor.mean()"
   ]
  },
  {
   "cell_type": "markdown",
   "metadata": {},
   "source": [
    "tambien podemos experimentar con la media de los datos :"
   ]
  },
  {
   "cell_type": "code",
   "execution_count": 9,
   "metadata": {},
   "outputs": [
    {
     "data": {
      "text/plain": [
       "14.0"
      ]
     },
     "execution_count": 9,
     "metadata": {},
     "output_type": "execute_result"
    }
   ],
   "source": [
    "df_elements.Valor.median()"
   ]
  },
  {
   "cell_type": "markdown",
   "metadata": {},
   "source": [
    "o incluso con la moda de los datos :"
   ]
  },
  {
   "cell_type": "code",
   "execution_count": 10,
   "metadata": {},
   "outputs": [
    {
     "data": {
      "text/plain": [
       "0    14\n",
       "1    18\n",
       "Name: Valor, dtype: int64"
      ]
     },
     "execution_count": 10,
     "metadata": {},
     "output_type": "execute_result"
    }
   ],
   "source": [
    "df_elements.Valor.mode()"
   ]
  },
  {
   "cell_type": "markdown",
   "metadata": {},
   "source": [
    "ahora, obtenemos el tope o frontera de normalidad hacia la izquierda :"
   ]
  },
  {
   "cell_type": "code",
   "execution_count": 11,
   "metadata": {},
   "outputs": [
    {
     "data": {
      "text/plain": [
       "7.2182553300434105"
      ]
     },
     "execution_count": 11,
     "metadata": {},
     "output_type": "execute_result"
    }
   ],
   "source": [
    "suelo = df_elements.Valor.mean()-df_elements.Valor.std() * sigma\n",
    "suelo"
   ]
  },
  {
   "cell_type": "markdown",
   "metadata": {},
   "source": [
    "también debemos obtener el tope o frontera de normalidad hacia la derecha :"
   ]
  },
  {
   "cell_type": "code",
   "execution_count": 12,
   "metadata": {},
   "outputs": [
    {
     "data": {
      "text/plain": [
       "18.781744669956588"
      ]
     },
     "execution_count": 12,
     "metadata": {},
     "output_type": "execute_result"
    }
   ],
   "source": [
    "techo = df_elements.Valor.mean() + df_elements.Valor.std() * sigma\n",
    "techo"
   ]
  },
  {
   "cell_type": "markdown",
   "metadata": {},
   "source": [
    "Una vez que hayas encontrado el piso (límite inferior) o el techo (límite superior) de los datos o los valores que marcan el final de los bigotes en un gráfico de caja y bigotes, puedes tomar decisiones basadas en la identificación de valores atípicos o la evaluación de la distribución de los datos. Aquí hay algunas acciones típicas que puedes realizar:\n",
    "\n",
    "1. **Identificación de Valores Atípicos:** Si has definido los límites de los bigotes, puedes identificar valores que estén por debajo del límite inferior o por encima del límite superior como valores atípicos potenciales. Estos valores pueden requerir una inspección más detenida y pueden ser considerados como datos inusuales o anómalos en tu conjunto de datos.\n",
    "\n",
    "2. **Visualización de Distribución:** Observa cómo se distribuyen los datos dentro y fuera de los bigotes. Esto te dará una idea de la dispersión y simetría de los datos. Los valores que caen dentro de los bigotes representan la mayoría de los datos, mientras que los valores fuera de los bigotes pueden ser menos comunes.\n",
    "\n",
    "3. **Análisis de Dispersión:** Evalúa cuán dispersos están los valores dentro y fuera de los bigotes. Por ejemplo, si los valores fuera de los bigotes están muy agrupados cerca de los bigotes, esto puede indicar una distribución sesgada o asimétrica.\n",
    "\n",
    "4. **Revisión Contextual:** Considera el contexto de tu análisis y tus objetivos. No todos los valores fuera de los bigotes son necesariamente atípicos; algunos pueden ser legítimos y relevantes para tu estudio. Es importante entender por qué ciertos valores caen fuera de los bigotes antes de tomar decisiones.\n",
    "\n",
    "5. **Decisión sobre Atípicos:** Decidir qué hacer con los valores identificados como atípicos depende de tus objetivos y del conocimiento de dominio. Puedes optar por :\n",
    "\n",
    "     1. **Eliminarlos**.\n",
    "     2. **Investigar su validez**.\n",
    "     3. **Mantenerlos según su importancia para tu análisis**.\n",
    "     4. **Aplicar una transformación como la transformacion `log` para tratar de corregir la asimetría y normalidad**.\n",
    "     5. **Sustituiremos por el valor máximo de los datos**\n",
    "\n",
    "\n",
    "Recuerda que la identificación de valores atípicos es una parte importante del análisis de datos, pero debe hacerse con cuidado y considerando el contexto. No todos los valores fuera de los bigotes son necesariamente errores o anomalías; a veces, pueden contener información valiosa o representar eventos genuinos. Por lo tanto, es importante combinar el análisis estadístico con el conocimiento del dominio y los objetivos de tu análisis."
   ]
  },
  {
   "cell_type": "code",
   "execution_count": 27,
   "metadata": {},
   "outputs": [],
   "source": [
    "# Comprende el código de estas dos funciones y utilizalas para solucionar el problema de `outliers`\n",
    "\n",
    "def find_boundaries (df, variable, distance): \n",
    "\n",
    "    IQR = df [variable] .quantile (0.75) - df [variable] .quantile (0.25) \n",
    "\n",
    "    lower_boundary = df [variable] .quantile (0.25) - (IQR * distance) \n",
    "    upper_boundary = df [variable] .quantile (0.75) + (IQR * distancia) \n",
    "\n",
    "    return upper_boundary, lower_boundary\n",
    "\n",
    "\n",
    "def anomaly_delete(x, mn, mx):\n",
    "\n",
    "    # Comprobar si x es mayor que el límite superior (mx)\n",
    "    if x > mx:\n",
    "        x = mx\n",
    "    # Comprobar si x es menor que el límite inferior (mn)\n",
    "    if x < mn:\n",
    "        x = mn\n",
    "    return x\n"
   ]
  },
  {
   "cell_type": "markdown",
   "metadata": {},
   "source": [
    "--- \n",
    "\n",
    "Analizamos la submuestra de datos de diabetes, en primera instancia para la variable '*gl2h*' y posteriormente para todo el conjunto, utilizando los datos con valores faltantes en cero."
   ]
  },
  {
   "cell_type": "code",
   "execution_count": null,
   "metadata": {},
   "outputs": [],
   "source": []
  },
  {
   "cell_type": "code",
   "execution_count": null,
   "metadata": {},
   "outputs": [],
   "source": []
  },
  {
   "cell_type": "markdown",
   "metadata": {},
   "source": [
    "### Valores atípicos con pima-indians-diabetes dataset\n",
    "  "
   ]
  },
  {
   "cell_type": "code",
   "execution_count": 18,
   "metadata": {},
   "outputs": [
    {
     "name": "stdout",
     "output_type": "stream",
     "text": [
      "    emb  gl2h  pad  ept  is2h   imc    fpd  edad  class\n",
      "0     6   148   72   35     0  33.6  0.627    50      1\n",
      "1     1    85   66   29     0  26.6  0.351    31      0\n",
      "2     8   183   64    0     0  23.3  0.672    32      1\n",
      "3     1    89   66   23    94  28.1  0.167    21      0\n",
      "4     0   137   40   35   168  43.1  2.288    33      1\n",
      "5     5   116   74    0     0  25.6  0.201    30      0\n",
      "6     3    78   50   32    88  31.0  0.248    26      1\n",
      "7    10   115    0    0     0  35.3  0.134    29      0\n",
      "8     2   197   70   45   543  30.5  0.158    53      1\n",
      "9     8   125   96    0     0   0.0  0.232    54      1\n",
      "10    4   110   92    0     0  37.6  0.191    30      0\n",
      "11   10   168   74    0     0  38.0  0.537    34      1\n",
      "12   10   139   80    0     0  27.1  1.441    57      0\n",
      "13    1   189   60   23   846  30.1  0.398    59      1\n",
      "14    5   166   72   19   175  25.8  0.587    51      1\n",
      "15    7   100    0    0     0  30.0  0.484    32      1\n",
      "16    0   118   84   47   230  45.8  0.551    31      1\n",
      "17    7   107   74    0     0  29.6  0.254    31      1\n",
      "18    1   103   30   38    83  43.3  0.183    33      0\n",
      "19    1   115   70   30    96  34.6  0.529    32      1\n",
      "            emb        gl2h        pad        ept        is2h        imc  \\\n",
      "count  20.00000   20.000000  20.000000  20.000000   20.000000  20.000000   \n",
      "mean    4.50000  129.400000  61.700000  17.800000  116.150000  30.950000   \n",
      "std     3.56149   35.354446  26.159631  17.733703  215.843821   9.654424   \n",
      "min     0.00000   78.000000   0.000000   0.000000    0.000000   0.000000   \n",
      "25%     1.00000  106.000000  57.500000   0.000000    0.000000  26.975000   \n",
      "50%     4.50000  117.000000  70.000000  21.000000    0.000000  30.300000   \n",
      "75%     7.25000  152.500000  74.000000  32.750000  114.000000  35.875000   \n",
      "max    10.00000  197.000000  96.000000  47.000000  846.000000  45.800000   \n",
      "\n",
      "             fpd       edad     class  \n",
      "count  20.000000  20.000000  20.00000  \n",
      "mean    0.511650  37.450000   0.65000  \n",
      "std     0.513691  11.591626   0.48936  \n",
      "min     0.134000  21.000000   0.00000  \n",
      "25%     0.198500  30.750000   0.00000  \n",
      "50%     0.374500  32.000000   1.00000  \n",
      "75%     0.560000  50.250000   1.00000  \n",
      "max     2.288000  59.000000   1.00000  \n"
     ]
    },
    {
     "data": {
      "image/png": "[encoded data removed]",
      "text/plain": [
       "<Figure size 640x480 with 1 Axes>"
      ]
     },
     "metadata": {},
     "output_type": "display_data"
    }
   ],
   "source": [
    "df = read_csv(\"Data/Pima Indian Data Set/pima-indians-diabetes.data-small-orig\", \n",
    "                 names = ['emb', 'gl2h', 'pad', 'ept', 'is2h', 'imc', 'fpd', 'edad', 'class'])\n",
    "\n",
    "print(df)\n",
    "print(df.describe())\n",
    "boxplot(df['gl2h'])\n",
    "show()"
   ]
  },
  {
   "cell_type": "code",
   "execution_count": 17,
   "metadata": {},
   "outputs": [
    {
     "data": {
      "image/png": "[encoded data removed]",
      "text/plain": [
       "<Figure size 640x480 with 1 Axes>"
      ]
     },
     "metadata": {},
     "output_type": "display_data"
    }
   ],
   "source": [
    "df.boxplot()\n",
    "show()"
   ]
  },
  {
   "cell_type": "markdown",
   "metadata": {},
   "source": [
    "Obsérvese que los datos en cero ejercen un efecto importante en el análisis. En el caso de la columna `is2h`, por ejemplo, con $11$ valores faltantes puestos a cero (esto se expone en la descripción del dataset), pareciera que ese es un valor *típico*. En estos casos es importanta realizar previamente el análisis para detectar valores faltantes expresados como $0$. A continuación, realizamos el análisis con los datos después de hacer una imputación con la media."
   ]
  },
  {
   "cell_type": "code",
   "execution_count": 21,
   "metadata": {},
   "outputs": [
    {
     "name": "stdout",
     "output_type": "stream",
     "text": [
      "            emb        gl2h        pad        ept        is2h        imc  \\\n",
      "count  20.00000   20.000000  20.000000  20.000000   20.000000  20.000000   \n",
      "mean    4.50000  129.400000  68.555556  32.363636  258.111111  32.578947   \n",
      "std     3.56149   35.354446  15.462083   6.450400  170.973511   6.335496   \n",
      "min     0.00000   78.000000  30.000000  19.000000   83.000000  23.300000   \n",
      "25%     1.00000  106.000000  65.500000  31.500000  173.250000  27.850000   \n",
      "50%     4.50000  117.000000  70.000000  32.363636  258.111111  30.750000   \n",
      "75%     7.25000  152.500000  74.000000  33.022727  258.111111  35.875000   \n",
      "max    10.00000  197.000000  96.000000  47.000000  846.000000  45.800000   \n",
      "\n",
      "             fpd       edad     class  \n",
      "count  20.000000  20.000000  20.00000  \n",
      "mean    0.511650  37.450000   0.65000  \n",
      "std     0.513691  11.591626   0.48936  \n",
      "min     0.134000  21.000000   0.00000  \n",
      "25%     0.198500  30.750000   0.00000  \n",
      "50%     0.374500  32.000000   1.00000  \n",
      "75%     0.560000  50.250000   1.00000  \n",
      "max     2.288000  59.000000   1.00000   \n",
      "\n",
      "    emb  gl2h        pad        ept        is2h        imc    fpd  edad  class\n",
      "0     6   148  72.000000  35.000000  258.111111  33.600000  0.627    50      1\n",
      "1     1    85  66.000000  29.000000  258.111111  26.600000  0.351    31      0\n",
      "2     8   183  64.000000  32.363636  258.111111  23.300000  0.672    32      1\n",
      "3     1    89  66.000000  23.000000   94.000000  28.100000  0.167    21      0\n",
      "4     0   137  40.000000  35.000000  168.000000  43.100000  2.288    33      1\n",
      "5     5   116  74.000000  32.363636  258.111111  25.600000  0.201    30      0\n",
      "6     3    78  50.000000  32.000000   88.000000  31.000000  0.248    26      1\n",
      "7    10   115  68.555556  32.363636  258.111111  35.300000  0.134    29      0\n",
      "8     2   197  70.000000  45.000000  543.000000  30.500000  0.158    53      1\n",
      "9     8   125  96.000000  32.363636  258.111111  32.578947  0.232    54      1\n",
      "10    4   110  92.000000  32.363636  258.111111  37.600000  0.191    30      0\n",
      "11   10   168  74.000000  32.363636  258.111111  38.000000  0.537    34      1\n",
      "12   10   139  80.000000  32.363636  258.111111  27.100000  1.441    57      0\n",
      "13    1   189  60.000000  23.000000  846.000000  30.100000  0.398    59      1\n",
      "14    5   166  72.000000  19.000000  175.000000  25.800000  0.587    51      1\n",
      "15    7   100  68.555556  32.363636  258.111111  30.000000  0.484    32      1\n",
      "16    0   118  84.000000  47.000000  230.000000  45.800000  0.551    31      1\n",
      "17    7   107  74.000000  32.363636  258.111111  29.600000  0.254    31      1\n",
      "18    1   103  30.000000  38.000000   83.000000  43.300000  0.183    33      0\n",
      "19    1   115  70.000000  30.000000   96.000000  34.600000  0.529    32      1\n"
     ]
    },
    {
     "data": {
      "image/png": "[encoded data removed]",
      "text/plain": [
       "<Figure size 640x480 with 1 Axes>"
      ]
     },
     "metadata": {},
     "output_type": "display_data"
    }
   ],
   "source": [
    "df = read_csv(\"Data/Pima Indian Data Set/pima-indians-diabetes.data-small\", \n",
    "                 names = ['emb', 'gl2h', 'pad', 'ept', 'is2h', 'imc', 'fpd', 'edad', 'class'])\n",
    "df2 = df.fillna(df.mean())\n",
    "print(df2.describe(), '\\n')\n",
    "print(df2)\n",
    "\n",
    "df2.boxplot()\n",
    "show()"
   ]
  },
  {
   "cell_type": "markdown",
   "metadata": {},
   "source": [
    "Obsérvese que la columna *is2h* (Cantidad de insulina en suero en dos horas) sigue teniendo un comportamiento problemático. Aparentemente, hasta donde podemos *adivinar* de los datos, 543 y 846 son valores atípicos. Sin embargo, con 11 valores faltantes (55%) es poco lo que se puede decir con certeza del comportamiento de estos datos.\n",
    "\n",
    "\n",
    "\n",
    "## Valores inconsistentes\n",
    "\n",
    "Una inconsistencia se define como la \"falta de estabilidad y coherencia en una cosa\". Un elemento inconsistente en un sistema es algo que no pertenece al sistema. Un valor inconsistente es un valor \"extraño\" al conjunto de datos (no atípico).\n",
    "\n",
    "Una inconsistencia obvia es un valor o combinación de valores que no puede ocurrir en un contexto real: edad negativa, promedio de egreso de preparatoria menor a 60/100 (en México), (sexo=masculino, estado=embarazo), etc.\n",
    "\n",
    "La detección de valores inconsistentes en un conjunto de datos es particularmente difícil. El conocimiento en el que se basa este proceso debe codificarse en forma de restricciones o reglas de edición. Una forma común de optimizar este proceso es a través de expresiones regulares.\n",
    "\n",
    "\n",
    "\n",
    "## Inspección de los datos\n",
    "\n",
    "En muchos casos, la limpieza de los datos debe hacerse de forma semi-manual (de ahí la cantidad de tiempo que ocupa esa actividad). El análisis estadístico puede ofrecer indicadores de cómo atacar los problemas. \n",
    "\n",
    "El método *describe*() de DataFrame ya arroja alguna información, particularmente la desviación estándar que también podemos obtener con el método *std*():"
   ]
  },
  {
   "cell_type": "code",
   "execution_count": 22,
   "metadata": {},
   "outputs": [
    {
     "name": "stdout",
     "output_type": "stream",
     "text": [
      "            emb        gl2h        pad        ept        is2h        imc  \\\n",
      "count  20.00000   20.000000  18.000000  11.000000    9.000000  19.000000   \n",
      "mean    4.50000  129.400000  68.555556  32.363636  258.111111  32.578947   \n",
      "std     3.56149   35.354446  16.346333   8.891262  263.487877   6.509103   \n",
      "min     0.00000   78.000000  30.000000  19.000000   83.000000  23.300000   \n",
      "25%     1.00000  106.000000  64.500000  26.000000   94.000000  27.600000   \n",
      "50%     4.50000  117.000000  71.000000  32.000000  168.000000  30.500000   \n",
      "75%     7.25000  152.500000  74.000000  36.500000  230.000000  36.450000   \n",
      "max    10.00000  197.000000  96.000000  47.000000  846.000000  45.800000   \n",
      "\n",
      "             fpd       edad     class  \n",
      "count  20.000000  20.000000  20.00000  \n",
      "mean    0.511650  37.450000   0.65000  \n",
      "std     0.513691  11.591626   0.48936  \n",
      "min     0.134000  21.000000   0.00000  \n",
      "25%     0.198500  30.750000   0.00000  \n",
      "50%     0.374500  32.000000   1.00000  \n",
      "75%     0.560000  50.250000   1.00000  \n",
      "max     2.288000  59.000000   1.00000   \n",
      "\n",
      " emb        3.561490\n",
      "gl2h      35.354446\n",
      "pad       16.346333\n",
      "ept        8.891262\n",
      "is2h     263.487877\n",
      "imc        6.509103\n",
      "fpd        0.513691\n",
      "edad      11.591626\n",
      "class      0.489360\n",
      "dtype: float64\n"
     ]
    }
   ],
   "source": [
    "print(df.describe(), '\\n\\n',df.std())"
   ]
  },
  {
   "cell_type": "markdown",
   "metadata": {},
   "source": [
    "Una forma de medir el grado de variación conjunta de dos variables aleatorias es a través de la *covarianza*. Mientras mayor es el valor de covarianza mayor es la dependencia entre ambas variables.\n",
    "\n",
    "La covarianza puede ser positiva, negativa o cercana a cero:\n",
    "\n",
    "1. Si la covarianza es positiva, significa que cuando una variable tiende a aumentar, la otra también tiende a aumentar, lo que indica una relación positiva.\n",
    "2. Si la covarianza es negativa, significa que cuando una variable tiende a aumentar, la otra tiende a disminuir, lo que indica una relación negativa.\n",
    "3. Si la covarianza está cerca de cero, no hay una relación clara lineal entre las dos variables.\n",
    "\n",
    "__Es importante destacar__ que la covarianza solo mide la relación lineal entre las variables y no la magnitud de esta relación. Además, la covarianza no está normalizada y su valor depende de las unidades en las que se miden las variables, lo que hace que sea difícil de interpretar en términos absolutos."
   ]
  },
  {
   "cell_type": "code",
   "execution_count": 23,
   "metadata": {},
   "outputs": [
    {
     "data": {
      "text/html": [
       "<div>\n",
       "<style scoped>\n",
       "    .dataframe tbody tr th:only-of-type {\n",
       "        vertical-align: middle;\n",
       "    }\n",
       "\n",
       "    .dataframe tbody tr th {\n",
       "        vertical-align: top;\n",
       "    }\n",
       "\n",
       "    .dataframe thead th {\n",
       "        text-align: right;\n",
       "    }\n",
       "</style>\n",
       "<table border=\"1\" class=\"dataframe\">\n",
       "  <thead>\n",
       "    <tr style=\"text-align: right;\">\n",
       "      <th></th>\n",
       "      <th>emb</th>\n",
       "      <th>gl2h</th>\n",
       "      <th>pad</th>\n",
       "      <th>ept</th>\n",
       "      <th>is2h</th>\n",
       "      <th>imc</th>\n",
       "      <th>fpd</th>\n",
       "      <th>edad</th>\n",
       "      <th>class</th>\n",
       "    </tr>\n",
       "  </thead>\n",
       "  <tbody>\n",
       "    <tr>\n",
       "      <th>emb</th>\n",
       "      <td>12.684211</td>\n",
       "      <td>22.842105</td>\n",
       "      <td>26.202614</td>\n",
       "      <td>-4.563636</td>\n",
       "      <td>-33.694444</td>\n",
       "      <td>-7.676316</td>\n",
       "      <td>-0.072447</td>\n",
       "      <td>7.552632</td>\n",
       "      <td>-0.026316</td>\n",
       "    </tr>\n",
       "    <tr>\n",
       "      <th>gl2h</th>\n",
       "      <td>22.842105</td>\n",
       "      <td>1249.936842</td>\n",
       "      <td>50.450980</td>\n",
       "      <td>14.081818</td>\n",
       "      <td>9152.694444</td>\n",
       "      <td>-34.108187</td>\n",
       "      <td>3.812674</td>\n",
       "      <td>273.705263</td>\n",
       "      <td>7.831579</td>\n",
       "    </tr>\n",
       "    <tr>\n",
       "      <th>pad</th>\n",
       "      <td>26.202614</td>\n",
       "      <td>50.450980</td>\n",
       "      <td>267.202614</td>\n",
       "      <td>3.072727</td>\n",
       "      <td>915.972222</td>\n",
       "      <td>-23.745588</td>\n",
       "      <td>-2.256569</td>\n",
       "      <td>48.457516</td>\n",
       "      <td>0.196078</td>\n",
       "    </tr>\n",
       "    <tr>\n",
       "      <th>ept</th>\n",
       "      <td>-4.563636</td>\n",
       "      <td>14.081818</td>\n",
       "      <td>3.072727</td>\n",
       "      <td>79.054545</td>\n",
       "      <td>-56.055556</td>\n",
       "      <td>42.974545</td>\n",
       "      <td>0.312155</td>\n",
       "      <td>-9.172727</td>\n",
       "      <td>0.709091</td>\n",
       "    </tr>\n",
       "    <tr>\n",
       "      <th>is2h</th>\n",
       "      <td>-33.694444</td>\n",
       "      <td>9152.694444</td>\n",
       "      <td>915.972222</td>\n",
       "      <td>-56.055556</td>\n",
       "      <td>69425.861111</td>\n",
       "      <td>-500.912500</td>\n",
       "      <td>-22.356708</td>\n",
       "      <td>2858.166667</td>\n",
       "      <td>42.402778</td>\n",
       "    </tr>\n",
       "    <tr>\n",
       "      <th>imc</th>\n",
       "      <td>-7.676316</td>\n",
       "      <td>-34.108187</td>\n",
       "      <td>-23.745588</td>\n",
       "      <td>42.974545</td>\n",
       "      <td>-500.912500</td>\n",
       "      <td>42.368421</td>\n",
       "      <td>0.732903</td>\n",
       "      <td>-15.314912</td>\n",
       "      <td>0.247368</td>\n",
       "    </tr>\n",
       "    <tr>\n",
       "      <th>fpd</th>\n",
       "      <td>-0.072447</td>\n",
       "      <td>3.812674</td>\n",
       "      <td>-2.256569</td>\n",
       "      <td>0.312155</td>\n",
       "      <td>-22.356708</td>\n",
       "      <td>0.732903</td>\n",
       "      <td>0.263878</td>\n",
       "      <td>1.038955</td>\n",
       "      <td>0.048082</td>\n",
       "    </tr>\n",
       "    <tr>\n",
       "      <th>edad</th>\n",
       "      <td>7.552632</td>\n",
       "      <td>273.705263</td>\n",
       "      <td>48.457516</td>\n",
       "      <td>-9.172727</td>\n",
       "      <td>2858.166667</td>\n",
       "      <td>-15.314912</td>\n",
       "      <td>1.038955</td>\n",
       "      <td>134.365789</td>\n",
       "      <td>1.639474</td>\n",
       "    </tr>\n",
       "    <tr>\n",
       "      <th>class</th>\n",
       "      <td>-0.026316</td>\n",
       "      <td>7.831579</td>\n",
       "      <td>0.196078</td>\n",
       "      <td>0.709091</td>\n",
       "      <td>42.402778</td>\n",
       "      <td>0.247368</td>\n",
       "      <td>0.048082</td>\n",
       "      <td>1.639474</td>\n",
       "      <td>0.239474</td>\n",
       "    </tr>\n",
       "  </tbody>\n",
       "</table>\n",
       "</div>"
      ],
      "text/plain": [
       "             emb         gl2h         pad        ept          is2h  \\\n",
       "emb    12.684211    22.842105   26.202614  -4.563636    -33.694444   \n",
       "gl2h   22.842105  1249.936842   50.450980  14.081818   9152.694444   \n",
       "pad    26.202614    50.450980  267.202614   3.072727    915.972222   \n",
       "ept    -4.563636    14.081818    3.072727  79.054545    -56.055556   \n",
       "is2h  -33.694444  9152.694444  915.972222 -56.055556  69425.861111   \n",
       "imc    -7.676316   -34.108187  -23.745588  42.974545   -500.912500   \n",
       "fpd    -0.072447     3.812674   -2.256569   0.312155    -22.356708   \n",
       "edad    7.552632   273.705263   48.457516  -9.172727   2858.166667   \n",
       "class  -0.026316     7.831579    0.196078   0.709091     42.402778   \n",
       "\n",
       "              imc        fpd         edad      class  \n",
       "emb     -7.676316  -0.072447     7.552632  -0.026316  \n",
       "gl2h   -34.108187   3.812674   273.705263   7.831579  \n",
       "pad    -23.745588  -2.256569    48.457516   0.196078  \n",
       "ept     42.974545   0.312155    -9.172727   0.709091  \n",
       "is2h  -500.912500 -22.356708  2858.166667  42.402778  \n",
       "imc     42.368421   0.732903   -15.314912   0.247368  \n",
       "fpd      0.732903   0.263878     1.038955   0.048082  \n",
       "edad   -15.314912   1.038955   134.365789   1.639474  \n",
       "class    0.247368   0.048082     1.639474   0.239474  "
      ]
     },
     "execution_count": 23,
     "metadata": {},
     "output_type": "execute_result"
    }
   ],
   "source": [
    "df.cov()"
   ]
  },
  {
   "cell_type": "markdown",
   "metadata": {},
   "source": [
    "Sin embargo, los valores de la covarianza suelen ser difíciles de interpretar. Una media alternativa, normalizada, es la *correlación lineal*:"
   ]
  },
  {
   "cell_type": "code",
   "execution_count": 24,
   "metadata": {},
   "outputs": [
    {
     "data": {
      "text/html": [
       "<div>\n",
       "<style scoped>\n",
       "    .dataframe tbody tr th:only-of-type {\n",
       "        vertical-align: middle;\n",
       "    }\n",
       "\n",
       "    .dataframe tbody tr th {\n",
       "        vertical-align: top;\n",
       "    }\n",
       "\n",
       "    .dataframe thead th {\n",
       "        text-align: right;\n",
       "    }\n",
       "</style>\n",
       "<table border=\"1\" class=\"dataframe\">\n",
       "  <thead>\n",
       "    <tr style=\"text-align: right;\">\n",
       "      <th></th>\n",
       "      <th>emb</th>\n",
       "      <th>gl2h</th>\n",
       "      <th>pad</th>\n",
       "      <th>ept</th>\n",
       "      <th>is2h</th>\n",
       "      <th>imc</th>\n",
       "      <th>fpd</th>\n",
       "      <th>edad</th>\n",
       "      <th>class</th>\n",
       "    </tr>\n",
       "  </thead>\n",
       "  <tbody>\n",
       "    <tr>\n",
       "      <th>emb</th>\n",
       "      <td>1.000000</td>\n",
       "      <td>0.181410</td>\n",
       "      <td>0.466241</td>\n",
       "      <td>-0.260209</td>\n",
       "      <td>-0.080432</td>\n",
       "      <td>-0.331284</td>\n",
       "      <td>-0.039599</td>\n",
       "      <td>0.182946</td>\n",
       "      <td>-0.015099</td>\n",
       "    </tr>\n",
       "    <tr>\n",
       "      <th>gl2h</th>\n",
       "      <td>0.181410</td>\n",
       "      <td>1.000000</td>\n",
       "      <td>0.084704</td>\n",
       "      <td>0.038250</td>\n",
       "      <td>0.809138</td>\n",
       "      <td>-0.144324</td>\n",
       "      <td>0.209934</td>\n",
       "      <td>0.667874</td>\n",
       "      <td>0.452664</td>\n",
       "    </tr>\n",
       "    <tr>\n",
       "      <th>pad</th>\n",
       "      <td>0.466241</td>\n",
       "      <td>0.084704</td>\n",
       "      <td>1.000000</td>\n",
       "      <td>0.021859</td>\n",
       "      <td>0.202591</td>\n",
       "      <td>-0.226915</td>\n",
       "      <td>-0.258156</td>\n",
       "      <td>0.247384</td>\n",
       "      <td>0.024729</td>\n",
       "    </tr>\n",
       "    <tr>\n",
       "      <th>ept</th>\n",
       "      <td>-0.260209</td>\n",
       "      <td>0.038250</td>\n",
       "      <td>0.021859</td>\n",
       "      <td>1.000000</td>\n",
       "      <td>-0.021654</td>\n",
       "      <td>0.682090</td>\n",
       "      <td>0.058374</td>\n",
       "      <td>-0.081671</td>\n",
       "      <td>0.170738</td>\n",
       "    </tr>\n",
       "    <tr>\n",
       "      <th>is2h</th>\n",
       "      <td>-0.080432</td>\n",
       "      <td>0.809138</td>\n",
       "      <td>0.202591</td>\n",
       "      <td>-0.021654</td>\n",
       "      <td>1.000000</td>\n",
       "      <td>-0.255473</td>\n",
       "      <td>-0.127034</td>\n",
       "      <td>0.819404</td>\n",
       "      <td>0.364952</td>\n",
       "    </tr>\n",
       "    <tr>\n",
       "      <th>imc</th>\n",
       "      <td>-0.331284</td>\n",
       "      <td>-0.144324</td>\n",
       "      <td>-0.226915</td>\n",
       "      <td>0.682090</td>\n",
       "      <td>-0.255473</td>\n",
       "      <td>1.000000</td>\n",
       "      <td>0.215118</td>\n",
       "      <td>-0.209764</td>\n",
       "      <td>0.076683</td>\n",
       "    </tr>\n",
       "    <tr>\n",
       "      <th>fpd</th>\n",
       "      <td>-0.039599</td>\n",
       "      <td>0.209934</td>\n",
       "      <td>-0.258156</td>\n",
       "      <td>0.058374</td>\n",
       "      <td>-0.127034</td>\n",
       "      <td>0.215118</td>\n",
       "      <td>1.000000</td>\n",
       "      <td>0.174482</td>\n",
       "      <td>0.191270</td>\n",
       "    </tr>\n",
       "    <tr>\n",
       "      <th>edad</th>\n",
       "      <td>0.182946</td>\n",
       "      <td>0.667874</td>\n",
       "      <td>0.247384</td>\n",
       "      <td>-0.081671</td>\n",
       "      <td>0.819404</td>\n",
       "      <td>-0.209764</td>\n",
       "      <td>0.174482</td>\n",
       "      <td>1.000000</td>\n",
       "      <td>0.289022</td>\n",
       "    </tr>\n",
       "    <tr>\n",
       "      <th>class</th>\n",
       "      <td>-0.015099</td>\n",
       "      <td>0.452664</td>\n",
       "      <td>0.024729</td>\n",
       "      <td>0.170738</td>\n",
       "      <td>0.364952</td>\n",
       "      <td>0.076683</td>\n",
       "      <td>0.191270</td>\n",
       "      <td>0.289022</td>\n",
       "      <td>1.000000</td>\n",
       "    </tr>\n",
       "  </tbody>\n",
       "</table>\n",
       "</div>"
      ],
      "text/plain": [
       "            emb      gl2h       pad       ept      is2h       imc       fpd  \\\n",
       "emb    1.000000  0.181410  0.466241 -0.260209 -0.080432 -0.331284 -0.039599   \n",
       "gl2h   0.181410  1.000000  0.084704  0.038250  0.809138 -0.144324  0.209934   \n",
       "pad    0.466241  0.084704  1.000000  0.021859  0.202591 -0.226915 -0.258156   \n",
       "ept   -0.260209  0.038250  0.021859  1.000000 -0.021654  0.682090  0.058374   \n",
       "is2h  -0.080432  0.809138  0.202591 -0.021654  1.000000 -0.255473 -0.127034   \n",
       "imc   -0.331284 -0.144324 -0.226915  0.682090 -0.255473  1.000000  0.215118   \n",
       "fpd   -0.039599  0.209934 -0.258156  0.058374 -0.127034  0.215118  1.000000   \n",
       "edad   0.182946  0.667874  0.247384 -0.081671  0.819404 -0.209764  0.174482   \n",
       "class -0.015099  0.452664  0.024729  0.170738  0.364952  0.076683  0.191270   \n",
       "\n",
       "           edad     class  \n",
       "emb    0.182946 -0.015099  \n",
       "gl2h   0.667874  0.452664  \n",
       "pad    0.247384  0.024729  \n",
       "ept   -0.081671  0.170738  \n",
       "is2h   0.819404  0.364952  \n",
       "imc   -0.209764  0.076683  \n",
       "fpd    0.174482  0.191270  \n",
       "edad   1.000000  0.289022  \n",
       "class  0.289022  1.000000  "
      ]
     },
     "execution_count": 24,
     "metadata": {},
     "output_type": "execute_result"
    }
   ],
   "source": [
    "df.corr()"
   ]
  },
  {
   "cell_type": "markdown",
   "metadata": {},
   "source": [
    "La correlación entre variables ofrece una validación de los posibles valores atípicos o su clasificación como valores inconsistentes: Si dos variables tienen un alto valor de correlación, un valor \"extraño\" en una variable, acompañado de un valor \"extraño\" de otra variable en el mismo registro, pudiera indicar que son valores válidos, pero atípicos."
   ]
  },
  {
   "cell_type": "markdown",
   "metadata": {},
   "source": [
    "\n",
    "<hr style=\"border-width: 3px;\">\n",
    "\n",
    "\n",
    "### Tarea 3\n",
    "\n",
    "* Analice los problemas de valores atípicos en el conjunto de datos *Pima Indians Diabetes* completo.\n",
    "\n",
    "* Analice los problemas de valores faltantes y valores atípicos en los datos del ejemplo 2 (Rendimiento de combustible) y del ejemplo 3 (Taxonomís de flores).\n",
    "\n",
    "\n",
    "**Fecha de entrega**: ..."
   ]
  },
  {
   "cell_type": "code",
   "execution_count": null,
   "metadata": {},
   "outputs": [],
   "source": [
    "#https://www.youtube.com/watch?v=R2U3apzVB9E"
   ]
  }
 ],
 "metadata": {
  "celltoolbar": "Raw Cell Format",
  "hide_input": false,
  "kernelspec": {
   "display_name": "Python 3 (ipykernel)",
   "language": "python",
   "name": "python3"
  },
  "language_info": {
   "codemirror_mode": {
    "name": "ipython",
    "version": 3
   },
   "file_extension": ".py",
   "mimetype": "text/x-python",
   "name": "python",
   "nbconvert_exporter": "python",
   "pygments_lexer": "ipython3",
   "version": "3.11.4"
  }
 },
 "nbformat": 4,
 "nbformat_minor": 1
}

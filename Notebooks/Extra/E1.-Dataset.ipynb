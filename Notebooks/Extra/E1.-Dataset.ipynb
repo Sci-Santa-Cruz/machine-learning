{
 "cells": [
  {
   "cell_type": "markdown",
   "id": "fece383b",
   "metadata": {},
   "source": [
    "# Forma general de un dataset"
   ]
  },
  {
   "cell_type": "markdown",
   "id": "3a8808a6",
   "metadata": {},
   "source": [
    "1. **Observaciones, Objetos, Items, Instancias, Prototipos, Filas:** Estos términos se utilizan de manera intercambiable y se refieren a las observaciones o registros individuales en un conjunto de datos. Cada objeto representa una entidad o elemento único que se está estudiando. Por ejemplo, en un conjunto de datos de pacientes de un hospital, cada paciente sería un objeto o instancia.\n",
    "\n",
    "2. **Características, Variables Dependientes, Columnas:** Las características, también conocidas como variables independientes o características predictoras, son las propiedades o atributos que se miden o registran para cada objeto en el conjunto de datos. Estas características se utilizan para describir o caracterizar los objetos. Por ejemplo, en un conjunto de datos de viviendas, las características podrían incluir el número de habitaciones, el área, la ubicación, etc.\n",
    "\n",
    "3. **Clases, Etiquetas, Variable Respuesta:** En problemas de clasificación, las clases o etiquetas representan las categorías o grupos a los que pertenecen los objetos. La variable respuesta es la que se intenta predecir o clasificar en función de las características. Por ejemplo, en un conjunto de datos de correos electrónicos, la variable respuesta podría ser \"spam\" o \"no spam\", y las características podrían ser el contenido del correo electrónico, la dirección del remitente, etc.\n",
    "\n",
    "4. **Dataset, Data, Conjunto de Entrenamiento:** Estos términos se refieren al conjunto completo de datos que se está utilizando para realizar análisis, entrenar modelos o realizar tareas específicas. El conjunto de entrenamiento es una parte del conjunto de datos que se utiliza para entrenar un modelo de aprendizaje automático. Un dataset puede contener múltiples características, objetos y clases.\n",
    "\n",
    "5. **Metadatos:** Estos son datos que describen los datos en el conjunto de datos. Los metadatos pueden incluir información sobre el origen de los datos, el formato de los datos, las unidades de medida, la fecha de adquisición y otras descripciones que ayudan a comprender y utilizar el conjunto de datos de manera efectiva.\n",
    "\n",
    "6. **Índice:** El índice es una característica que identifica de manera única cada observación en el conjunto de datos. Puede ser una secuencia numérica o una etiqueta que se utiliza para acceder a una observación específica.\n",
    "\n",
    "7. **Cabecera:** en el contexto de un conjunto de datos (dataset) generalmente se refiere a la fila o línea superior de un archivo de datos que contiene los nombres de las columnas o variables. La cabecera proporciona etiquetas o nombres descriptivos para cada columna, lo que facilita la identificación y comprensión de los datos en ese conjunto."
   ]
  },
  {
   "cell_type": "markdown",
   "id": "578bbe8a",
   "metadata": {},
   "source": [
    "### Ejemplo de dataset "
   ]
  },
  {
   "cell_type": "markdown",
   "id": "8927c188",
   "metadata": {},
   "source": [
    "<img src=\"images/dataset_1.png\" width=\"80%\">"
   ]
  },
  {
   "cell_type": "markdown",
   "id": "0fe4bb3d",
   "metadata": {},
   "source": [
    "### Ejemplo de dataset con etiqueta de clase"
   ]
  },
  {
   "cell_type": "markdown",
   "id": "037a6ef1",
   "metadata": {},
   "source": [
    "<img src=\"images/dataset_2.png\" width=\"80%\">"
   ]
  },
  {
   "cell_type": "markdown",
   "id": "3cb321e7",
   "metadata": {},
   "source": [
    "## ¿Dónde descargar dataset?"
   ]
  },
  {
   "cell_type": "markdown",
   "id": "4c8cedd7",
   "metadata": {},
   "source": [
    "Aquí tienes una lista de sitios web populares donde puedes descargar conjuntos de datos (datasets) para su uso en análisis de datos, aprendizaje automático y otras aplicaciones:\n",
    "\n",
    "1. **Kaggle**: Kaggle es una plataforma en línea que ofrece una amplia variedad de conjuntos de datos y competencias relacionadas con la ciencia de datos y el aprendizaje automático. (https://www.kaggle.com/datasets)\n",
    "\n",
    "2. **UCI Machine Learning Repository**: La Universidad de California, Irvine, mantiene un repositorio de conjuntos de datos para la comunidad de aprendizaje automático. (https://archive.ics.uci.edu/ml/index.php)\n",
    "\n",
    "3. **Data.gov**: El portal de datos del gobierno de los Estados Unidos proporciona acceso a una gran cantidad de conjuntos de datos del gobierno federal. (https://www.data.gov/)\n",
    "\n",
    "4. **Google Dataset Search**: Google ofrece una herramienta de búsqueda que te permite encontrar conjuntos de datos en línea. (https://datasetsearch.research.google.com/)\n",
    "\n",
    "5. **World Bank Data**: El Banco Mundial ofrece una amplia gama de datos económicos y sociales a nivel mundial. (https://datacatalog.worldbank.org/)\n",
    "\n",
    "6. **IMF Data**: El Fondo Monetario Internacional (FMI) proporciona datos económicos y financieros globales. (https://www.imf.org/en/Data)\n",
    "\n",
    "7. **Amazon AWS Data Sets**: Amazon Web Services (AWS) ofrece conjuntos de datos públicos que se pueden utilizar en la nube de AWS. (https://registry.opendata.aws/)\n",
    "\n",
    "8. **GitHub**: En GitHub, puedes encontrar repositorios públicos que contienen conjuntos de datos en una variedad de temas. (https://github.com/)\n",
    "\n",
    "9. **DataHub**: DataHub es una plataforma que alberga una variedad de conjuntos de datos de código abierto. (https://datahub.io/)\n",
    "\n",
    "10. **Statista**: Statista proporciona datos estadísticos en una variedad de categorías, incluyendo negocios, tecnología y más. (https://www.statista.com/)\n",
    "\n",
    "11. **Eurostat**: Eurostat ofrece datos estadísticos sobre la Unión Europea y sus países miembros. (https://ec.europa.eu/eurostat/data/database)\n",
    "\n",
    "12. **Fivethirtyeight**: Fivethirtyeight publica datos y visualizaciones en una variedad de temas, incluyendo política y deportes. (https://data.fivethirtyeight.com/)\n",
    "\n"
   ]
  },
  {
   "cell_type": "code",
   "execution_count": null,
   "id": "14098ad5",
   "metadata": {},
   "outputs": [],
   "source": []
  }
 ],
 "metadata": {
  "kernelspec": {
   "display_name": "Python 3 (ipykernel)",
   "language": "python",
   "name": "python3"
  },
  "language_info": {
   "codemirror_mode": {
    "name": "ipython",
    "version": 3
   },
   "file_extension": ".py",
   "mimetype": "text/x-python",
   "name": "python",
   "nbconvert_exporter": "python",
   "pygments_lexer": "ipython3",
   "version": "3.11.4"
  }
 },
 "nbformat": 4,
 "nbformat_minor": 5
}

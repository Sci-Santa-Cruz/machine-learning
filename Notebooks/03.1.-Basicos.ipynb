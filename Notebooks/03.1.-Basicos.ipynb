{
 "cells": [
  {
   "cell_type": "markdown",
   "metadata": {},
   "source": [
    "### LA POBLACIÓN Y LA MUESTRA\n",
    "\n",
    "\n",
    "En el lenguaje de la estadística, uno de los conceptos más elementales es el muestreo. En\n",
    "casi todos los problemas de estadística, un número especifi cado de mediciones o datos, es\n",
    "decir, una __muestra__ , se toma de un cuerpo de mediciones más grande llamado __población__ ."
   ]
  },
  {
   "cell_type": "markdown",
   "metadata": {},
   "source": [
    "\n",
    "<img src=\"../images/muestra.png\" alt=\"Drawing\" style=\"width:400px;\"/>"
   ]
  },
  {
   "cell_type": "markdown",
   "metadata": {},
   "source": [
    "Para el experimento de la temperatura corporal, la muestra es el conjunto de mediciones de temperatura corporal para las 148 personas sanas escogidas por el experimentador. Esperamos que la muestra sea representativa de un conjunto mucho mayor de mediciones, la población, ¡las temperaturas corporales de todas las personas sanas del mundo!\n",
    "\n",
    "\n",
    "__¿Cuál es el interés principal, la muestra o la población?__\n",
    "\n",
    "En la mayor parte de los casos, estamos interesados principalmente en la población, pero ésta puede ser difícil o\n",
    "imposible de enumerar. Imagine tratar de registrar la temperatura corporal de todas las\n",
    "personas sanas del mundo o ¡de la preferencia presidencial de todo votante registrado en\n",
    "Estados Unidos! En cambio, tratamos de describir o pronosticar el comportamiento\n",
    "de la población con base en información obtenida de una muestra representativa de\n",
    "esa población"
   ]
  },
  {
   "cell_type": "markdown",
   "metadata": {},
   "source": [
    "Cuando usamos lenguaje de la estadística, distinguimos entre el conjunto de objetos en\n",
    "el cual las mediciones se toman y las mediciones mismas. Para experimentadores, los objetos en los que las mediciones se toman se denominan unidades experimentales. El estadístico que estudia las muestras las llama elementos de la muestra."
   ]
  },
  {
   "cell_type": "markdown",
   "metadata": {},
   "source": [
    "__Definición__ La __estadística descriptiva__ está formada por procedimientos empleados para resumir y describir las características importantes de un conjunto de mediciones."
   ]
  },
  {
   "cell_type": "markdown",
   "metadata": {},
   "source": [
    "__Definición__ La __estadística inferencial__ está formada por procedimientos empleados\n",
    "para hacer inferencias acerca de características poblacionales, a partir de información\n",
    "contenida en una muestra sacada de esta población.\n",
    "\n",
    "El objetivo de la __estadística inferencial__ es hacer inferencias (es decir, sacar conclusiones, hacer 'predicciones', tomar decisiones) acerca de las características de una población a partir de información contenida en una muestra."
   ]
  },
  {
   "cell_type": "markdown",
   "metadata": {},
   "source": [
    "__Definición__ Una __unidad experimental__ es el individuo u objeto en el que se mide\n",
    "una variable. Resulta una sola medición o datos cuando una variable se mide en realidad\n",
    "en una unidad experimental.\n",
    "Si se genera una medición para toda unidad experimental en toda la colección, el conjunto de datos resultante constituye la población de interés. Cualquier conjunto más\n",
    "pequeño de mediciones es una muestra.\n",
    "\n",
    "\n",
    "__Definición__ Una __población__ es el conjunto de mediciones de interés para el investigador.\n",
    "\n",
    "\n",
    "__Definición__ Una __muestra__ es un subconjunto de mediciones seleccionado de la\n",
    "población de interés."
   ]
  },
  {
   "cell_type": "markdown",
   "metadata": {},
   "source": [
    "#### TIPOS DE VARIABLES\n",
    "\n",
    "Se pueden clasificar variables en una de dos categorías: cualitativas y cuantitativas.\n",
    "\n",
    "__Definición__ Las variables __cualitativas__ miden una cualidad o característica en cada\n",
    "unidad experimental. Las variables __cuantitativas__ miden una cantidad numérica en\n",
    "cada unidad experimental.\n",
    "\n",
    "Las variables __cualitativas__ producen datos que se pueden clasificar de acuerdo a similitudes o diferencias en clase; por lo tanto, con frecuencia se denominan datos categóricos. Las variables como género, año y especialidad son variables cualitativas que producen datos categóricos. He aquí algunos otros ejemplos:\n",
    "\n",
    "- Afiliación política: republicano, demócrata, independiente\n",
    "- Clasificación de gusto: excelente, bueno, regular, malo\n",
    "- Color de un dulce M&M’S®: café, amarillo, rojo, anaranjado, verde, azul\n",
    "\n",
    "Las variables __cuantitativas__ , con frecuencia representadas por la letra x, producen\n",
    "datos numéricos, por ejemplo estos:\n",
    "\n",
    "- x  tasa preferencial de interés\n",
    "- x  número de pasajeros en un vuelo de Los Ángeles a Nueva York\n",
    "- x  peso de un paquete listo para ser enviado\n",
    "- x  volumen de jugo de naranja en un vaso\n",
    "\n",
    "Observe que hay una diferencia en los tipos de valores numéricos que pueden tomar\n",
    "estas variables cuantitativas. El número de pasajeros, por ejemplo, puede tomar sólo los\n",
    "valores $x = 0, 1, 2, …,$ mientras que el peso de un paquete puede tomar cualquier valor\n",
    "mayor a cero, o sea $0 < x < infinity $. Para describir esta diferencia, definimos dos tipos de\n",
    "variables cuantitativas: discretas y continuas."
   ]
  },
  {
   "cell_type": "markdown",
   "metadata": {},
   "source": [
    "\n",
    "<img src=\"../images/tupo_datos.png\" alt=\"Drawing\" style=\"width:500px;\"/>"
   ]
  },
  {
   "cell_type": "markdown",
   "metadata": {},
   "source": [
    "\n",
    "__Definición__ Una variable __discreta__ puede tomar sólo un número finito o contable de\n",
    "valores. Una variable __continua__ puede tomar infinitamente muchos valores correspondientes a los puntos en un intervalo de recta.\n",
    "\n",
    "El nombre de discreta se refiere a las brechas discretas entre los posibles valores\n",
    "que la variable puede tomar. Variables como el número de miembros de una familia,\n",
    "el número de ventas de autos nuevos y el número de llantas defectuosas devueltas para\n",
    "cambio son todos ellos ejemplos de variables discretas. Por el contrario, variables como\n",
    "la estatura, peso, tiempo, distancia y volumen son continuas porque pueden tomar valores en cualquier punto a lo largo de un intervalo de recta. Para cualesquier dos valores\n",
    "que se escojan, un tercer valor siempre puede hallarse entre ellos.\n",
    "\n",
    "\n",
    "Identifique cada una de las siguientes variables como cualitativas o cuantitativas:\n",
    "1. El uso más frecuente de su horno de microondas (recalentar, descongelar, calentar, otros)\n",
    "2. El número de consumidores que se niegan a contestar una encuesta por teléfono\n",
    "3. La puerta escogida por un ratón en un experimento de laberinto (A, B o C)\n",
    "4. El tiempo ganador para un caballo que corre en el Derby de Kentucky\n",
    "5. El número de niños en un grupo de quinto grado que leen al nivel de ese grado o\n",
    "mejor"
   ]
  },
  {
   "cell_type": "markdown",
   "metadata": {},
   "source": [
    "### GRÁFICAS PARA DATOS CATEGÓRICOS\n",
    "Una vez recolectados los datos, éstos pueden consolidarse y resumirse para mostrar la\n",
    "siguiente información:\n",
    "\n",
    "- ¿Qué valores de la variable han sido medidos?\n",
    "- ¿Con qué frecuencia se presenta cada uno de los valores?\n",
    "\n",
    "Para este fin, se puede construir una tabla estadística que se puede usar para mostrar\n",
    "los datos gráficamente como una distribución de datos. El tipo de gráfica que se escoja\n",
    "depende del tipo de variable que se haya medido.\n",
    "Cuando la variable de interés es cualitativa, la tabla estadística es una lista de las categorías siendo consideradas junto con una medida de la frecuencia con que se presenta\n",
    "cada valor. Se puede medir “la frecuencia” en tres formas diferentes:\n",
    "\n",
    "- La frecuencia o número de mediciones en cada categoría\n",
    "- La frecuencia relativa o proporción de mediciones en cada categoría\n",
    "- El porcentaje de mediciones en cada categoría"
   ]
  },
  {
   "cell_type": "markdown",
   "metadata": {},
   "source": [
    "#### Gráfica de pastel \n",
    "\n",
    "Una vez que a las mediciones se les hayan dado categorías y se resumieron en una\n",
    "tabla estadística, se puede usar ya sea una gráfica de pastel o una gráfica de barras para\n",
    "mostrar la distribución de los datos. Una gráfica de pastel es la conocida gráfica circular que muestra la forma en que están distribuidas las medidas entre las categorías. Una\n",
    "gráfica de barras muestra la misma distribución de medidas en categorías, con la altura\n",
    "de la barra midiendo la frecuencia con la que se observa una categoría en particular."
   ]
  },
  {
   "cell_type": "markdown",
   "metadata": {},
   "source": [
    "La tabla 1.2 muestra las calificaciones junto con las frecuencias, frecuencias relativas,\n",
    "porcentajes y ángulos de sector necesarios para construir la gráfica de pastel. La figura\n",
    "1.3 muestra la gráfica de pastel construida a partir de los valores de la tabla. Mientras\n",
    "que las gráficas de pastel usan porcentajes para determinar los tamaños relativos de\n",
    "las “rebanadas de pastel”, las de barras por lo general grafican frecuencia contra las categorías. Una gráfica de barras para estos datos se muestra en la figura 1.4."
   ]
  },
  {
   "cell_type": "code",
   "execution_count": null,
   "metadata": {},
   "outputs": [],
   "source": []
  },
  {
   "cell_type": "markdown",
   "metadata": {},
   "source": [
    "El impacto visual de estas dos gráficas es un poco diferente. La gráfica de pastel se usa\n",
    "para mostrar las relaciones de las partes con respecto al todo; la gráfica de barras se\n",
    "usa para destacar la cantidad real o frecuencia para cada categoría. Como las categorías\n",
    "en este ejemplo son “calificaciones” ordenadas (A, B, C, D), no desearíamos reacomodar las barras de la gráfica para cambiar su forma. En una gráfica de pastel, el orden de presentación es irrelevante.\n",
    "\n",
    " La gráfica de pastel muestra la forma en que está distribuida la cantidad\n",
    "total entre las categorías y la gráfica de barras usa la altura de la barra para mostrar la\n",
    "cantidad de una categoría en particular."
   ]
  },
  {
   "cell_type": "markdown",
   "metadata": {},
   "source": []
  },
  {
   "cell_type": "markdown",
   "metadata": {},
   "source": [
    "#### Gráficas de líneas\n",
    "\n",
    "Cuando una variable cuantitativa se registra en el tiempo a intervalos igualmente espaciados (por ejemplo diario, semanal, mensual, trimestral o anual), el conjunto de datos\n",
    "forma una serie de tiempo. Los datos de una serie de tiempo se presentan con más efectividad en una gráfica de líneas con el tiempo como eje horizontal. La idea es tratar de\n",
    "distinguir un patrón o tendencia que sea probable de continuar en el futuro y luego usar\n",
    "ese patrón para hacer predicciones precisas para el futuro inmediato."
   ]
  },
  {
   "cell_type": "markdown",
   "metadata": {},
   "source": [
    "\n",
    "<img src=\"../images/grap_2.png\" width=\"800\"/>"
   ]
  },
  {
   "cell_type": "markdown",
   "metadata": {},
   "source": [
    "#### Gráficas de puntos\n",
    "Muchos conjuntos de datos cuantitativos están formados de números que no se pueden\n",
    "separar fácilmente en categorías o intervalos. Entonces se hace necesaria una forma\n",
    "diferente de graficar este tipo de datos.\n",
    "La gráfica más sencilla para datos cuantitativos es la gráfica de puntos. Para un\n",
    "conjunto pequeño de mediciones, por ejemplo el conjunto 2, 6, 9, 3, 7, 6, se puede\n",
    "simplemente graficar las mediciones como puntos en un eje horizontal."
   ]
  },
  {
   "cell_type": "markdown",
   "metadata": {},
   "source": [
    "\n",
    "<img src=\"../images/grap_3.png\" width=\"800\"/>"
   ]
  },
  {
   "cell_type": "markdown",
   "metadata": {},
   "source": [
    "#### HISTOGRAMAS DE FRECUENCIA RELATIVA\n",
    "\n",
    "Un histograma de frecuencia relativa es semejante a una gráfica de barras, pero se usa para\n",
    "graficar cantidades en lugar de datos cualitativos. \n",
    "\n",
    "Primero, dividimos el intervalo de las mediciones más pequeñas a las más grandes en subintervalos o clases de igual longitud. Si se ponen en columna los puntos de cada subintervalo  y se traza\n",
    "una barra sobre cada una de las columnas, se habrá creado un histograma de frecuencia\n",
    "o un histograma de frecuencia relativa, dependiendo de la escala del eje vertical."
   ]
  },
  {
   "cell_type": "markdown",
   "metadata": {},
   "source": [
    "Como regla práctica, el número de clases debe ser de 5 a 12; cuantos más datos haya,\n",
    "más clases se requieren.† Las clases deben ser escogidas para que cada una de las mediciones caiga en una clase y sólo en una.\n",
    "Usando el método de inclusión izquierda e incluyendo el punto de frontera de clase izquierda pero no el\n",
    "punto de frontera derecha en la clase, eliminamos cualquier confusión acerca de dónde\n",
    "poner una medición que resulte caer en un punto de frontera de clase."
   ]
  },
  {
   "cell_type": "markdown",
   "metadata": {},
   "source": [
    "\n",
    "<img src=\"../images/grap_5.png\" alt=\"Drawing\" style=\"width:500px;\"/>"
   ]
  },
  {
   "cell_type": "markdown",
   "metadata": {},
   "source": [
    "Se puede usar un histograma de frecuencia relativa para describir la distribución de\n",
    "un conjunto de datos en términos de su ubicación y forma, y ver si hay resultados atípicos.\n",
    "\n",
    "Por ejemplo, los datos de peso al nacimiento\n",
    "fueron relativamente simétricos, sin mediciones poco comunes, en tanto que los datos\n",
    "de Starbucks estuvieron sesgados a la izquierda. Como la barra construida arriba de cada\n",
    "clase representa la frecuencia relativa o proporción de las mediciones en esa clase, estas\n",
    "alturas se pueden usar para darnos información adicional:\n",
    "\n",
    "- La proporción de las medidas que caen en una clase o grupo particular de clases\n",
    "- La probabilidad de que una medida tomada al azar del conjunto caerá en una\n",
    "\n",
    "clase particular o grupo de clases"
   ]
  },
  {
   "cell_type": "markdown",
   "metadata": {},
   "source": [
    "### DESCRIPCIÓN DE UN CONJUNTO DE DATOS CON MEDIDAS NUMÉRICAS"
   ]
  },
  {
   "cell_type": "markdown",
   "metadata": {},
   "source": [
    "Las gráficas pueden ayudar a describir la forma básica de una distribución de datos.\n",
    "Sabemos que “una imagen vale por mil palabras” pero hay limitaciones para usar grá-\n",
    "ficas. Supongamos que usted necesita presentar sus datos a un grupo de personas y que\n",
    "el foco del proyector de imágenes se quema o que usted necesita describir sus datos por\n",
    "teléfono; no hay modo de ver las gráficas. Necesita entonces hallar otra forma de llevar\n",
    "la imagen mental de los datos a su audiencia.\n",
    "\n",
    "\n",
    "Una segunda limitación es que las gráficas son un tanto imprecisas para usar en inferencia estadística. Por ejemplo, supongamos que desea usar un histograma muestral para\n",
    "hacer inferencias acerca de un histograma poblacional. ¿Cómo puede medir las similitudes y diferencias entre los dos histogramas en alguna forma concreta? Si son idénticas,\n",
    "podría usted decir que son las mismas, pero, si son diferentes, es difícil describir el grado\n",
    "de diferencia.\n",
    "\n",
    "\n",
    "Una forma de superar estos problemas es usar medidas numéricas, que se pueden\n",
    "calcular para una muestra o una población de mediciones. Se pueden usar los datos\n",
    "para calcular un conjunto de números que llevarán una buena imagen mental de la distribución de frecuencia. Estas mediciones se llaman parámetros cuando se asocian con\n",
    "la población y se denominan estadísticas cuando se calculan a partir de mediciones\n",
    "muestrales.\n",
    "\n",
    "__Definición__ Las mediciones descriptivas numéricas asociadas con una población de\n",
    "mediciones se llaman __parámetros__ ; las calculadas a partir de mediciones muestrales\n",
    "reciben el nombre de __estadísticas__."
   ]
  },
  {
   "cell_type": "markdown",
   "metadata": {},
   "source": [
    "#### Medicas de tendencia central"
   ]
  },
  {
   "cell_type": "markdown",
   "metadata": {},
   "source": [
    "La __media aritmética__ se define como la suma de N elementos dividida entre N. Se trata una medida bastante conocida entre la gente, aunque tiene el inconveniente de que es muy susceptible a valores extremos.\n",
    "\n",
    "La __mediana__ es el valor que dentro del conjunto de datos es menor que el 50% de los datos y mayor que el 50% restante.\n",
    "\n",
    "La __moda__ es el valor más repetido (solo aplicable a variables discretas).\n",
    "\n",
    "Para calcular estas medidas, simplemente seleccionamos la variable estadística del DataFrame y usamos los métodos mean, median y mode respectivamente.\n"
   ]
  },
  {
   "cell_type": "markdown",
   "metadata": {},
   "source": [
    "<img src=\"../images/3697.jpg\" width=\"800\"/>\n"
   ]
  },
  {
   "cell_type": "markdown",
   "metadata": {},
   "source": [
    "### MEDIDAS DE VARIABILIDAD\n",
    "\n",
    "Los conjuntos de datos pueden tener el mismo centro pero con aspecto diferente por la\n",
    "forma en que los números se dispersan desde el centro. \n",
    "\n",
    "La variabilidad o dispersión es una muy importante característica de datos.\n",
    "\n",
    "\n",
    "\n",
    "<img src=\" ../images/grap_6.png\" width=\"800\"/>\n",
    "\n",
    "Las medidas de variabilidad pueden ayudarle a crear una imagen mental de la dispersión de los datos. Presentaremos una de las más importantes. La medida más sencilla\n",
    "de variación en el rango.\n",
    "\n",
    "Definición El __rango__, de un conjunto de n mediciones se define como la diferencia entre la medición más grande y la más pequeña."
   ]
  },
  {
   "cell_type": "markdown",
   "metadata": {},
   "source": [
    "\n",
    "<img src=\"../images/grap_7.png\" width=\"800\"/>"
   ]
  },
  {
   "cell_type": "markdown",
   "metadata": {},
   "source": [
    "__Definición__ La __varianza__ de una población de N mediciones es el promedio de los\n",
    "cuadrados de las desviaciones de las mediciones alrededor de su media m. La varianza\n",
    "poblacional se denota con $s^2$ y está dada por la fórmula\n",
    "\n",
    "\n",
    "La mayor parte de las veces, no tendremos todas las mediciones de población disponibles pero necesitaremos calcular la varianza de una muestra de n mediciones.\n",
    "\n",
    "\n",
    "__Definición__ La __varianza__ de una muestra de n mediciones es la suma de las desviaciones cuadradas de las mediciones alrededor la media _ x dividida entre ($n - 1$). La\n",
    "varianza muestral se denota con $s^2$ y está dada por la fórmula"
   ]
  },
  {
   "cell_type": "markdown",
   "metadata": {},
   "source": [
    "__Definición__ La __desviación estándar__ de un conjunto de mediciones es igual a la raíz\n",
    "cuadrada positiva de la varianza."
   ]
  },
  {
   "cell_type": "markdown",
   "metadata": {},
   "source": [
    "__Teorema de Chebyshev__ Dado un número k mayor o igual a 1 y un conjunto de n mediciones, al menos [1 \u0007 (1/k2)] de\n",
    "las mediciones estarán dentro de k desviaciones estándar de su media"
   ]
  },
  {
   "cell_type": "markdown",
   "metadata": {},
   "source": [
    "<img src=\"../images/grap_8.png\" width=\"500\"/>"
   ]
  },
  {
   "cell_type": "markdown",
   "metadata": {},
   "source": [
    "El teorema de __Chebyshev y la Regla empírica__ se pueden usar para detectar errores burdos en el cálculo de s. En términos generales, estas dos herramientas indican que casi\n",
    "siempre las mediciones caen dentro de dos desviaciones estándar de su media. Este\n",
    "intervalo está marcado en la figura , e implica que el rango total de mediciones,\n",
    "de la más pequeña a la más grande, debe estar en algún punto alrededor de cuatro desviaciones estándar. Esto es, desde luego, una aproximación muy burda pero puede ser\n",
    "muy útil para localizar errores grandes en el cálculo de s. Si el rango, R, es de alrededor\n",
    "de cuatro desviaciones estándar, o 4s.\n",
    "\n",
    "\n",
    "La __Regla empírica__ es una “regla práctica” que se puede usar como herramienta\n",
    "descriptiva cuando los datos tienden a ser de forma más o menos de montículo (los\n",
    "datos tienden a apilarse cerca del centro de la distribución)."
   ]
  },
  {
   "cell_type": "markdown",
   "metadata": {},
   "source": [
    "<img src=\"../images/grap_9.png\" width=\"500\"/>"
   ]
  },
  {
   "cell_type": "markdown",
   "metadata": {},
   "source": [
    "### Varianza y desviación estandar\n",
    "Una desviación estándar baja indica que la mayor parte de los datos de una muestra tienden a estar agrupados cerca de su media (también denominada el valor esperado), mientras que una desviación estándar alta indica que los datos se extienden sobre un rango de valores más amplio"
   ]
  },
  {
   "cell_type": "markdown",
   "metadata": {},
   "source": [
    "\n",
    "<img src=\"../images/std__1.png\" width=\"600\"/>"
   ]
  },
  {
   "cell_type": "markdown",
   "metadata": {},
   "source": [
    "obtenemos la media y las tsd:"
   ]
  },
  {
   "cell_type": "markdown",
   "metadata": {},
   "source": [
    "<img src=\"../images/std__2.png\" width=\"600\"/>"
   ]
  },
  {
   "cell_type": "markdown",
   "metadata": {},
   "source": [
    "Físicamente lo que nos dice la std() es :"
   ]
  },
  {
   "cell_type": "markdown",
   "metadata": {},
   "source": [
    "<img src=\"../images/std__3.png\" width=\"400\"/>"
   ]
  },
  {
   "cell_type": "markdown",
   "metadata": {},
   "source": [
    "Ej: Un lago con una profundidad promedio de 1.5 metros"
   ]
  },
  {
   "cell_type": "markdown",
   "metadata": {},
   "source": [
    "<img src=\"../images/std_1.png\" width=\"800\"/>"
   ]
  },
  {
   "cell_type": "markdown",
   "metadata": {},
   "source": [
    "extrictamente, si nos dieran la std=1, el plano sería :"
   ]
  },
  {
   "cell_type": "markdown",
   "metadata": {},
   "source": [
    "<img src=\"../images/std_2.png\" width=\"800\"/>"
   ]
  },
  {
   "cell_type": "markdown",
   "metadata": {},
   "source": [
    "### MEDICIONES DE POSICIÓN RELATIVA"
   ]
  },
  {
   "cell_type": "markdown",
   "metadata": {},
   "source": [
    "__Definición__ El __puntaje z__ muestral es una medida de posición relativa definida. Un puntaje z mide la distancia entre una observación y la media, medidas en unidades de desviación estándar. \n",
    "\n",
    "El _puntaje z_ es una valiosa herramienta para determinar si es probable que una observación particular se presente con frecuencia, o si es improbable y puede ser considerada\n",
    "como resultado atípico."
   ]
  },
  {
   "cell_type": "markdown",
   "metadata": {},
   "source": [
    "## Distribución normal"
   ]
  },
  {
   "cell_type": "markdown",
   "metadata": {},
   "source": [
    "<img src=\"../images/dist_norm_1.png\" width=\"600\"/>"
   ]
  },
  {
   "cell_type": "markdown",
   "metadata": {},
   "source": [
    "<img src=\"../images/std__4.png\" width=\"600\"/>"
   ]
  },
  {
   "cell_type": "markdown",
   "metadata": {},
   "source": [
    "<img src=\"../images/norm_3.png\" width=\"600\"/>"
   ]
  },
  {
   "cell_type": "markdown",
   "metadata": {},
   "source": [
    "<img src=\"../images/norm_4.png\" width=\"600\"/>"
   ]
  },
  {
   "cell_type": "markdown",
   "metadata": {},
   "source": [
    "<img src=\"../images/norm_n.jpg\" width=\"600\"/>\n"
   ]
  },
  {
   "cell_type": "markdown",
   "metadata": {},
   "source": [
    "<img src=\"../images/norm.png\" width=\"400\"/>\n"
   ]
  },
  {
   "cell_type": "markdown",
   "metadata": {},
   "source": [
    "### Normalización"
   ]
  },
  {
   "cell_type": "markdown",
   "metadata": {},
   "source": [
    "En estadística y las aplicaciones de estadísticas, la normalización puede tener una gama de significados. En los casos más sencillos, la normalización de índices significa ajustar los valores medidos en diferentes escalas respecto a una escala común, a menudo previo a un proceso de realizar promedios. En casos más complicados, la normalización puede referirse a ajustes más sofisticados donde la intención es conseguir todas las distribuciones de probabilidad que se ajustan a los valores."
   ]
  },
  {
   "cell_type": "markdown",
   "metadata": {},
   "source": [
    "<img src=\"../images/norm_7.png\" width=\"400\"/>"
   ]
  },
  {
   "cell_type": "markdown",
   "metadata": {},
   "source": [
    "<img src=\"../images/norm_8.png\" width=\"400\"/>"
   ]
  },
  {
   "cell_type": "markdown",
   "metadata": {},
   "source": [
    "la distrinución estandarizada:"
   ]
  },
  {
   "cell_type": "markdown",
   "metadata": {},
   "source": [
    "<img src=\"../images/norm_9.png\" width=\"400\"/>"
   ]
  },
  {
   "cell_type": "markdown",
   "metadata": {},
   "source": [
    "### Tarea"
   ]
  },
  {
   "cell_type": "markdown",
   "metadata": {},
   "source": [
    "__Población__:\n",
    "\n",
    "__Muestra__:\n"
   ]
  }
 ],
 "metadata": {
  "hide_input": false,
  "kernelspec": {
   "display_name": "Python 3 (ipykernel)",
   "language": "python",
   "name": "python3"
  },
  "language_info": {
   "codemirror_mode": {
    "name": "ipython",
    "version": 3
   },
   "file_extension": ".py",
   "mimetype": "text/x-python",
   "name": "python",
   "nbconvert_exporter": "python",
   "pygments_lexer": "ipython3",
   "version": "3.11.4"
  }
 },
 "nbformat": 4,
 "nbformat_minor": 2
}

{
 "cells": [
  {
   "cell_type": "code",
   "execution_count": 1,
   "metadata": {
    "colab": {},
    "colab_type": "code",
    "id": "rB4489UaqA6E"
   },
   "outputs": [],
   "source": [
    "import lightgbm as lgb\n",
    "import pandas as pd\n",
    "import numpy as np\n",
    "from sklearn.metrics import confusion_matrix\n",
    "from math import sqrt\n",
    "from sklearn import metrics"
   ]
  },
  {
   "cell_type": "code",
   "execution_count": 2,
   "metadata": {
    "colab": {
     "base_uri": "https://localhost:8080/",
     "height": 129
    },
    "colab_type": "code",
    "id": "_eJeky70rrA4",
    "outputId": "85c71f79-86dd-4b0c-807d-38242f7f9422"
   },
   "outputs": [
    {
     "name": "stdout",
     "output_type": "stream",
     "text": [
      "Go to this URL in a browser: https://accounts.google.com/o/oauth2/auth?client_id=947318989803-6bn6qk8qdgf4n4g3pfee6491hc0brc4i.apps.googleusercontent.com&redirect_uri=urn%3aietf%3awg%3aoauth%3a2.0%3aoob&response_type=code&scope=email%20https%3a%2f%2fwww.googleapis.com%2fauth%2fdocs.test%20https%3a%2f%2fwww.googleapis.com%2fauth%2fdrive%20https%3a%2f%2fwww.googleapis.com%2fauth%2fdrive.photos.readonly%20https%3a%2f%2fwww.googleapis.com%2fauth%2fpeopleapi.readonly\n",
      "\n",
      "Enter your authorization code:\n",
      "··········\n",
      "Mounted at /content/gdrive\n"
     ]
    }
   ],
   "source": [
    "from google.colab import drive\n",
    "drive.mount('/content/gdrive')"
   ]
  },
  {
   "cell_type": "code",
   "execution_count": 2,
   "metadata": {
    "colab": {},
    "colab_type": "code",
    "id": "ledTGBXQqRIo"
   },
   "outputs": [],
   "source": [
    "param = {\n",
    "    'bagging_freq': 5,\n",
    "    'bagging_fraction': .3,\n",
    "    'boost_from_average':'false',\n",
    "    'boost': 'gbdt',\n",
    "    'feature_fraction': 0.3,\n",
    "    'learning_rate': 0.03,\n",
    "    'max_depth': 3,  \n",
    "    'metric':'auc',\n",
    "    'min_data_in_leaf': 100,\n",
    "    'min_sum_hessian_in_leaf': 10.0,\n",
    "    'num_leaves': 100,\n",
    "    'num_threads': 8,\n",
    "    'tree_learner': 'serial',\n",
    "    'is_unbalance': True,\n",
    "    'objective': 'binary', \n",
    "    'verbosity': 1,\n",
    "}"
   ]
  },
  {
   "cell_type": "code",
   "execution_count": 3,
   "metadata": {
    "colab": {},
    "colab_type": "code",
    "id": "40inV86Q7dJ6"
   },
   "outputs": [],
   "source": [
    "param = {'bagging_fraction': 0.5166,\n",
    "   'bagging_freq': 3,\n",
    "   'lambda_l1': 3.968,\n",
    "   'lambda_l2': 1.263,\n",
    "   'learning_rate': 0.0141,\n",
    "   'max_depth': 3,\n",
    "   'min_data_in_leaf': 17,\n",
    "   'min_gain_to_split': 0.2525,\n",
    "   'min_sum_hessian_in_leaf': 19.55,\n",
    "   'num_leaves': 20,\n",
    "   'feature_fraction': 1,\n",
    "   'save_binary': True,\n",
    "   'seed': 2319,\n",
    "   'feature_fraction_seed': 2319,\n",
    "   'bagging_seed': 2319,\n",
    "   'drop_seed': 2319,\n",
    "   'data_random_seed': 2319,\n",
    "   'objective': 'binary',\n",
    "   'boosting_type': 'gbdt',\n",
    "   'verbosity': -1,\n",
    "   'metric': 'auc',\n",
    "   'is_unbalance': True,\n",
    "   'boost_from_average': 'false',\n",
    "   'num_threads': 6}"
   ]
  },
  {
   "cell_type": "code",
   "execution_count": 3,
   "metadata": {
    "colab": {
     "base_uri": "https://localhost:8080/",
     "height": 256
    },
    "colab_type": "code",
    "id": "RqLnHWOdqXXI",
    "outputId": "df6bb637-f5ec-4036-c0a3-2517297d22c0"
   },
   "outputs": [
    {
     "data": {
      "text/html": [
       "<div>\n",
       "<style scoped>\n",
       "    .dataframe tbody tr th:only-of-type {\n",
       "        vertical-align: middle;\n",
       "    }\n",
       "\n",
       "    .dataframe tbody tr th {\n",
       "        vertical-align: top;\n",
       "    }\n",
       "\n",
       "    .dataframe thead th {\n",
       "        text-align: right;\n",
       "    }\n",
       "</style>\n",
       "<table border=\"1\" class=\"dataframe\">\n",
       "  <thead>\n",
       "    <tr style=\"text-align: right;\">\n",
       "      <th></th>\n",
       "      <th>ID_code</th>\n",
       "      <th>target</th>\n",
       "      <th>var_0</th>\n",
       "      <th>var_1</th>\n",
       "      <th>var_2</th>\n",
       "      <th>var_3</th>\n",
       "      <th>var_4</th>\n",
       "      <th>var_5</th>\n",
       "      <th>var_6</th>\n",
       "      <th>var_7</th>\n",
       "      <th>...</th>\n",
       "      <th>var_190</th>\n",
       "      <th>var_191</th>\n",
       "      <th>var_192</th>\n",
       "      <th>var_193</th>\n",
       "      <th>var_194</th>\n",
       "      <th>var_195</th>\n",
       "      <th>var_196</th>\n",
       "      <th>var_197</th>\n",
       "      <th>var_198</th>\n",
       "      <th>var_199</th>\n",
       "    </tr>\n",
       "  </thead>\n",
       "  <tbody>\n",
       "    <tr>\n",
       "      <th>0</th>\n",
       "      <td>train_0</td>\n",
       "      <td>0</td>\n",
       "      <td>8.9255</td>\n",
       "      <td>-6.7863</td>\n",
       "      <td>11.9081</td>\n",
       "      <td>5.0930</td>\n",
       "      <td>11.4607</td>\n",
       "      <td>-9.2834</td>\n",
       "      <td>5.1187</td>\n",
       "      <td>18.6266</td>\n",
       "      <td>...</td>\n",
       "      <td>4.4354</td>\n",
       "      <td>3.9642</td>\n",
       "      <td>3.1364</td>\n",
       "      <td>1.6910</td>\n",
       "      <td>18.5227</td>\n",
       "      <td>-2.3978</td>\n",
       "      <td>7.8784</td>\n",
       "      <td>8.5635</td>\n",
       "      <td>12.7803</td>\n",
       "      <td>-1.0914</td>\n",
       "    </tr>\n",
       "    <tr>\n",
       "      <th>1</th>\n",
       "      <td>train_1</td>\n",
       "      <td>0</td>\n",
       "      <td>11.5006</td>\n",
       "      <td>-4.1473</td>\n",
       "      <td>13.8588</td>\n",
       "      <td>5.3890</td>\n",
       "      <td>12.3622</td>\n",
       "      <td>7.0433</td>\n",
       "      <td>5.6208</td>\n",
       "      <td>16.5338</td>\n",
       "      <td>...</td>\n",
       "      <td>7.6421</td>\n",
       "      <td>7.7214</td>\n",
       "      <td>2.5837</td>\n",
       "      <td>10.9516</td>\n",
       "      <td>15.4305</td>\n",
       "      <td>2.0339</td>\n",
       "      <td>8.1267</td>\n",
       "      <td>8.7889</td>\n",
       "      <td>18.3560</td>\n",
       "      <td>1.9518</td>\n",
       "    </tr>\n",
       "    <tr>\n",
       "      <th>2</th>\n",
       "      <td>train_2</td>\n",
       "      <td>0</td>\n",
       "      <td>8.6093</td>\n",
       "      <td>-2.7457</td>\n",
       "      <td>12.0805</td>\n",
       "      <td>7.8928</td>\n",
       "      <td>10.5825</td>\n",
       "      <td>-9.0837</td>\n",
       "      <td>6.9427</td>\n",
       "      <td>14.6155</td>\n",
       "      <td>...</td>\n",
       "      <td>2.9057</td>\n",
       "      <td>9.7905</td>\n",
       "      <td>1.6704</td>\n",
       "      <td>1.6858</td>\n",
       "      <td>21.6042</td>\n",
       "      <td>3.1417</td>\n",
       "      <td>-6.5213</td>\n",
       "      <td>8.2675</td>\n",
       "      <td>14.7222</td>\n",
       "      <td>0.3965</td>\n",
       "    </tr>\n",
       "    <tr>\n",
       "      <th>3</th>\n",
       "      <td>train_3</td>\n",
       "      <td>0</td>\n",
       "      <td>11.0604</td>\n",
       "      <td>-2.1518</td>\n",
       "      <td>8.9522</td>\n",
       "      <td>7.1957</td>\n",
       "      <td>12.5846</td>\n",
       "      <td>-1.8361</td>\n",
       "      <td>5.8428</td>\n",
       "      <td>14.9250</td>\n",
       "      <td>...</td>\n",
       "      <td>4.4666</td>\n",
       "      <td>4.7433</td>\n",
       "      <td>0.7178</td>\n",
       "      <td>1.4214</td>\n",
       "      <td>23.0347</td>\n",
       "      <td>-1.2706</td>\n",
       "      <td>-2.9275</td>\n",
       "      <td>10.2922</td>\n",
       "      <td>17.9697</td>\n",
       "      <td>-8.9996</td>\n",
       "    </tr>\n",
       "    <tr>\n",
       "      <th>4</th>\n",
       "      <td>train_4</td>\n",
       "      <td>0</td>\n",
       "      <td>9.8369</td>\n",
       "      <td>-1.4834</td>\n",
       "      <td>12.8746</td>\n",
       "      <td>6.6375</td>\n",
       "      <td>12.2772</td>\n",
       "      <td>2.4486</td>\n",
       "      <td>5.9405</td>\n",
       "      <td>19.2514</td>\n",
       "      <td>...</td>\n",
       "      <td>-1.4905</td>\n",
       "      <td>9.5214</td>\n",
       "      <td>-0.1508</td>\n",
       "      <td>9.1942</td>\n",
       "      <td>13.2876</td>\n",
       "      <td>-1.5121</td>\n",
       "      <td>3.9267</td>\n",
       "      <td>9.5031</td>\n",
       "      <td>17.9974</td>\n",
       "      <td>-8.8104</td>\n",
       "    </tr>\n",
       "  </tbody>\n",
       "</table>\n",
       "<p>5 rows × 202 columns</p>\n",
       "</div>"
      ],
      "text/plain": [
       "   ID_code  target    var_0   var_1    var_2   var_3    var_4   var_5   var_6  \\\n",
       "0  train_0       0   8.9255 -6.7863  11.9081  5.0930  11.4607 -9.2834  5.1187   \n",
       "1  train_1       0  11.5006 -4.1473  13.8588  5.3890  12.3622  7.0433  5.6208   \n",
       "2  train_2       0   8.6093 -2.7457  12.0805  7.8928  10.5825 -9.0837  6.9427   \n",
       "3  train_3       0  11.0604 -2.1518   8.9522  7.1957  12.5846 -1.8361  5.8428   \n",
       "4  train_4       0   9.8369 -1.4834  12.8746  6.6375  12.2772  2.4486  5.9405   \n",
       "\n",
       "     var_7   ...     var_190  var_191  var_192  var_193  var_194  var_195  \\\n",
       "0  18.6266   ...      4.4354   3.9642   3.1364   1.6910  18.5227  -2.3978   \n",
       "1  16.5338   ...      7.6421   7.7214   2.5837  10.9516  15.4305   2.0339   \n",
       "2  14.6155   ...      2.9057   9.7905   1.6704   1.6858  21.6042   3.1417   \n",
       "3  14.9250   ...      4.4666   4.7433   0.7178   1.4214  23.0347  -1.2706   \n",
       "4  19.2514   ...     -1.4905   9.5214  -0.1508   9.1942  13.2876  -1.5121   \n",
       "\n",
       "   var_196  var_197  var_198  var_199  \n",
       "0   7.8784   8.5635  12.7803  -1.0914  \n",
       "1   8.1267   8.7889  18.3560   1.9518  \n",
       "2  -6.5213   8.2675  14.7222   0.3965  \n",
       "3  -2.9275  10.2922  17.9697  -8.9996  \n",
       "4   3.9267   9.5031  17.9974  -8.8104  \n",
       "\n",
       "[5 rows x 202 columns]"
      ]
     },
     "execution_count": 3,
     "metadata": {},
     "output_type": "execute_result"
    }
   ],
   "source": [
    "ruta = 'Data/train.csv'\n",
    "df = pd.read_csv(ruta)\n",
    "df.head()"
   ]
  },
  {
   "cell_type": "code",
   "execution_count": 24,
   "metadata": {
    "colab": {
     "base_uri": "https://localhost:8080/",
     "height": 35
    },
    "colab_type": "code",
    "id": "mDmrJdSLx7g4",
    "outputId": "c78f32c8-d188-458a-a550-6d1829dbc3bb"
   },
   "outputs": [
    {
     "data": {
      "text/plain": [
       "(200000, 202)"
      ]
     },
     "execution_count": 24,
     "metadata": {
      "tags": []
     },
     "output_type": "execute_result"
    }
   ],
   "source": [
    "df.shape"
   ]
  },
  {
   "cell_type": "code",
   "execution_count": 0,
   "metadata": {
    "colab": {},
    "colab_type": "code",
    "id": "cPry7sqCx1HF"
   },
   "outputs": [],
   "source": [
    "df.drop_duplicates( inplace=True, keep='first')"
   ]
  },
  {
   "cell_type": "code",
   "execution_count": 26,
   "metadata": {
    "colab": {
     "base_uri": "https://localhost:8080/",
     "height": 35
    },
    "colab_type": "code",
    "id": "F9-v5Z92x-L8",
    "outputId": "0fc14dd4-220b-403e-bf43-a7a01e489b6b"
   },
   "outputs": [
    {
     "data": {
      "text/plain": [
       "(200000, 202)"
      ]
     },
     "execution_count": 26,
     "metadata": {
      "tags": []
     },
     "output_type": "execute_result"
    }
   ],
   "source": [
    "df.shape"
   ]
  },
  {
   "cell_type": "code",
   "execution_count": 4,
   "metadata": {
    "colab": {},
    "colab_type": "code",
    "id": "tVICNUDSseZc"
   },
   "outputs": [],
   "source": [
    "del df['ID_code']\n",
    "df['target'] =  pd.Categorical(df['target'])\n",
    "df['target'] =  df['target'].cat.codes\n",
    "Y = df['target'].values\n",
    "del df['target']\n",
    "X = df.values"
   ]
  },
  {
   "cell_type": "code",
   "execution_count": 5,
   "metadata": {
    "colab": {
     "base_uri": "https://localhost:8080/",
     "height": 127
    },
    "colab_type": "code",
    "id": "_XvKvdF4Fsdp",
    "outputId": "e019e6d4-7fba-4cce-aedb-b81c960569ed"
   },
   "outputs": [
    {
     "data": {
      "text/plain": [
       "Index(['var_0', 'var_1', 'var_2', 'var_3', 'var_4', 'var_5', 'var_6', 'var_7',\n",
       "       'var_8', 'var_9',\n",
       "       ...\n",
       "       'var_190', 'var_191', 'var_192', 'var_193', 'var_194', 'var_195',\n",
       "       'var_196', 'var_197', 'var_198', 'var_199'],\n",
       "      dtype='object', length=200)"
      ]
     },
     "execution_count": 5,
     "metadata": {},
     "output_type": "execute_result"
    }
   ],
   "source": [
    "features = df.columns\n",
    "features\n"
   ]
  },
  {
   "cell_type": "code",
   "execution_count": 6,
   "metadata": {
    "colab": {},
    "colab_type": "code",
    "id": "ZOsGi-Pssz6v"
   },
   "outputs": [],
   "source": [
    "from sklearn.preprocessing import StandardScaler\n",
    "scaler = StandardScaler()\n",
    "scaler.fit(X)\n",
    "X = scaler.transform(X)"
   ]
  },
  {
   "cell_type": "code",
   "execution_count": 7,
   "metadata": {
    "colab": {},
    "colab_type": "code",
    "id": "omWOe3Xpyjsq"
   },
   "outputs": [],
   "source": [
    "def Find_Optimal_Cutoff(target, predicted):\n",
    "    \"\"\" Find the optimal probability cutoff point for a classification model related to event rate\n",
    "    Parameters\n",
    "    ----------\n",
    "    target : Matrix with dependent or target data, where rows are observations\n",
    "\n",
    "    predicted : Matrix with predicted data, where rows are observations\n",
    "\n",
    "    Returns\n",
    "    -------     \n",
    "    list type, with optimal cutoff value\n",
    "\n",
    "    \"\"\"\n",
    "    fpr, tpr, threshold = roc_curve(target, predicted)\n",
    "    i = np.arange(len(tpr)) \n",
    "    roc = pd.DataFrame({'tf' : pd.Series(tpr-(1-fpr), index=i), 'threshold' : pd.Series(threshold, index=i)})\n",
    "    roc_t = roc.iloc[(roc.tf-0).abs().argsort()[:1]]\n",
    "\n",
    "    return list(roc_t['threshold']) "
   ]
  },
  {
   "cell_type": "code",
   "execution_count": 8,
   "metadata": {
    "colab": {
     "base_uri": "https://localhost:8080/",
     "height": 276
    },
    "colab_type": "code",
    "id": "bI5aDaX6s3BS",
    "outputId": "7ee19e6f-99bd-4311-c8f5-e04b6b889401"
   },
   "outputs": [
    {
     "name": "stdout",
     "output_type": "stream",
     "text": [
      "Fold 0\n",
      "Training until validation scores don't improve for 1000 rounds\n",
      "[1000]\ttraining's auc: 0.906034\tvalid_1's auc: 0.879003\n",
      "[2000]\ttraining's auc: 0.925582\tvalid_1's auc: 0.891883\n",
      "[3000]\ttraining's auc: 0.934914\tvalid_1's auc: 0.895853\n",
      "[4000]\ttraining's auc: 0.942482\tvalid_1's auc: 0.896015\n",
      "Early stopping, best iteration is:\n",
      "[3661]\ttraining's auc: 0.939999\tvalid_1's auc: 0.89649\n",
      "[0.08240265 0.80294865 0.04433571 ... 0.92817002 0.8222961  0.69179565]\n",
      "Confusion Matrix\n",
      "[[ 6256 11735]\n",
      " [   39  1971]]\n",
      "acc:  0.4113294335283236\n",
      "precision 0.5688051197002478\n",
      "Obtener el threshold correcto ...\n",
      "roc_curve:  0.8964903125968734\n",
      "roc_auc_score:  0.8964903125968734\n",
      "threshold:  0.43071525498624286\n",
      "Aplicar Obtener el threshold correcto ...\n",
      "Confusion Matrix\n",
      "[[14660  3331]\n",
      " [  372  1638]]\n",
      "roc_auc_score:  0.8148886217569814\n",
      "Fold 1\n",
      "Training until validation scores don't improve for 1000 rounds\n",
      "[1000]\ttraining's auc: 0.905748\tvalid_1's auc: 0.879798\n",
      "[2000]\ttraining's auc: 0.925607\tvalid_1's auc: 0.89217\n",
      "[3000]\ttraining's auc: 0.935002\tvalid_1's auc: 0.894515\n",
      "[4000]\ttraining's auc: 0.942669\tvalid_1's auc: 0.895184\n",
      "Early stopping, best iteration is:\n",
      "[3453]\ttraining's auc: 0.938553\tvalid_1's auc: 0.895359\n",
      "[0.18198935 0.92913548 0.01583601 ... 0.09316842 0.97664781 0.69905512]\n",
      "Confusion Matrix\n",
      "[[ 6060 11931]\n",
      " [   28  1982]]\n",
      "acc:  0.4020798960051997\n",
      "precision 0.5689287418067203\n",
      "Obtener el threshold correcto ...\n",
      "roc_curve:  0.8953589011199906\n",
      "roc_auc_score:  0.8953589011199906\n",
      "threshold:  0.43766546834370335\n",
      "Aplicar Obtener el threshold correcto ...\n",
      "Confusion Matrix\n",
      "[[14630  3361]\n",
      " [  377  1633]]\n",
      "roc_auc_score:  0.8128110904540164\n",
      "Fold 2\n",
      "Training until validation scores don't improve for 1000 rounds\n",
      "[1000]\ttraining's auc: 0.905951\tvalid_1's auc: 0.876765\n",
      "[2000]\ttraining's auc: 0.925809\tvalid_1's auc: 0.888661\n",
      "[3000]\ttraining's auc: 0.935594\tvalid_1's auc: 0.892342\n",
      "[4000]\ttraining's auc: 0.94318\tvalid_1's auc: 0.892364\n",
      "Early stopping, best iteration is:\n",
      "[3200]\ttraining's auc: 0.937246\tvalid_1's auc: 0.892729\n",
      "[0.03968095 0.1446657  0.03427303 ... 0.76283278 0.77444974 0.90034362]\n",
      "Confusion Matrix\n",
      "[[ 5781 12209]\n",
      " [   36  1974]]\n",
      "acc:  0.38775\n",
      "precision 0.5664959761042909\n",
      "Obtener el threshold correcto ...\n",
      "roc_curve:  0.8927286579885454\n",
      "roc_auc_score:  0.8927286579885454\n",
      "threshold:  0.4369734980613202\n",
      "Aplicar Obtener el threshold correcto ...\n",
      "Confusion Matrix\n",
      "[[14602  3388]\n",
      " [  379  1631]]\n",
      "roc_auc_score:  0.8115579689103122\n",
      "Fold 3\n",
      "Training until validation scores don't improve for 1000 rounds\n",
      "[1000]\ttraining's auc: 0.905858\tvalid_1's auc: 0.881363\n",
      "[2000]\ttraining's auc: 0.925772\tvalid_1's auc: 0.893141\n",
      "[3000]\ttraining's auc: 0.935556\tvalid_1's auc: 0.895315\n",
      "[4000]\ttraining's auc: 0.943251\tvalid_1's auc: 0.895384\n",
      "[5000]\ttraining's auc: 0.950157\tvalid_1's auc: 0.895149\n",
      "Early stopping, best iteration is:\n",
      "[4773]\ttraining's auc: 0.948676\tvalid_1's auc: 0.895866\n",
      "[0.49518001 0.18297377 0.02385566 ... 0.11033606 0.09184762 0.07554191]\n",
      "Confusion Matrix\n",
      "[[ 7284 10706]\n",
      " [   45  1965]]\n",
      "acc:  0.46245\n",
      "precision 0.5744692669770781\n",
      "Obtener el threshold correcto ...\n",
      "roc_curve:  0.8958664432147214\n",
      "roc_auc_score:  0.8958664432147214\n",
      "threshold:  0.4107059630133561\n",
      "Aplicar Obtener el threshold correcto ...\n",
      "Confusion Matrix\n",
      "[[14638  3352]\n",
      " [  375  1635]]\n",
      "roc_auc_score:  0.8135535496503032\n",
      "Fold 4\n",
      "Training until validation scores don't improve for 1000 rounds\n",
      "[1000]\ttraining's auc: 0.905845\tvalid_1's auc: 0.881499\n",
      "[2000]\ttraining's auc: 0.925781\tvalid_1's auc: 0.894093\n",
      "[3000]\ttraining's auc: 0.935239\tvalid_1's auc: 0.896139\n",
      "Early stopping, best iteration is:\n",
      "[2635]\ttraining's auc: 0.932116\tvalid_1's auc: 0.896407\n",
      "[0.92583567 0.74471743 0.86274076 ... 0.91889197 0.33301317 0.6669113 ]\n",
      "Confusion Matrix\n",
      "[[ 4825 13165]\n",
      " [   27  1983]]\n",
      "acc:  0.3404\n",
      "precision 0.5626718275804042\n",
      "Obtener el threshold correcto ...\n",
      "roc_curve:  0.8964070697098167\n",
      "roc_auc_score:  0.8964070697098167\n",
      "threshold:  0.44259338606661003\n",
      "Aplicar Obtener el threshold correcto ...\n",
      "Confusion Matrix\n",
      "[[14587  3403]\n",
      " [  381  1629]]\n",
      "roc_auc_score:  0.8106435581956809\n",
      "Fold 5\n",
      "Training until validation scores don't improve for 1000 rounds\n",
      "[1000]\ttraining's auc: 0.905632\tvalid_1's auc: 0.885358\n",
      "[2000]\ttraining's auc: 0.925321\tvalid_1's auc: 0.89709\n",
      "[3000]\ttraining's auc: 0.93488\tvalid_1's auc: 0.899724\n",
      "[4000]\ttraining's auc: 0.942576\tvalid_1's auc: 0.899368\n",
      "Early stopping, best iteration is:\n",
      "[3504]\ttraining's auc: 0.938827\tvalid_1's auc: 0.9001\n",
      "[0.01053659 0.01210762 0.16904728 ... 0.6612543  0.35228285 0.56911597]\n",
      "Confusion Matrix\n",
      "[[ 6028 11962]\n",
      " [   30  1980]]\n",
      "acc:  0.4004\n",
      "precision 0.5685323989272352\n",
      "Obtener el threshold correcto ...\n",
      "roc_curve:  0.9001004980655367\n",
      "roc_auc_score:  0.9001004980655367\n",
      "threshold:  0.4486101231727587\n",
      "Aplicar Obtener el threshold correcto ...\n",
      "Confusion Matrix\n",
      "[[14745  3245]\n",
      " [  362  1648]]\n",
      "roc_auc_score:  0.8197612548707269\n",
      "Fold 6\n",
      "Training until validation scores don't improve for 1000 rounds\n",
      "[1000]\ttraining's auc: 0.9055\tvalid_1's auc: 0.884826\n",
      "[2000]\ttraining's auc: 0.925092\tvalid_1's auc: 0.896615\n",
      "[3000]\ttraining's auc: 0.934886\tvalid_1's auc: 0.898969\n",
      "[4000]\ttraining's auc: 0.942598\tvalid_1's auc: 0.898703\n",
      "Early stopping, best iteration is:\n",
      "[3796]\ttraining's auc: 0.941069\tvalid_1's auc: 0.899126\n",
      "[0.01668714 0.01668999 0.59549926 ... 0.95147082 0.80417775 0.91879516]\n",
      "Confusion Matrix\n",
      "[[ 6549 11441]\n",
      " [   37  1973]]\n",
      "acc:  0.4261\n",
      "precision 0.5707335787027807\n",
      "Obtener el threshold correcto ...\n",
      "roc_curve:  0.8991260761229981\n",
      "roc_auc_score:  0.8991260761229981\n",
      "threshold:  0.4376810900022209\n",
      "Aplicar Obtener el threshold correcto ...\n",
      "Confusion Matrix\n",
      "[[14771  3219]\n",
      " [  360  1650]]\n",
      "roc_auc_score:  0.8209813909883599\n",
      "Fold 7\n",
      "Training until validation scores don't improve for 1000 rounds\n",
      "[1000]\ttraining's auc: 0.905558\tvalid_1's auc: 0.882412\n",
      "[2000]\ttraining's auc: 0.925124\tvalid_1's auc: 0.895267\n",
      "[3000]\ttraining's auc: 0.93472\tvalid_1's auc: 0.897814\n",
      "[4000]\ttraining's auc: 0.942634\tvalid_1's auc: 0.89779\n",
      "Early stopping, best iteration is:\n",
      "[3529]\ttraining's auc: 0.93899\tvalid_1's auc: 0.898451\n",
      "[0.46348554 0.0697726  0.07992346 ... 0.9690781  0.96822458 0.83306782]\n",
      "Confusion Matrix\n",
      "[[ 6145 11845]\n",
      " [   27  1983]]\n",
      "acc:  0.4064\n",
      "precision 0.5695150455995714\n",
      "Obtener el threshold correcto ...\n",
      "roc_curve:  0.8984509636365143\n",
      "roc_auc_score:  0.8984509636365143\n",
      "threshold:  0.4440638421574878\n",
      "Aplicar Obtener el threshold correcto ...\n",
      "Confusion Matrix\n",
      "[[14803  3187]\n",
      " [  357  1653]]\n",
      "roc_auc_score:  0.8226170426356267\n",
      "Fold 8\n",
      "Training until validation scores don't improve for 1000 rounds\n",
      "[1000]\ttraining's auc: 0.905345\tvalid_1's auc: 0.889793\n",
      "[2000]\ttraining's auc: 0.924763\tvalid_1's auc: 0.900636\n",
      "[3000]\ttraining's auc: 0.934562\tvalid_1's auc: 0.902093\n",
      "[4000]\ttraining's auc: 0.942287\tvalid_1's auc: 0.901787\n",
      "Early stopping, best iteration is:\n",
      "[3215]\ttraining's auc: 0.936304\tvalid_1's auc: 0.90246\n",
      "[0.04884873 0.03060693 0.06523982 ... 0.75132657 0.73944331 0.55129901]\n",
      "Confusion Matrix\n",
      "[[ 5718 12272]\n",
      " [   25  1984]]\n",
      "acc:  0.3851192559627981\n",
      "precision 0.5674081734793326\n",
      "Obtener el threshold correcto ...\n",
      "roc_curve:  0.9024599419344467\n",
      "roc_auc_score:  0.9024599419344467\n",
      "threshold:  0.4568485212654953\n",
      "Aplicar Obtener el threshold correcto ...\n",
      "Confusion Matrix\n",
      "[[14768  3222]\n",
      " [  360  1649]]\n",
      "roc_auc_score:  0.8208534358034758\n",
      "Fold 9\n",
      "Training until validation scores don't improve for 1000 rounds\n",
      "[1000]\ttraining's auc: 0.905592\tvalid_1's auc: 0.883952\n",
      "[2000]\ttraining's auc: 0.925494\tvalid_1's auc: 0.895926\n",
      "[3000]\ttraining's auc: 0.935133\tvalid_1's auc: 0.898888\n",
      "[4000]\ttraining's auc: 0.942839\tvalid_1's auc: 0.898709\n",
      "Early stopping, best iteration is:\n",
      "[3050]\ttraining's auc: 0.935565\tvalid_1's auc: 0.89909\n",
      "[0.45497528 0.09775334 0.56730687 ... 0.31802561 0.33570959 0.05596924]\n",
      "Confusion Matrix\n",
      "[[ 5522 12468]\n",
      " [   32  1977]]\n",
      "acc:  0.3749687484374219\n",
      "precision 0.5655511767593993\n",
      "Obtener el threshold correcto ...\n",
      "roc_curve:  0.8990896441278283\n",
      "roc_auc_score:  0.8990896441278283\n",
      "threshold:  0.4464020885912916\n",
      "Aplicar Obtener el threshold correcto ...\n",
      "Confusion Matrix\n",
      "[[14706  3284]\n",
      " [  366  1643]]\n",
      "roc_auc_score:  0.8176369760203598\n"
     ]
    }
   ],
   "source": [
    "from sklearn.model_selection import StratifiedKFold\n",
    "from sklearn.metrics import roc_auc_score, roc_curve\n",
    "\n",
    "folds = StratifiedKFold(n_splits=10, shuffle=False, random_state=44000)\n",
    "\n",
    "cv_real = []\n",
    "cv_pred = []\n",
    "cv_thresholds = []\n",
    "\n",
    "feature_importance_df = pd.DataFrame()\n",
    "\n",
    "for fold_, (trn_idx, val_idx) in enumerate(folds.split(X, Y)):\n",
    "    print(\"Fold {}\".format(fold_))\n",
    "    trn_data = lgb.Dataset(X[trn_idx], label=Y[trn_idx])\n",
    "    val_data = lgb.Dataset(X[val_idx], label=Y[val_idx])\n",
    "\n",
    "\n",
    "\n",
    "\n",
    "    num_round = 1000000\n",
    "    clf = lgb.train(param, trn_data, num_round, valid_sets = [trn_data,val_data], verbose_eval=1000, early_stopping_rounds = 1000)\n",
    "    \n",
    "    \n",
    "    ###########################################################################################\n",
    "    \n",
    "    y_pred = clf.predict(X[val_idx], num_iteration=clf.best_iteration)\n",
    "    print(y_pred)\n",
    "    cv_real.extend(Y[val_idx])\n",
    "    cv_pred.extend(y_pred)\n",
    "\n",
    "    cm = confusion_matrix(Y[val_idx], y_pred>0.1)\n",
    "    print (\"Confusion Matrix\")\n",
    "    print (cm)\n",
    "\n",
    "    acc = metrics.accuracy_score(Y[val_idx],  y_pred>0.1)\n",
    "    precision = metrics.precision_score(Y[val_idx],  y_pred>0.1, average='macro')\n",
    "\n",
    "    print(\"acc: \",acc )\n",
    "    print(\"precision\", precision)\n",
    "\n",
    "    print(\"Obtener el threshold correcto ...\")\n",
    "    false_positive_rate, true_positive_rate, thresholds_ = metrics.roc_curve(Y[val_idx], y_pred)\n",
    "    auc = metrics.auc(false_positive_rate, true_positive_rate)\n",
    "    print(\"roc_curve: \", auc)\n",
    "    roc_auc_score = metrics.roc_auc_score(Y[val_idx], y_pred)\n",
    "    print(\"roc_auc_score: \", roc_auc_score)\n",
    "\n",
    "    threshold = Find_Optimal_Cutoff(Y[val_idx], y_pred)\n",
    "    print(\"threshold: \", threshold[0])\n",
    "    cv_thresholds.extend(threshold)\n",
    "\n",
    "\n",
    "    print(\"Aplicar Obtener el threshold correcto ...\")\n",
    "    y_pred = (clf.predict(X[val_idx], num_iteration=clf.best_iteration) > threshold[0])\n",
    "    cm = confusion_matrix(Y[val_idx], y_pred)\n",
    "    print (\"Confusion Matrix\")\n",
    "    print (cm)\n",
    "\n",
    "    false_positive_rate, true_positive_rate, thresholds_ = metrics.roc_curve(Y[val_idx], y_pred)\n",
    "    auc = metrics.auc(false_positive_rate, true_positive_rate)\n",
    "  \n",
    "\n",
    "    roc_auc_score = metrics.roc_auc_score(Y[val_idx], y_pred)\n",
    "    print(\"roc_auc_score: \", roc_auc_score)\n",
    "\n",
    "\n",
    "    fold_importance_df = pd.DataFrame()\n",
    "    fold_importance_df[\"Feature\"] = features\n",
    "    fold_importance_df[\"importance\"] = clf.feature_importance()\n",
    "    fold_importance_df[\"fold\"] = fold_ + 1\n",
    "    feature_importance_df = pd.concat([feature_importance_df, fold_importance_df], axis=0)\n",
    "    \n",
    "\n",
    "\n"
   ]
  },
  {
   "cell_type": "code",
   "execution_count": 18,
   "metadata": {
    "colab": {},
    "colab_type": "code",
    "id": "LggLW3QHz6Ly"
   },
   "outputs": [
    {
     "data": {
      "text/plain": [
       "0.8973690628961856"
      ]
     },
     "execution_count": 18,
     "metadata": {},
     "output_type": "execute_result"
    }
   ],
   "source": [
    "metrics.roc_auc_score(cv_real,cv_pred)"
   ]
  },
  {
   "cell_type": "code",
   "execution_count": 40,
   "metadata": {
    "colab": {
     "base_uri": "https://localhost:8080/",
     "height": 109
    },
    "colab_type": "code",
    "id": "beWyNoAxG_Br",
    "outputId": "6bd103eb-cfc0-4a6a-b66d-ae0af244abde"
   },
   "outputs": [
    {
     "name": "stdout",
     "output_type": "stream",
     "text": [
      "roc_curve:  0.6292373833402928\n",
      "roc_auc_score:  0.6292373833402928\n",
      "Confusion Matrix\n",
      "[[178880   1022]\n",
      " [ 14789   5309]]\n"
     ]
    }
   ],
   "source": [
    "false_positive_rate, true_positive_rate, thresholds_ = metrics.roc_curve(Y,oof)\n",
    "auc = metrics.auc(false_positive_rate, true_positive_rate)\n",
    "print(\"roc_curve: \", auc)\n",
    "roc_auc_score = metrics.roc_auc_score(Y, oof)\n",
    "print(\"roc_auc_score: \", roc_auc_score)\n",
    "\n",
    "\n",
    "cm = confusion_matrix(Y, oof)\n",
    "print (\"Confusion Matrix\")\n",
    "print (cm)"
   ]
  },
  {
   "cell_type": "code",
   "execution_count": 0,
   "metadata": {
    "colab": {},
    "colab_type": "code",
    "id": "Ctxm2mrAHAPu"
   },
   "outputs": [],
   "source": [
    "tn, fp, fn, tp = confusion_matrix([0, 1, 0, 1], [1, 1, 1, 0]).ravel()"
   ]
  },
  {
   "cell_type": "code",
   "execution_count": 42,
   "metadata": {
    "colab": {
     "base_uri": "https://localhost:8080/",
     "height": 54
    },
    "colab_type": "code",
    "id": "CzkhYiO073ps",
    "outputId": "1432424a-7989-406e-9d82-6fdce657146a"
   },
   "outputs": [
    {
     "data": {
      "text/plain": [
       "array([[0, 2],\n",
       "       [1, 1]])"
      ]
     },
     "execution_count": 42,
     "metadata": {
      "tags": []
     },
     "output_type": "execute_result"
    }
   ],
   "source": [
    " confusion_matrix([0, 1, 0, 1], [1, 1, 1, 0])"
   ]
  },
  {
   "cell_type": "code",
   "execution_count": 43,
   "metadata": {
    "colab": {
     "base_uri": "https://localhost:8080/",
     "height": 35
    },
    "colab_type": "code",
    "id": "pz_o5jFJ76PK",
    "outputId": "f6c490be-939e-4e5a-8c1f-12465f3a59b4"
   },
   "outputs": [
    {
     "data": {
      "text/plain": [
       "(0, 2, 1, 1)"
      ]
     },
     "execution_count": 43,
     "metadata": {
      "tags": []
     },
     "output_type": "execute_result"
    }
   ],
   "source": [
    "tn, fp, fn, tp"
   ]
  },
  {
   "cell_type": "code",
   "execution_count": 29,
   "metadata": {},
   "outputs": [
    {
     "data": {
      "text/plain": [
       "array([[ 1.97587719, -0.58607933, -2.52157124, ...,  0.47015451,\n",
       "         1.56094515,  0.99612985],\n",
       "       [ 0.89603199, -0.74528385, -0.30561523, ..., -1.09668324,\n",
       "        -1.00561084,  1.71384907],\n",
       "       [-0.34363376,  0.02901586, -0.0251468 , ...,  1.32079613,\n",
       "        -0.81297923,  0.17929989],\n",
       "       ...,\n",
       "       [-1.40784668, -0.97644548, -1.69231018, ..., -0.96385166,\n",
       "        -0.55447149,  0.24070977],\n",
       "       [-0.67620196, -0.67179368,  0.37963812, ...,  0.08583192,\n",
       "         0.3150405 ,  0.00970278],\n",
       "       [ 0.19677662,  0.4212418 , -0.35077952, ..., -1.1047794 ,\n",
       "         0.07046183,  0.72320794]])"
      ]
     },
     "execution_count": 29,
     "metadata": {},
     "output_type": "execute_result"
    }
   ],
   "source": [
    "X"
   ]
  },
  {
   "cell_type": "code",
   "execution_count": 20,
   "metadata": {},
   "outputs": [],
   "source": []
  },
  {
   "cell_type": "code",
   "execution_count": 30,
   "metadata": {
    "colab": {},
    "colab_type": "code",
    "id": "kM5gxmlA79Kk"
   },
   "outputs": [],
   "source": []
  },
  {
   "cell_type": "code",
   "execution_count": 32,
   "metadata": {},
   "outputs": [
    {
     "data": {
      "text/plain": [
       "270"
      ]
     },
     "execution_count": 32,
     "metadata": {},
     "output_type": "execute_result"
    }
   ],
   "source": [
    "45*6"
   ]
  },
  {
   "cell_type": "code",
   "execution_count": 33,
   "metadata": {},
   "outputs": [
    {
     "ename": "NameError",
     "evalue": "name 'Sequential' is not defined",
     "output_type": "error",
     "traceback": [
      "\u001b[1;31m---------------------------------------------------------------------------\u001b[0m",
      "\u001b[1;31mNameError\u001b[0m                                 Traceback (most recent call last)",
      "\u001b[1;32m<ipython-input-33-c2c42fd5f606>\u001b[0m in \u001b[0;36m<module>\u001b[1;34m()\u001b[0m\n\u001b[1;32m----> 1\u001b[1;33m \u001b[0mmodel\u001b[0m \u001b[1;33m=\u001b[0m \u001b[0mSequential\u001b[0m\u001b[1;33m(\u001b[0m\u001b[1;33m)\u001b[0m\u001b[1;33m\u001b[0m\u001b[0m\n\u001b[0m\u001b[0;32m      2\u001b[0m \u001b[0mmodel\u001b[0m\u001b[1;33m.\u001b[0m\u001b[0madd\u001b[0m\u001b[1;33m(\u001b[0m\u001b[0mConv1D\u001b[0m\u001b[1;33m(\u001b[0m\u001b[0mfilters\u001b[0m\u001b[1;33m=\u001b[0m\u001b[1;36m32\u001b[0m\u001b[1;33m,\u001b[0m \u001b[0mkernel_size\u001b[0m\u001b[1;33m=\u001b[0m\u001b[1;36m5\u001b[0m\u001b[1;33m,\u001b[0m \u001b[0minput_shape\u001b[0m\u001b[1;33m=\u001b[0m\u001b[1;33m(\u001b[0m\u001b[1;36m45\u001b[0m\u001b[1;33m,\u001b[0m \u001b[1;36m6\u001b[0m\u001b[1;33m)\u001b[0m\u001b[1;33m)\u001b[0m\u001b[1;33m)\u001b[0m\u001b[1;33m\u001b[0m\u001b[0m\n\u001b[0;32m      3\u001b[0m \u001b[0mmodel\u001b[0m\u001b[1;33m.\u001b[0m\u001b[0madd\u001b[0m\u001b[1;33m(\u001b[0m\u001b[0mMaxPooling1D\u001b[0m\u001b[1;33m(\u001b[0m\u001b[0mpool_size\u001b[0m\u001b[1;33m=\u001b[0m\u001b[1;36m5\u001b[0m \u001b[1;33m)\u001b[0m\u001b[1;33m)\u001b[0m\u001b[1;33m\u001b[0m\u001b[0m\n\u001b[0;32m      4\u001b[0m \u001b[1;33m\u001b[0m\u001b[0m\n\u001b[0;32m      5\u001b[0m \u001b[0mmodel\u001b[0m\u001b[1;33m.\u001b[0m\u001b[0madd\u001b[0m\u001b[1;33m(\u001b[0m\u001b[0mFlatten\u001b[0m\u001b[1;33m(\u001b[0m\u001b[1;33m)\u001b[0m\u001b[1;33m)\u001b[0m\u001b[1;33m\u001b[0m\u001b[0m\n",
      "\u001b[1;31mNameError\u001b[0m: name 'Sequential' is not defined"
     ]
    }
   ],
   "source": []
  },
  {
   "cell_type": "code",
   "execution_count": null,
   "metadata": {},
   "outputs": [],
   "source": []
  }
 ],
 "metadata": {
  "accelerator": "TPU",
  "colab": {
   "name": " Light GBM.ipynb",
   "provenance": []
  },
  "kernelspec": {
   "display_name": "Python 3",
   "language": "python",
   "name": "python3"
  },
  "language_info": {
   "codemirror_mode": {
    "name": "ipython",
    "version": 3
   },
   "file_extension": ".py",
   "mimetype": "text/x-python",
   "name": "python",
   "nbconvert_exporter": "python",
   "pygments_lexer": "ipython3",
   "version": "3.7.4"
  }
 },
 "nbformat": 4,
 "nbformat_minor": 1
}

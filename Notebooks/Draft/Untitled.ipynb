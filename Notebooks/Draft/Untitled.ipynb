{
 "cells": [
  {
   "cell_type": "code",
   "execution_count": 11,
   "id": "3095803f",
   "metadata": {},
   "outputs": [],
   "source": [
    "# ! pip install d3graph\n",
    "# ! pip install selenium"
   ]
  },
  {
   "cell_type": "code",
   "execution_count": 26,
   "id": "cc68713a",
   "metadata": {},
   "outputs": [
    {
     "name": "stderr",
     "output_type": "stream",
     "text": [
      "[d3graph] INFO> Import dataset [bigbang]\n",
      "[d3graph] INFO> Set directed=True to see the markers!\n",
      "[d3graph] INFO> Keep only edges with weight>0\n",
      "[d3graph] INFO> Number of unique nodes: 7\n"
     ]
    }
   ],
   "source": [
    "from d3graph import d3graph\n",
    "size = [10, 20, 10, 10, 15, 10, 5]\n",
    "\n",
    "# Initialize\n",
    "d3 = d3graph()\n",
    "# Load example\n",
    "adjmat = d3.import_example('bigbang')\n",
    "# Process adjmat\n",
    "d3.graph(adjmat)\n",
    "\n",
    "# Create graph in notebook\n",
    "# d3.show(filepath=None, notebook=True)"
   ]
  },
  {
   "cell_type": "code",
   "execution_count": 25,
   "id": "ad867094",
   "metadata": {},
   "outputs": [
    {
     "name": "stderr",
     "output_type": "stream",
     "text": [
      "[d3graph] INFO> Slider range is set to [1, 10]\n",
      "[d3graph] INFO> Write to path: [/Users/developer6/Documents/Proyectos/IA_/Machine learning _ Data Mining/test.html]\n",
      "[d3graph] INFO> File already exists and will be overwritten: [/Users/developer6/Documents/Proyectos/IA_/Machine learning _ Data Mining/test.html]\n"
     ]
    }
   ],
   "source": [
    "d3.show(filepath='./test.html', notebook=False)"
   ]
  },
  {
   "cell_type": "code",
   "execution_count": 27,
   "id": "b4ec43ed",
   "metadata": {},
   "outputs": [
    {
     "data": {
      "text/html": [
       "<div>\n",
       "<style scoped>\n",
       "    .dataframe tbody tr th:only-of-type {\n",
       "        vertical-align: middle;\n",
       "    }\n",
       "\n",
       "    .dataframe tbody tr th {\n",
       "        vertical-align: top;\n",
       "    }\n",
       "\n",
       "    .dataframe thead th {\n",
       "        text-align: right;\n",
       "    }\n",
       "</style>\n",
       "<table border=\"1\" class=\"dataframe\">\n",
       "  <thead>\n",
       "    <tr style=\"text-align: right;\">\n",
       "      <th>target</th>\n",
       "      <th>Amy</th>\n",
       "      <th>Bernadette</th>\n",
       "      <th>Howard</th>\n",
       "      <th>Leonard</th>\n",
       "      <th>Penny</th>\n",
       "      <th>Rajesh</th>\n",
       "      <th>Sheldon</th>\n",
       "    </tr>\n",
       "    <tr>\n",
       "      <th>source</th>\n",
       "      <th></th>\n",
       "      <th></th>\n",
       "      <th></th>\n",
       "      <th></th>\n",
       "      <th></th>\n",
       "      <th></th>\n",
       "      <th></th>\n",
       "    </tr>\n",
       "  </thead>\n",
       "  <tbody>\n",
       "    <tr>\n",
       "      <th>Amy</th>\n",
       "      <td>0.0</td>\n",
       "      <td>2.0</td>\n",
       "      <td>0.0</td>\n",
       "      <td>0.0</td>\n",
       "      <td>0.0</td>\n",
       "      <td>0.0</td>\n",
       "      <td>0.0</td>\n",
       "    </tr>\n",
       "    <tr>\n",
       "      <th>Bernadette</th>\n",
       "      <td>0.0</td>\n",
       "      <td>0.0</td>\n",
       "      <td>5.0</td>\n",
       "      <td>0.0</td>\n",
       "      <td>0.0</td>\n",
       "      <td>2.0</td>\n",
       "      <td>0.0</td>\n",
       "    </tr>\n",
       "    <tr>\n",
       "      <th>Howard</th>\n",
       "      <td>0.0</td>\n",
       "      <td>0.0</td>\n",
       "      <td>0.0</td>\n",
       "      <td>0.0</td>\n",
       "      <td>0.0</td>\n",
       "      <td>0.0</td>\n",
       "      <td>0.0</td>\n",
       "    </tr>\n",
       "    <tr>\n",
       "      <th>Leonard</th>\n",
       "      <td>0.0</td>\n",
       "      <td>0.0</td>\n",
       "      <td>0.0</td>\n",
       "      <td>0.0</td>\n",
       "      <td>0.0</td>\n",
       "      <td>0.0</td>\n",
       "      <td>0.0</td>\n",
       "    </tr>\n",
       "    <tr>\n",
       "      <th>Penny</th>\n",
       "      <td>3.0</td>\n",
       "      <td>0.0</td>\n",
       "      <td>0.0</td>\n",
       "      <td>5.0</td>\n",
       "      <td>0.0</td>\n",
       "      <td>0.0</td>\n",
       "      <td>0.0</td>\n",
       "    </tr>\n",
       "    <tr>\n",
       "      <th>Rajesh</th>\n",
       "      <td>0.0</td>\n",
       "      <td>0.0</td>\n",
       "      <td>0.0</td>\n",
       "      <td>0.0</td>\n",
       "      <td>10.0</td>\n",
       "      <td>0.0</td>\n",
       "      <td>0.0</td>\n",
       "    </tr>\n",
       "    <tr>\n",
       "      <th>Sheldon</th>\n",
       "      <td>5.0</td>\n",
       "      <td>0.0</td>\n",
       "      <td>2.0</td>\n",
       "      <td>3.0</td>\n",
       "      <td>0.0</td>\n",
       "      <td>0.0</td>\n",
       "      <td>0.0</td>\n",
       "    </tr>\n",
       "  </tbody>\n",
       "</table>\n",
       "</div>"
      ],
      "text/plain": [
       "target      Amy  Bernadette  Howard  Leonard  Penny  Rajesh  Sheldon\n",
       "source                                                              \n",
       "Amy         0.0         2.0     0.0      0.0    0.0     0.0      0.0\n",
       "Bernadette  0.0         0.0     5.0      0.0    0.0     2.0      0.0\n",
       "Howard      0.0         0.0     0.0      0.0    0.0     0.0      0.0\n",
       "Leonard     0.0         0.0     0.0      0.0    0.0     0.0      0.0\n",
       "Penny       3.0         0.0     0.0      5.0    0.0     0.0      0.0\n",
       "Rajesh      0.0         0.0     0.0      0.0   10.0     0.0      0.0\n",
       "Sheldon     5.0         0.0     2.0      3.0    0.0     0.0      0.0"
      ]
     },
     "execution_count": 27,
     "metadata": {},
     "output_type": "execute_result"
    }
   ],
   "source": [
    "adjmat"
   ]
  },
  {
   "cell_type": "code",
   "execution_count": null,
   "id": "70c98674",
   "metadata": {},
   "outputs": [],
   "source": []
  }
 ],
 "metadata": {
  "kernelspec": {
   "display_name": "Python 3 (ipykernel)",
   "language": "python",
   "name": "python3"
  },
  "language_info": {
   "codemirror_mode": {
    "name": "ipython",
    "version": 3
   },
   "file_extension": ".py",
   "mimetype": "text/x-python",
   "name": "python",
   "nbconvert_exporter": "python",
   "pygments_lexer": "ipython3",
   "version": "3.11.4"
  }
 },
 "nbformat": 4,
 "nbformat_minor": 5
}

{
 "cells": [
  {
   "cell_type": "markdown",
   "metadata": {},
   "source": [
    "<div class=\"jumbotron\">\n",
    "  <h1><i class=\"fa fa-bar-chart\" aria-hidden=\"true\"></i> k-NN  </h1>\n",
    "  <p></p>\n",
    "</div>"
   ]
  },
  {
   "cell_type": "code",
   "execution_count": 75,
   "metadata": {},
   "outputs": [],
   "source": [
    "# Inicializar el ambiente\n",
    "import numpy as np\n",
    "import pandas as pd\n",
    "import math\n",
    "import random\n",
    "import time\n",
    "import os\n",
    "import sys\n",
    "from scipy.spatial import distance\n",
    "from sklearn import cluster\n",
    "from matplotlib import pyplot as plt\n",
    "%matplotlib inline\n",
    "np.set_printoptions(precision=2, suppress=True) # Cortar la impresión de decimales a 1"
   ]
  },
  {
   "cell_type": "code",
   "execution_count": 76,
   "metadata": {},
   "outputs": [],
   "source": [
    "k_means = None\n",
    "neighbors = None\n",
    "neighbors_dists = None "
   ]
  },
  {
   "cell_type": "code",
   "execution_count": 77,
   "metadata": {},
   "outputs": [],
   "source": [
    "def classify_point(k_neighs):\n",
    "    global neighbors\n",
    "    global neighbors_dists \n",
    "    LARGER_DISTANCE = sys.maxsize\n",
    "\n",
    "    neighbors_dists = [LARGER_DISTANCE] * k_neighs\n",
    "    neighbors = [0] * k_neighs\n",
    "\n",
    "    for i in range(len(train_set)):\n",
    "        dist = distance.euclidean(train_set.iloc[i].tolist(), test_point)\n",
    "        \n",
    "        for k in range(k_neighs):\n",
    "            if (dist < neighbors_dists[k]) :\n",
    "                for j in range(k_neighs-1, k, -1):\n",
    "                    neighbors_dists[j] = neighbors_dists[j-1]\n",
    "                    neighbors[j] = neighbors[j-1] \n",
    "                neighbors_dists[k] = dist\n",
    "                neighbors[k] = i\n",
    "                break\n",
    "\n",
    "    print(\"Los {} vecinos más próximos son:\".format(k_neighs))\n",
    "\n",
    "\n",
    "    for k in range(k_neighs):\n",
    "        clase = k_means.labels_[neighbors[k]]\n",
    "        print(\"Vecino {}: {}, dist={}, clase={}, centroide={}\"\n",
    "              .format(k, neighbors[k], neighbors_dists[k], \n",
    "                      clase, k_means.cluster_centers_[clase]))\n",
    "\n",
    "\n",
    "    print(\"\\nEl nuevo punto es asignado a la clase\", k_means.labels_[neighbors[0]])"
   ]
  },
  {
   "cell_type": "code",
   "execution_count": 78,
   "metadata": {},
   "outputs": [],
   "source": [
    "#número de cluster a graficar\n",
    "num_clusters = 3"
   ]
  },
  {
   "cell_type": "code",
   "execution_count": 79,
   "metadata": {},
   "outputs": [],
   "source": [
    "def draw_graph(num_clusters):\n",
    "    #código para gráfico\n",
    "    global k_means\n",
    "    k_means = cluster.KMeans(n_clusters=num_clusters, init='random')\n",
    "    k_means.fit(train_set) \n",
    "    print(\"Prototipos de clase (centroides):\\n\", k_means.cluster_centers_)\n",
    "\n",
    "    fig = plt.figure(figsize=(8, 5))\n",
    "    colors = ['#ff0000', '#00ff00', '#0000ff']\n",
    "\n",
    "\n",
    "    for k in range(num_clusters):\n",
    "        my_members = k_means.labels_ == k\n",
    "        plt.plot(train_set[my_members][0], train_set[my_members][1], 'o', \n",
    "                 markeredgecolor='k', markerfacecolor=colors[k], markersize=4)\n",
    "        plt.plot(k_means.cluster_centers_[k][0], k_means.cluster_centers_[k][1], 'o', \n",
    "                 markeredgecolor='k', markerfacecolor=colors[k], markersize=6)\n",
    "\n",
    "\n",
    "        plt.annotate(str(test_point), xy=(test_point[0], test_point[1]), xytext=(40, 50),\n",
    "                arrowprops=dict(facecolor='black', shrink=0.1, width=1, headwidth=7))\n",
    "\n",
    "    plt.plot(test_point[0], test_point[1], 'y', marker='*', markersize=15)\n",
    "\n",
    "    plt.xlim([-10,110])\n",
    "    plt.ylim([-10,100])\n",
    "    plt.show()"
   ]
  },
  {
   "cell_type": "markdown",
   "metadata": {},
   "source": [
    "# k Vecinos más cercanos\n",
    "\n",
    "\n"
   ]
  },
  {
   "cell_type": "markdown",
   "metadata": {},
   "source": [
    "## Definición\n",
    "\n",
    "Se entiende por **clasificación** el proceso de identificar a qué conjunto de categorías o *clases* pertenece una nueva observación, <u>usualmente</u> sobre la base de un conjunto de elementos cuya pertenencia a una categoría ya es conocida.\n",
    "\n",
    "![ ](images/classification_sorting.png)\n",
    "\n",
    "El *clustering* se socia con el *aprendizaje no supervisado* y la *clasificación* con el *aprendizaje supervisado*.\n",
    "\n",
    "Entre los métodos más populares de clasificación se encuentran los siguientes:\n",
    "\n",
    "* El método de $k$-vecinos próximos\n",
    "\n",
    "* El clasificador ingenuo de Bayes\n",
    "\n",
    "* Los árboles de decisión\n",
    "\n",
    "* Las máquinas de soporte vectorial\n",
    "\n",
    "* Las redes neuronales\n",
    "\n",
    "\n",
    "\n",
    "## Técnicas de clasificación: El método de $k$-vecinos más cercanos\n",
    "\n",
    "\n",
    "El método de **$k$-vecinos más cercanos** (o simplemente k-NN) es un método de *aprendizaje basado en instancias y basado en distancias* (*lazy learning*). Esto significa que el aprendizaje no conduce a una generalización: no existe una fase de entrenamiento (o es muy breve) y en su lugar el método mantiene todos los datos disponibles y los emplea para realizar la clasificación. \n",
    "\n",
    "En el  aprendizaje basado en instancias, se almacenan los ejemplos de entrenamiento y cuando se quiere clasificar un nuevo objeto, se extraen los objetos más parecidos de entre todas las muestras y se usa su clasificación para clasificar al nuevo objeto.\n",
    "\n",
    "Para poder unir variables o individuos es necesario tener algunas medidas numéricas que caractericen las relaciones entre las variables o los individuos. Cada medida refleja asociación en un sentido particular y es necesario elegir una medida apropiada para el problema concreto que se esté tratando. La medida de asociación puede ser una\n",
    "distancia o una similaridad. k-NN  es basado en distancias por que la relevancia de los datos se mide en función de una medida de distancia o similariadad.\n",
    "\n",
    "\n",
    "#### Funciones de Distancia\n",
    "-  Euclidea\n",
    "-  Euclidea normalizada\n",
    "-  Manhattan\n",
    "-  Chebyshev\n",
    "-  Minmowiski\n",
    "-  Mahalanobis\n",
    "\n",
    "\n",
    "#### Medidas de similaridad\n",
    "\n",
    "- Coeficiente de correlación de Pearson\n",
    "- Coeficiente de correlación por rangos de Kendall\n",
    "- Coeficiente de correlaciónSpearman\n",
    "\n",
    "\n",
    "Cuando se elige una distancia como medida de asociación (por ejemplo la distancia euclídea) los grupos formados contendrán individuos parecidos de forma que la distancia entre ellos ha de ser pequeña.\n",
    "\n",
    "Cuando se elige una medida de similaridad (por ejemplo el coeficiente de correlación) los grupos formados contendrán individuos con una similaridad alta entre ellos.\n",
    "\n",
    "\n",
    "k-NN es un método de aprendizaje *no paramétrico*, es decir, no asume una distribución específica de los datos; en particular, no requiere distribuciones *bien comportadas* (que sigan una distribución normal o que sean separables linealmente, por ejemplo).\n",
    "\n",
    "k-NN puede emplearse para clasificación o para regresión. Este último caso se analizará en una lección posterior.\n",
    "\n",
    "\n",
    "\n",
    "\n",
    "### Algoritmo\n",
    "\n",
    "El algoritmo k-NN es muy intuitivo: Asumimos que tenemos un conjunto de vectores previamente clasificados y que debemos clasificar un nuevo vector. \n",
    "\n",
    "![ ](images/knn1.png)\n",
    "\n",
    "El proceso consiste en buscar los $k$ vectores ya clasificados que sean más cercanos al nuevo vector; la clase del nuevo vector se determina mediante un proceso de votación: el vector es asignado a aquella clase que tenga más representantes dentro de los $k$ vecinos.\n",
    "\n",
    "\n",
    "<img src=\"images/knn_.png\" alt=\"Drawing\" style=\"width:600px;\"/>"
   ]
  },
  {
   "cell_type": "code",
   "execution_count": 80,
   "metadata": {},
   "outputs": [
    {
     "name": "stdout",
     "output_type": "stream",
     "text": [
      "1\n"
     ]
    }
   ],
   "source": [
    "# Leer los datos de archivo, separar training y test y calcular \"prototipos de clase\"\n",
    "train_set = pd.DataFrame(pd.read_csv(\"Data/datosProm.csv\", names = ['A', 'B']).values)\n",
    "\n",
    "nnom= train_set.columns[1]\n",
    "print(nnom)"
   ]
  },
  {
   "cell_type": "markdown",
   "metadata": {},
   "source": [
    "definimos el punto de prueba, es decir el punto nuevo a clasificar "
   ]
  },
  {
   "cell_type": "code",
   "execution_count": 81,
   "metadata": {},
   "outputs": [],
   "source": [
    "#promonemos un punto en el plano\n",
    "test_point = [100, 60]"
   ]
  },
  {
   "cell_type": "code",
   "execution_count": 82,
   "metadata": {},
   "outputs": [
    {
     "name": "stdout",
     "output_type": "stream",
     "text": [
      "Prototipos de clase (centroides):\n",
      " [[ 0.   73.89]\n",
      " [82.26 78.2 ]\n",
      " [80.16 15.64]]\n"
     ]
    },
    {
     "data": {
      "image/png": "[encoded data removed]",
      "text/plain": [
       "<Figure size 576x360 with 1 Axes>"
      ]
     },
     "metadata": {
      "needs_background": "light"
     },
     "output_type": "display_data"
    }
   ],
   "source": [
    "# numero de clusters(número de clases)\n",
    "num_cluster = 3\n",
    "draw_graph(num_cluster)"
   ]
  },
  {
   "cell_type": "markdown",
   "metadata": {},
   "source": [
    "### Casos según $k$\n",
    "\n",
    "Existen dos casos generales de implementación del método kNN:\n",
    "#### <big>**Regla del vecino más cercano (k = 1)**. </big>\n",
    "\n",
    "El escenario es muy simple: Buscar el vector de *entrenamiento* $x$ cuya similaridad al vector de entrada $y$ sea mayor (o cuya distancia a $y$ sea menor): "
   ]
  },
  {
   "cell_type": "code",
   "execution_count": 83,
   "metadata": {},
   "outputs": [
    {
     "name": "stdout",
     "output_type": "stream",
     "text": [
      "[100, 60]\n",
      "Los 1 vecinos más próximos son:\n",
      "Vecino 0: 29, dist=10.100773485233697, clase=1, centroide=[82.26 78.2 ]\n",
      "\n",
      "El nuevo punto es asignado a la clase 1\n"
     ]
    }
   ],
   "source": [
    "print(test_point)\n",
    "k_neighs = 1\n",
    "classify_point(k_neighs)"
   ]
  },
  {
   "cell_type": "markdown",
   "metadata": {},
   "source": [
    "Este enfoque da buenos resultados si :\n",
    "\n",
    "1) Las clases están muy bien diferenciadas\n",
    "\n",
    "2) El número de ejemplos sea muy grande. En tal caso, es muy probable que para cada nuevo observación haya un elemento en el conjunto de entrenamiento que sea casi idéntico a la nueva obervación.\n",
    "\n",
    "3) Que el vecino más próximo se tome con respecto a los prototipos!... "
   ]
  },
  {
   "cell_type": "markdown",
   "metadata": {},
   "source": [
    "#### <big>**Regla de los k-vecinos más cercanos**. </big>\n",
    "\n",
    "En este caso, se seleccionan los $k$ vectores de entrenamiento más cercanos a la nueva observación. La nueva clase es seleccionada mediante un proceso de *votación*. Existen diversas formas de realizar la votación, ya sea un simple conteo de vecinos en cada caso o diversas formas de votación ponderada."
   ]
  },
  {
   "cell_type": "code",
   "execution_count": 84,
   "metadata": {},
   "outputs": [],
   "source": [
    "k_neighs = 100"
   ]
  },
  {
   "cell_type": "code",
   "execution_count": 85,
   "metadata": {},
   "outputs": [
    {
     "name": "stdout",
     "output_type": "stream",
     "text": [
      "Los 100 vecinos más próximos son:\n",
      "Vecino 0: 29, dist=10.100773485233697, clase=1, centroide=[82.26 78.2 ]\n",
      "Vecino 1: 21, dist=13.248891878191174, clase=1, centroide=[82.26 78.2 ]\n",
      "Vecino 2: 4, dist=18.03995565404749, clase=1, centroide=[82.26 78.2 ]\n",
      "Vecino 3: 13, dist=20.082153295899328, clase=1, centroide=[82.26 78.2 ]\n",
      "Vecino 4: 5, dist=22.22791544432361, clase=1, centroide=[82.26 78.2 ]\n",
      "Vecino 5: 12, dist=23.09718597578502, clase=1, centroide=[82.26 78.2 ]\n",
      "Vecino 6: 26, dist=28.70050468197379, clase=1, centroide=[82.26 78.2 ]\n",
      "Vecino 7: 22, dist=30.74673582675078, clase=1, centroide=[82.26 78.2 ]\n",
      "Vecino 8: 7, dist=31.893472686429114, clase=1, centroide=[82.26 78.2 ]\n",
      "Vecino 9: 6, dist=32.407560846197605, clase=1, centroide=[82.26 78.2 ]\n",
      "Vecino 10: 17, dist=32.728487423038665, clase=1, centroide=[82.26 78.2 ]\n",
      "Vecino 11: 9, dist=33.174158858967324, clase=1, centroide=[82.26 78.2 ]\n",
      "Vecino 12: 27, dist=33.5132902741584, clase=1, centroide=[82.26 78.2 ]\n",
      "Vecino 13: 0, dist=34.681320981185245, clase=2, centroide=[80.16 15.64]\n",
      "Vecino 14: 20, dist=35.06299999999999, clase=1, centroide=[82.26 78.2 ]\n",
      "Vecino 15: 25, dist=35.46941726332702, clase=1, centroide=[82.26 78.2 ]\n",
      "Vecino 16: 28, dist=38.44008324652797, clase=2, centroide=[80.16 15.64]\n",
      "Vecino 17: 8, dist=39.59797974644666, clase=1, centroide=[82.26 78.2 ]\n",
      "Vecino 18: 11, dist=51.875485433873294, clase=2, centroide=[80.16 15.64]\n",
      "Vecino 19: 3, dist=54.124749320435654, clase=2, centroide=[80.16 15.64]\n",
      "Vecino 20: 16, dist=55.14526271584895, clase=2, centroide=[80.16 15.64]\n",
      "Vecino 21: 10, dist=60.56862554161189, clase=2, centroide=[80.16 15.64]\n",
      "Vecino 22: 2, dist=61.21478579559027, clase=2, centroide=[80.16 15.64]\n",
      "Vecino 23: 15, dist=100.00002244499748, clase=0, centroide=[ 0.   73.89]\n",
      "Vecino 24: 1, dist=100.05279856155948, clase=0, centroide=[ 0.   73.89]\n",
      "Vecino 25: 23, dist=101.25914556720296, clase=0, centroide=[ 0.   73.89]\n",
      "Vecino 26: 18, dist=101.31170958976065, clase=0, centroide=[ 0.   73.89]\n",
      "Vecino 27: 24, dist=101.41383349918294, clase=0, centroide=[ 0.   73.89]\n",
      "Vecino 28: 14, dist=102.15130599263037, clase=0, centroide=[ 0.   73.89]\n",
      "Vecino 29: 19, dist=104.58437084478732, clase=0, centroide=[ 0.   73.89]\n",
      "Vecino 30: 0, dist=9223372036854775807, clase=2, centroide=[80.16 15.64]\n",
      "Vecino 31: 0, dist=9223372036854775807, clase=2, centroide=[80.16 15.64]\n",
      "Vecino 32: 0, dist=9223372036854775807, clase=2, centroide=[80.16 15.64]\n",
      "Vecino 33: 0, dist=9223372036854775807, clase=2, centroide=[80.16 15.64]\n",
      "Vecino 34: 0, dist=9223372036854775807, clase=2, centroide=[80.16 15.64]\n",
      "Vecino 35: 0, dist=9223372036854775807, clase=2, centroide=[80.16 15.64]\n",
      "Vecino 36: 0, dist=9223372036854775807, clase=2, centroide=[80.16 15.64]\n",
      "Vecino 37: 0, dist=9223372036854775807, clase=2, centroide=[80.16 15.64]\n",
      "Vecino 38: 0, dist=9223372036854775807, clase=2, centroide=[80.16 15.64]\n",
      "Vecino 39: 0, dist=9223372036854775807, clase=2, centroide=[80.16 15.64]\n",
      "Vecino 40: 0, dist=9223372036854775807, clase=2, centroide=[80.16 15.64]\n",
      "Vecino 41: 0, dist=9223372036854775807, clase=2, centroide=[80.16 15.64]\n",
      "Vecino 42: 0, dist=9223372036854775807, clase=2, centroide=[80.16 15.64]\n",
      "Vecino 43: 0, dist=9223372036854775807, clase=2, centroide=[80.16 15.64]\n",
      "Vecino 44: 0, dist=9223372036854775807, clase=2, centroide=[80.16 15.64]\n",
      "Vecino 45: 0, dist=9223372036854775807, clase=2, centroide=[80.16 15.64]\n",
      "Vecino 46: 0, dist=9223372036854775807, clase=2, centroide=[80.16 15.64]\n",
      "Vecino 47: 0, dist=9223372036854775807, clase=2, centroide=[80.16 15.64]\n",
      "Vecino 48: 0, dist=9223372036854775807, clase=2, centroide=[80.16 15.64]\n",
      "Vecino 49: 0, dist=9223372036854775807, clase=2, centroide=[80.16 15.64]\n",
      "Vecino 50: 0, dist=9223372036854775807, clase=2, centroide=[80.16 15.64]\n",
      "Vecino 51: 0, dist=9223372036854775807, clase=2, centroide=[80.16 15.64]\n",
      "Vecino 52: 0, dist=9223372036854775807, clase=2, centroide=[80.16 15.64]\n",
      "Vecino 53: 0, dist=9223372036854775807, clase=2, centroide=[80.16 15.64]\n",
      "Vecino 54: 0, dist=9223372036854775807, clase=2, centroide=[80.16 15.64]\n",
      "Vecino 55: 0, dist=9223372036854775807, clase=2, centroide=[80.16 15.64]\n",
      "Vecino 56: 0, dist=9223372036854775807, clase=2, centroide=[80.16 15.64]\n",
      "Vecino 57: 0, dist=9223372036854775807, clase=2, centroide=[80.16 15.64]\n",
      "Vecino 58: 0, dist=9223372036854775807, clase=2, centroide=[80.16 15.64]\n",
      "Vecino 59: 0, dist=9223372036854775807, clase=2, centroide=[80.16 15.64]\n",
      "Vecino 60: 0, dist=9223372036854775807, clase=2, centroide=[80.16 15.64]\n",
      "Vecino 61: 0, dist=9223372036854775807, clase=2, centroide=[80.16 15.64]\n",
      "Vecino 62: 0, dist=9223372036854775807, clase=2, centroide=[80.16 15.64]\n",
      "Vecino 63: 0, dist=9223372036854775807, clase=2, centroide=[80.16 15.64]\n",
      "Vecino 64: 0, dist=9223372036854775807, clase=2, centroide=[80.16 15.64]\n",
      "Vecino 65: 0, dist=9223372036854775807, clase=2, centroide=[80.16 15.64]\n",
      "Vecino 66: 0, dist=9223372036854775807, clase=2, centroide=[80.16 15.64]\n",
      "Vecino 67: 0, dist=9223372036854775807, clase=2, centroide=[80.16 15.64]\n",
      "Vecino 68: 0, dist=9223372036854775807, clase=2, centroide=[80.16 15.64]\n",
      "Vecino 69: 0, dist=9223372036854775807, clase=2, centroide=[80.16 15.64]\n",
      "Vecino 70: 0, dist=9223372036854775807, clase=2, centroide=[80.16 15.64]\n",
      "Vecino 71: 0, dist=9223372036854775807, clase=2, centroide=[80.16 15.64]\n",
      "Vecino 72: 0, dist=9223372036854775807, clase=2, centroide=[80.16 15.64]\n",
      "Vecino 73: 0, dist=9223372036854775807, clase=2, centroide=[80.16 15.64]\n",
      "Vecino 74: 0, dist=9223372036854775807, clase=2, centroide=[80.16 15.64]\n",
      "Vecino 75: 0, dist=9223372036854775807, clase=2, centroide=[80.16 15.64]\n",
      "Vecino 76: 0, dist=9223372036854775807, clase=2, centroide=[80.16 15.64]\n",
      "Vecino 77: 0, dist=9223372036854775807, clase=2, centroide=[80.16 15.64]\n",
      "Vecino 78: 0, dist=9223372036854775807, clase=2, centroide=[80.16 15.64]\n",
      "Vecino 79: 0, dist=9223372036854775807, clase=2, centroide=[80.16 15.64]\n",
      "Vecino 80: 0, dist=9223372036854775807, clase=2, centroide=[80.16 15.64]\n",
      "Vecino 81: 0, dist=9223372036854775807, clase=2, centroide=[80.16 15.64]\n",
      "Vecino 82: 0, dist=9223372036854775807, clase=2, centroide=[80.16 15.64]\n",
      "Vecino 83: 0, dist=9223372036854775807, clase=2, centroide=[80.16 15.64]\n",
      "Vecino 84: 0, dist=9223372036854775807, clase=2, centroide=[80.16 15.64]\n",
      "Vecino 85: 0, dist=9223372036854775807, clase=2, centroide=[80.16 15.64]\n",
      "Vecino 86: 0, dist=9223372036854775807, clase=2, centroide=[80.16 15.64]\n",
      "Vecino 87: 0, dist=9223372036854775807, clase=2, centroide=[80.16 15.64]\n",
      "Vecino 88: 0, dist=9223372036854775807, clase=2, centroide=[80.16 15.64]\n",
      "Vecino 89: 0, dist=9223372036854775807, clase=2, centroide=[80.16 15.64]\n",
      "Vecino 90: 0, dist=9223372036854775807, clase=2, centroide=[80.16 15.64]\n",
      "Vecino 91: 0, dist=9223372036854775807, clase=2, centroide=[80.16 15.64]\n",
      "Vecino 92: 0, dist=9223372036854775807, clase=2, centroide=[80.16 15.64]\n",
      "Vecino 93: 0, dist=9223372036854775807, clase=2, centroide=[80.16 15.64]\n",
      "Vecino 94: 0, dist=9223372036854775807, clase=2, centroide=[80.16 15.64]\n",
      "Vecino 95: 0, dist=9223372036854775807, clase=2, centroide=[80.16 15.64]\n",
      "Vecino 96: 0, dist=9223372036854775807, clase=2, centroide=[80.16 15.64]\n",
      "Vecino 97: 0, dist=9223372036854775807, clase=2, centroide=[80.16 15.64]\n",
      "Vecino 98: 0, dist=9223372036854775807, clase=2, centroide=[80.16 15.64]\n",
      "Vecino 99: 0, dist=9223372036854775807, clase=2, centroide=[80.16 15.64]\n",
      "\n",
      "El nuevo punto es asignado a la clase 1\n"
     ]
    }
   ],
   "source": [
    "classify_point(k_neighs)"
   ]
  },
  {
   "cell_type": "markdown",
   "metadata": {},
   "source": [
    "### Observaciones\n",
    "\n",
    "* La elección del valor de $k$ es una decisión crítica en el método de $k$ vecinos próximos. Si se elige un valor muy pequeño, el resultado será muy vulnerable al ruido, si se toma un valor muy alto, además de hacer computacionalmente costoso el método se pierde el factor de cercanía. Una elección típica es tomar $k=\\frac{1}{2}\\sqrt{n}$, siendo $n$ el número de datos de entrenamiento.\n",
    "\n",
    "* Se suele utilizar valores impares de $k$, especialmente cuando hay sólo 2 clases, para evitar empates."
   ]
  },
  {
   "cell_type": "markdown",
   "metadata": {},
   "source": [
    "<hr style=\"border-width: 3px;\">\n",
    "\n",
    "### Tarea\n",
    "\n",
    "* Utilice el método de $k$ vecinos próximos para realizar la limpieza de datos en el Pima Indians Diabetes Dataset.\n",
    "\n",
    "**Fecha de entrega**: "
   ]
  },
  {
   "cell_type": "markdown",
   "metadata": {},
   "source": [
    "### Código con sklearn"
   ]
  },
  {
   "cell_type": "code",
   "execution_count": 86,
   "metadata": {},
   "outputs": [
    {
     "data": {
      "text/plain": [
       "'0.21.3'"
      ]
     },
     "execution_count": 86,
     "metadata": {},
     "output_type": "execute_result"
    }
   ],
   "source": [
    "import sklearn\n",
    "sklearn.__version__"
   ]
  },
  {
   "cell_type": "markdown",
   "metadata": {},
   "source": [
    "<div class=\"alert alert-info\" role=\"alert\"><i class=\"fa fa-lightbulb-o\" aria-hidden=\"true\"></i> <strong> Más  sobre k-NN</strong> <p>http://scikit-learn.org/stable/modules/generated/sklearn.neighbors.KNeighborsClassifier.html <p> http://scikit-learn.org/stable/modules/generated/sklearn.neighbors.DistanceMetric.html --> distancias</div>"
   ]
  },
  {
   "cell_type": "markdown",
   "metadata": {},
   "source": [
    "### k = 1"
   ]
  },
  {
   "cell_type": "code",
   "execution_count": 108,
   "metadata": {},
   "outputs": [],
   "source": [
    "import numpy as np\n",
    "import matplotlib.pyplot as plt\n",
    "from matplotlib.colors import ListedColormap\n",
    "from sklearn import neighbors, datasets\n"
   ]
  },
  {
   "cell_type": "code",
   "execution_count": 109,
   "metadata": {},
   "outputs": [],
   "source": [
    "\n",
    "k = 1\n"
   ]
  },
  {
   "cell_type": "code",
   "execution_count": 110,
   "metadata": {},
   "outputs": [],
   "source": [
    "# import some data to play with\n",
    "iris = datasets.load_iris()"
   ]
  },
  {
   "cell_type": "code",
   "execution_count": 113,
   "metadata": {},
   "outputs": [
    {
     "data": {
      "text/html": [
       "<div>\n",
       "<style scoped>\n",
       "    .dataframe tbody tr th:only-of-type {\n",
       "        vertical-align: middle;\n",
       "    }\n",
       "\n",
       "    .dataframe tbody tr th {\n",
       "        vertical-align: top;\n",
       "    }\n",
       "\n",
       "    .dataframe thead th {\n",
       "        text-align: right;\n",
       "    }\n",
       "</style>\n",
       "<table border=\"1\" class=\"dataframe\">\n",
       "  <thead>\n",
       "    <tr style=\"text-align: right;\">\n",
       "      <th></th>\n",
       "      <th>sepal length (cm)</th>\n",
       "      <th>sepal width (cm)</th>\n",
       "      <th>petal length (cm)</th>\n",
       "      <th>petal width (cm)</th>\n",
       "      <th>target</th>\n",
       "    </tr>\n",
       "  </thead>\n",
       "  <tbody>\n",
       "    <tr>\n",
       "      <td>0</td>\n",
       "      <td>5.1</td>\n",
       "      <td>3.5</td>\n",
       "      <td>1.4</td>\n",
       "      <td>0.2</td>\n",
       "      <td>0.0</td>\n",
       "    </tr>\n",
       "    <tr>\n",
       "      <td>1</td>\n",
       "      <td>4.9</td>\n",
       "      <td>3.0</td>\n",
       "      <td>1.4</td>\n",
       "      <td>0.2</td>\n",
       "      <td>0.0</td>\n",
       "    </tr>\n",
       "    <tr>\n",
       "      <td>2</td>\n",
       "      <td>4.7</td>\n",
       "      <td>3.2</td>\n",
       "      <td>1.3</td>\n",
       "      <td>0.2</td>\n",
       "      <td>0.0</td>\n",
       "    </tr>\n",
       "    <tr>\n",
       "      <td>3</td>\n",
       "      <td>4.6</td>\n",
       "      <td>3.1</td>\n",
       "      <td>1.5</td>\n",
       "      <td>0.2</td>\n",
       "      <td>0.0</td>\n",
       "    </tr>\n",
       "    <tr>\n",
       "      <td>4</td>\n",
       "      <td>5.0</td>\n",
       "      <td>3.6</td>\n",
       "      <td>1.4</td>\n",
       "      <td>0.2</td>\n",
       "      <td>0.0</td>\n",
       "    </tr>\n",
       "    <tr>\n",
       "      <td>...</td>\n",
       "      <td>...</td>\n",
       "      <td>...</td>\n",
       "      <td>...</td>\n",
       "      <td>...</td>\n",
       "      <td>...</td>\n",
       "    </tr>\n",
       "    <tr>\n",
       "      <td>145</td>\n",
       "      <td>6.7</td>\n",
       "      <td>3.0</td>\n",
       "      <td>5.2</td>\n",
       "      <td>2.3</td>\n",
       "      <td>2.0</td>\n",
       "    </tr>\n",
       "    <tr>\n",
       "      <td>146</td>\n",
       "      <td>6.3</td>\n",
       "      <td>2.5</td>\n",
       "      <td>5.0</td>\n",
       "      <td>1.9</td>\n",
       "      <td>2.0</td>\n",
       "    </tr>\n",
       "    <tr>\n",
       "      <td>147</td>\n",
       "      <td>6.5</td>\n",
       "      <td>3.0</td>\n",
       "      <td>5.2</td>\n",
       "      <td>2.0</td>\n",
       "      <td>2.0</td>\n",
       "    </tr>\n",
       "    <tr>\n",
       "      <td>148</td>\n",
       "      <td>6.2</td>\n",
       "      <td>3.4</td>\n",
       "      <td>5.4</td>\n",
       "      <td>2.3</td>\n",
       "      <td>2.0</td>\n",
       "    </tr>\n",
       "    <tr>\n",
       "      <td>149</td>\n",
       "      <td>5.9</td>\n",
       "      <td>3.0</td>\n",
       "      <td>5.1</td>\n",
       "      <td>1.8</td>\n",
       "      <td>2.0</td>\n",
       "    </tr>\n",
       "  </tbody>\n",
       "</table>\n",
       "<p>150 rows × 5 columns</p>\n",
       "</div>"
      ],
      "text/plain": [
       "     sepal length (cm)  sepal width (cm)  petal length (cm)  petal width (cm)  \\\n",
       "0                  5.1               3.5                1.4               0.2   \n",
       "1                  4.9               3.0                1.4               0.2   \n",
       "2                  4.7               3.2                1.3               0.2   \n",
       "3                  4.6               3.1                1.5               0.2   \n",
       "4                  5.0               3.6                1.4               0.2   \n",
       "..                 ...               ...                ...               ...   \n",
       "145                6.7               3.0                5.2               2.3   \n",
       "146                6.3               2.5                5.0               1.9   \n",
       "147                6.5               3.0                5.2               2.0   \n",
       "148                6.2               3.4                5.4               2.3   \n",
       "149                5.9               3.0                5.1               1.8   \n",
       "\n",
       "     target  \n",
       "0       0.0  \n",
       "1       0.0  \n",
       "2       0.0  \n",
       "3       0.0  \n",
       "4       0.0  \n",
       "..      ...  \n",
       "145     2.0  \n",
       "146     2.0  \n",
       "147     2.0  \n",
       "148     2.0  \n",
       "149     2.0  \n",
       "\n",
       "[150 rows x 5 columns]"
      ]
     },
     "execution_count": 113,
     "metadata": {},
     "output_type": "execute_result"
    }
   ],
   "source": [
    "iris"
   ]
  },
  {
   "cell_type": "code",
   "execution_count": 112,
   "metadata": {},
   "outputs": [
    {
     "name": "stdout",
     "output_type": "stream",
     "text": [
      "   sepal length (cm)  sepal width (cm)  petal length (cm)  petal width (cm)  \\\n",
      "0                5.1               3.5                1.4               0.2   \n",
      "1                4.9               3.0                1.4               0.2   \n",
      "2                4.7               3.2                1.3               0.2   \n",
      "3                4.6               3.1                1.5               0.2   \n",
      "4                5.0               3.6                1.4               0.2   \n",
      "\n",
      "   target  \n",
      "0     0.0  \n",
      "1     0.0  \n",
      "2     0.0  \n",
      "3     0.0  \n",
      "4     0.0  \n"
     ]
    }
   ],
   "source": [
    "\n",
    "iris = pd.DataFrame(data= np.c_[iris['data'], iris['target']],columns= iris['feature_names'] + ['target'])\n",
    "print(iris.head())"
   ]
  },
  {
   "cell_type": "code",
   "execution_count": 91,
   "metadata": {},
   "outputs": [
    {
     "name": "stderr",
     "output_type": "stream",
     "text": [
      "C:\\Users\\SantaCruz\\Anaconda3\\lib\\site-packages\\ipykernel_launcher.py:3: FutureWarning: Method .as_matrix will be removed in a future version. Use .values instead.\n",
      "  This is separate from the ipykernel package so we can avoid doing imports until\n"
     ]
    }
   ],
   "source": [
    "# we only take the first two features. We could avoid this ugly\n",
    "# slicing by using a two-dim dataset\n",
    "X_ = iris.iloc[:,0:2].as_matrix()\n",
    "y_ = iris.target"
   ]
  },
  {
   "cell_type": "code",
   "execution_count": 114,
   "metadata": {},
   "outputs": [
    {
     "data": {
      "text/plain": [
       "KNeighborsClassifier(algorithm='auto', leaf_size=30, metric='euclidean',\n",
       "                     metric_params=None, n_jobs=None, n_neighbors=1, p=2,\n",
       "                     weights='uniform')"
      ]
     },
     "execution_count": 114,
     "metadata": {},
     "output_type": "execute_result"
    }
   ],
   "source": [
    "clf = neighbors.KNeighborsClassifier(k, metric = 'euclidean')\n",
    "clf.fit(X_, y_)"
   ]
  },
  {
   "cell_type": "code",
   "execution_count": 115,
   "metadata": {},
   "outputs": [],
   "source": [
    "#Si queremos predecir dos nuevos ejemplos, los almacenamos en un numpy array\n",
    "x_nuevo = np.array([[1.02, 3.7], [4.87, .8]])"
   ]
  },
  {
   "cell_type": "code",
   "execution_count": 94,
   "metadata": {},
   "outputs": [
    {
     "data": {
      "text/html": [
       "<div>\n",
       "<style scoped>\n",
       "    .dataframe tbody tr th:only-of-type {\n",
       "        vertical-align: middle;\n",
       "    }\n",
       "\n",
       "    .dataframe tbody tr th {\n",
       "        vertical-align: top;\n",
       "    }\n",
       "\n",
       "    .dataframe thead th {\n",
       "        text-align: right;\n",
       "    }\n",
       "</style>\n",
       "<table border=\"1\" class=\"dataframe\">\n",
       "  <thead>\n",
       "    <tr style=\"text-align: right;\">\n",
       "      <th></th>\n",
       "      <th>sepal length (cm)</th>\n",
       "      <th>sepal width (cm)</th>\n",
       "    </tr>\n",
       "  </thead>\n",
       "  <tbody>\n",
       "    <tr>\n",
       "      <td>0</td>\n",
       "      <td>5.1</td>\n",
       "      <td>3.5</td>\n",
       "    </tr>\n",
       "    <tr>\n",
       "      <td>1</td>\n",
       "      <td>4.9</td>\n",
       "      <td>3.0</td>\n",
       "    </tr>\n",
       "    <tr>\n",
       "      <td>2</td>\n",
       "      <td>4.7</td>\n",
       "      <td>3.2</td>\n",
       "    </tr>\n",
       "  </tbody>\n",
       "</table>\n",
       "</div>"
      ],
      "text/plain": [
       "   sepal length (cm)  sepal width (cm)\n",
       "0                5.1               3.5\n",
       "1                4.9               3.0\n",
       "2                4.7               3.2"
      ]
     },
     "execution_count": 94,
     "metadata": {},
     "output_type": "execute_result"
    }
   ],
   "source": [
    " iris.iloc[:,0:2].head(3)"
   ]
  },
  {
   "cell_type": "code",
   "execution_count": 116,
   "metadata": {},
   "outputs": [
    {
     "data": {
      "text/plain": [
       "[<matplotlib.lines.Line2D at 0x1d095c84fc8>]"
      ]
     },
     "execution_count": 116,
     "metadata": {},
     "output_type": "execute_result"
    },
    {
     "data": {
      "image/png": "[encoded data removed]",
      "text/plain": [
       "<Figure size 411.875x360 with 1 Axes>"
      ]
     },
     "metadata": {
      "needs_background": "light"
     },
     "output_type": "display_data"
    }
   ],
   "source": [
    "#cargar biblioteca de gráficos\n",
    "import seaborn as sns\n",
    "#graficar el dataset\n",
    "sns.lmplot(x=\"sepal length (cm)\", y=\"sepal width (cm)\",  hue=\"target\", data=iris, fit_reg=False,)\n",
    "\n",
    "#graficar el primer punto\n",
    "plt.plot(x_nuevo[0,0], x_nuevo[0,1], 'y', marker='*', markersize=15)\n",
    "#graficar el segundo punto\n",
    "plt.plot(x_nuevo[1,0], x_nuevo[1,1], 'y', marker='*', markersize=15)"
   ]
  },
  {
   "cell_type": "code",
   "execution_count": 117,
   "metadata": {},
   "outputs": [
    {
     "name": "stdout",
     "output_type": "stream",
     "text": [
      "Clases asignadas:  [0. 1.]\n"
     ]
    }
   ],
   "source": [
    "Z = clf.predict(x_nuevo)\n",
    "print(\"Clases asignadas: \",Z)"
   ]
  },
  {
   "cell_type": "markdown",
   "metadata": {},
   "source": [
    "### k  > 1 "
   ]
  },
  {
   "cell_type": "code",
   "execution_count": 130,
   "metadata": {},
   "outputs": [],
   "source": [
    "k = 3"
   ]
  },
  {
   "cell_type": "markdown",
   "metadata": {},
   "source": [
    "formalmente re defeniriamos el modelo"
   ]
  },
  {
   "cell_type": "code",
   "execution_count": 131,
   "metadata": {},
   "outputs": [
    {
     "data": {
      "text/plain": [
       "KNeighborsClassifier(algorithm='auto', leaf_size=30, metric='euclidean',\n",
       "                     metric_params=None, n_jobs=None, n_neighbors=3, p=2,\n",
       "                     weights='uniform')"
      ]
     },
     "execution_count": 131,
     "metadata": {},
     "output_type": "execute_result"
    }
   ],
   "source": [
    "\n",
    "clf = neighbors.KNeighborsClassifier(k, metric = 'euclidean')\n",
    "clf.fit(X_, y_)"
   ]
  },
  {
   "cell_type": "code",
   "execution_count": 119,
   "metadata": {},
   "outputs": [],
   "source": [
    "x_nuevo = np.array([[5.5, 3.2], [6.1, 2.2]])"
   ]
  },
  {
   "cell_type": "code",
   "execution_count": 120,
   "metadata": {},
   "outputs": [
    {
     "data": {
      "text/plain": [
       "[<matplotlib.lines.Line2D at 0x1d095a41ec8>]"
      ]
     },
     "execution_count": 120,
     "metadata": {},
     "output_type": "execute_result"
    },
    {
     "data": {
      "image/png": "[encoded data removed]",
      "text/plain": [
       "<Figure size 411.875x360 with 1 Axes>"
      ]
     },
     "metadata": {
      "needs_background": "light"
     },
     "output_type": "display_data"
    }
   ],
   "source": [
    "#graficar el dataset\n",
    "sns.lmplot(x=\"sepal length (cm)\", y=\"sepal width (cm)\",  hue=\"target\", data=iris, fit_reg=False,)\n",
    "\n",
    "#graficar el primer punto\n",
    "plt.plot(x_nuevo[0,0], x_nuevo[0,1], 'y', marker='*', markersize=15)\n",
    "#graficar el segundo punto\n",
    "plt.plot(x_nuevo[1,0], x_nuevo[1,1], 'y', marker='*', markersize=15)"
   ]
  },
  {
   "cell_type": "code",
   "execution_count": 121,
   "metadata": {},
   "outputs": [
    {
     "name": "stdout",
     "output_type": "stream",
     "text": [
      "Clases asignadas:  [0. 1.]\n"
     ]
    }
   ],
   "source": [
    "Z = clf.predict(x_nuevo)\n",
    "print(\"Clases asignadas: \",Z)"
   ]
  },
  {
   "cell_type": "code",
   "execution_count": 122,
   "metadata": {},
   "outputs": [
    {
     "data": {
      "text/plain": [
       "array([[ 31,  20,  84,  66,  88],\n",
       "       [119,  62,  68,  87,  72]], dtype=int64)"
      ]
     },
     "execution_count": 122,
     "metadata": {},
     "output_type": "execute_result"
    }
   ],
   "source": [
    "clf.kneighbors(x_nuevo,5 , return_distance=False)"
   ]
  },
  {
   "cell_type": "code",
   "execution_count": 123,
   "metadata": {},
   "outputs": [
    {
     "data": {
      "text/plain": [
       "(array([[0.22, 0.22, 0.22, 0.22, 0.22, 0.28, 0.3 ]]),\n",
       " array([[31, 20, 66, 84, 88, 95, 36]], dtype=int64))"
      ]
     },
     "execution_count": 123,
     "metadata": {},
     "output_type": "execute_result"
    }
   ],
   "source": [
    "clf.kneighbors([[5.5, 3.2]],7 , return_distance=True)"
   ]
  },
  {
   "cell_type": "code",
   "execution_count": 127,
   "metadata": {},
   "outputs": [
    {
     "data": {
      "text/plain": [
       "sepal length (cm)    5.4\n",
       "sepal width (cm)     3.0\n",
       "petal length (cm)    4.5\n",
       "petal width (cm)     1.5\n",
       "target               1.0\n",
       "Name: 84, dtype: float64"
      ]
     },
     "execution_count": 127,
     "metadata": {},
     "output_type": "execute_result"
    }
   ],
   "source": [
    "iris.iloc[84,:]"
   ]
  },
  {
   "cell_type": "code",
   "execution_count": 132,
   "metadata": {},
   "outputs": [
    {
     "data": {
      "text/plain": [
       "array([[0.67, 0.33, 0.  ],\n",
       "       [0.  , 0.67, 0.33]])"
      ]
     },
     "execution_count": 132,
     "metadata": {},
     "output_type": "execute_result"
    }
   ],
   "source": [
    "clf.predict_proba(x_nuevo)"
   ]
  },
  {
   "cell_type": "markdown",
   "metadata": {},
   "source": [
    "## Test  y Train "
   ]
  },
  {
   "cell_type": "markdown",
   "metadata": {},
   "source": [
    "### k mayor a uno"
   ]
  },
  {
   "cell_type": "code",
   "execution_count": 106,
   "metadata": {},
   "outputs": [
    {
     "name": "stdout",
     "output_type": "stream",
     "text": [
      "Neighbors: 1\n",
      "Confusion Matrix\n",
      "[[60  0  0  0  0  0  0  0  0  0]\n",
      " [ 0 73  0  0  0  0  0  0  0  0]\n",
      " [ 0  0 71  0  0  0  0  0  0  0]\n",
      " [ 0  0  0 70  0  0  0  0  0  0]\n",
      " [ 0  0  0  0 63  0  0  0  0  0]\n",
      " [ 0  0  0  0  0 87  1  0  0  1]\n",
      " [ 0  0  0  0  0  0 76  0  0  0]\n",
      " [ 0  0  0  0  0  0  0 65  0  0]\n",
      " [ 0  2  0  1  0  0  0  0 74  1]\n",
      " [ 0  0  0  2  0  1  0  0  0 71]]\n",
      "Accuracy score: 0.987483\n",
      "---------------------------------------------------------------------<>\n",
      "Neighbors: 3\n",
      "Confusion Matrix\n",
      "[[60  0  0  0  0  0  0  0  0  0]\n",
      " [ 0 73  0  0  0  0  0  0  0  0]\n",
      " [ 0  0 71  0  0  0  0  0  0  0]\n",
      " [ 0  0  1 69  0  0  0  0  0  0]\n",
      " [ 0  0  0  0 62  0  0  1  0  0]\n",
      " [ 0  1  0  0  0 86  1  0  0  1]\n",
      " [ 0  0  0  0  0  0 76  0  0  0]\n",
      " [ 0  0  0  0  0  0  0 65  0  0]\n",
      " [ 0  2  0  2  0  0  0  0 73  1]\n",
      " [ 0  0  0  1  0  0  0  0  0 73]]\n",
      "Accuracy score: 0.984701\n",
      "---------------------------------------------------------------------<>\n",
      "Neighbors: 5\n",
      "Confusion Matrix\n",
      "[[60  0  0  0  0  0  0  0  0  0]\n",
      " [ 0 73  0  0  0  0  0  0  0  0]\n",
      " [ 0  0 70  0  0  0  0  1  0  0]\n",
      " [ 0  0  1 69  0  0  0  0  0  0]\n",
      " [ 0  0  0  0 62  0  0  1  0  0]\n",
      " [ 0  0  0  0  0 87  1  0  0  1]\n",
      " [ 0  0  0  0  0  0 76  0  0  0]\n",
      " [ 0  0  0  0  0  0  0 65  0  0]\n",
      " [ 0  5  0  2  0  0  0  0 70  1]\n",
      " [ 0  0  0  1  0  1  0  0  0 72]]\n",
      "Accuracy score: 0.979138\n",
      "---------------------------------------------------------------------<>\n",
      "Neighbors: 7\n",
      "Confusion Matrix\n",
      "[[60  0  0  0  0  0  0  0  0  0]\n",
      " [ 0 73  0  0  0  0  0  0  0  0]\n",
      " [ 0  1 69  0  0  0  0  1  0  0]\n",
      " [ 0  0  0 70  0  0  0  0  0  0]\n",
      " [ 0  0  0  0 61  0  0  2  0  0]\n",
      " [ 0  0  0  0  1 86  1  0  0  1]\n",
      " [ 0  0  0  0  0  0 76  0  0  0]\n",
      " [ 0  0  0  0  0  0  0 65  0  0]\n",
      " [ 0  5  0  2  0  0  0  0 70  1]\n",
      " [ 0  0  0  0  0  1  0  0  0 73]]\n",
      "Accuracy score: 0.977747\n",
      "---------------------------------------------------------------------<>\n",
      "Neighbors: 9\n",
      "Confusion Matrix\n",
      "[[60  0  0  0  0  0  0  0  0  0]\n",
      " [ 0 72  0  0  0  0  1  0  0  0]\n",
      " [ 0  1 69  0  0  0  0  1  0  0]\n",
      " [ 0  0  0 70  0  0  0  0  0  0]\n",
      " [ 0  0  0  0 61  0  0  2  0  0]\n",
      " [ 0  0  0  0  1 86  1  0  0  1]\n",
      " [ 0  0  0  0  0  0 76  0  0  0]\n",
      " [ 0  0  0  0  0  0  0 65  0  0]\n",
      " [ 0  5  0  2  0  0  0  1 69  1]\n",
      " [ 0  0  0  1  0  1  0  0  0 72]]\n",
      "Accuracy score: 0.973574\n",
      "---------------------------------------------------------------------<>\n",
      "Neighbors: 11\n",
      "Confusion Matrix\n",
      "[[60  0  0  0  0  0  0  0  0  0]\n",
      " [ 0 72  0  0  0  0  1  0  0  0]\n",
      " [ 1  1 68  0  0  0  0  1  0  0]\n",
      " [ 0  0  0 70  0  0  0  0  0  0]\n",
      " [ 0  0  0  0 61  0  0  2  0  0]\n",
      " [ 0  0  0  0  1 86  1  0  0  1]\n",
      " [ 0  0  0  0  0  0 76  0  0  0]\n",
      " [ 0  0  0  0  0  0  0 65  0  0]\n",
      " [ 0  5  0  2  0  0  0  1 70  0]\n",
      " [ 0  0  0  0  0  1  0  0  0 73]]\n",
      "Accuracy score: 0.974965\n",
      "---------------------------------------------------------------------<>\n",
      "Neighbors: 13\n",
      "Confusion Matrix\n",
      "[[60  0  0  0  0  0  0  0  0  0]\n",
      " [ 0 71  1  0  0  0  1  0  0  0]\n",
      " [ 1  1 68  0  0  0  0  1  0  0]\n",
      " [ 0  0  1 69  0  0  0  0  0  0]\n",
      " [ 0  0  0  0 61  0  0  1  1  0]\n",
      " [ 0  0  0  0  1 86  1  0  0  1]\n",
      " [ 1  0  0  0  0  0 75  0  0  0]\n",
      " [ 0  0  0  0  0  0  0 65  0  0]\n",
      " [ 0  5  0  2  0  0  0  1 70  0]\n",
      " [ 0  0  0  0  0  1  0  1  0 72]]\n",
      "Accuracy score: 0.969402\n",
      "---------------------------------------------------------------------<>\n",
      "Neighbors: 15\n",
      "Confusion Matrix\n",
      "[[60  0  0  0  0  0  0  0  0  0]\n",
      " [ 0 71  1  0  0  0  1  0  0  0]\n",
      " [ 1  1 68  0  0  0  0  1  0  0]\n",
      " [ 0  0  0 69  0  0  0  1  0  0]\n",
      " [ 0  0  0  0 61  0  0  1  1  0]\n",
      " [ 0  0  0  0  1 86  1  0  0  1]\n",
      " [ 0  0  0  0  0  0 76  0  0  0]\n",
      " [ 0  0  0  0  0  0  0 65  0  0]\n",
      " [ 0  6  0  2  0  0  0  1 69  0]\n",
      " [ 0  0  0  1  0  1  0  1  0 71]]\n",
      "Accuracy score: 0.968011\n",
      "---------------------------------------------------------------------<>\n",
      "Neighbors: 17\n",
      "Confusion Matrix\n",
      "[[60  0  0  0  0  0  0  0  0  0]\n",
      " [ 0 69  3  0  0  0  1  0  0  0]\n",
      " [ 1  1 67  0  0  0  0  1  1  0]\n",
      " [ 0  0  0 67  0  0  0  1  1  1]\n",
      " [ 0  0  0  0 61  0  0  1  1  0]\n",
      " [ 0  0  0  0  1 86  1  0  0  1]\n",
      " [ 1  0  0  0  0  0 75  0  0  0]\n",
      " [ 0  0  0  0  0  0  0 65  0  0]\n",
      " [ 0  6  0  3  0  0  0  1 68  0]\n",
      " [ 0  0  0  0  0  1  0  1  0 72]]\n",
      "Accuracy score: 0.959666\n",
      "---------------------------------------------------------------------<>\n",
      "Neighbors: 19\n",
      "Confusion Matrix\n",
      "[[60  0  0  0  0  0  0  0  0  0]\n",
      " [ 0 69  3  0  0  0  1  0  0  0]\n",
      " [ 1  1 67  0  0  0  0  1  1  0]\n",
      " [ 0  0  0 68  0  0  0  1  0  1]\n",
      " [ 0  0  0  0 61  0  0  1  1  0]\n",
      " [ 0  0  0  0  1 86  1  0  0  1]\n",
      " [ 1  0  0  0  0  0 75  0  0  0]\n",
      " [ 0  0  0  0  0  0  0 65  0  0]\n",
      " [ 0  6  0  2  0  0  1  1 67  1]\n",
      " [ 0  0  0  2  0  1  0  1  0 70]]\n",
      "Accuracy score: 0.956885\n",
      "---------------------------------------------------------------------<>\n",
      "Neighbors: 21\n",
      "Confusion Matrix\n",
      "[[60  0  0  0  0  0  0  0  0  0]\n",
      " [ 0 68  4  0  0  0  1  0  0  0]\n",
      " [ 1  1 67  0  0  0  0  1  1  0]\n",
      " [ 0  0  0 66  0  0  0  1  2  1]\n",
      " [ 0  0  0  0 61  0  0  1  1  0]\n",
      " [ 0  0  0  0  1 86  1  0  0  1]\n",
      " [ 1  0  0  0  0  0 75  0  0  0]\n",
      " [ 0  0  0  0  0  0  0 65  0  0]\n",
      " [ 0  6  0  1  0  0  1  1 69  0]\n",
      " [ 0  0  0  1  0  1  0  1  0 71]]\n",
      "Accuracy score: 0.956885\n",
      "---------------------------------------------------------------------<>\n",
      "Neighbors: 23\n",
      "Confusion Matrix\n",
      "[[60  0  0  0  0  0  0  0  0  0]\n",
      " [ 0 65  7  0  0  0  1  0  0  0]\n",
      " [ 1  1 66  0  0  0  0  1  2  0]\n",
      " [ 0  0  0 66  0  0  0  1  2  1]\n",
      " [ 0  0  0  0 61  0  0  1  1  0]\n",
      " [ 0  0  0  0  1 86  1  0  0  1]\n",
      " [ 0  0  0  0  0  0 76  0  0  0]\n",
      " [ 0  0  0  0  0  0  0 65  0  0]\n",
      " [ 0  6  0  2  0  0  0  1 69  0]\n",
      " [ 0  0  0  1  0  1  0  1  0 71]]\n",
      "Accuracy score: 0.952712\n",
      "---------------------------------------------------------------------<>\n",
      "Neighbors: 25\n",
      "Confusion Matrix\n",
      "[[60  0  0  0  0  0  0  0  0  0]\n",
      " [ 0 65  7  0  0  0  1  0  0  0]\n",
      " [ 1  1 66  0  0  0  0  1  2  0]\n",
      " [ 0  0  0 67  0  0  0  1  1  1]\n",
      " [ 0  0  0  0 61  0  0  2  0  0]\n",
      " [ 0  0  0  0  1 86  1  0  0  1]\n",
      " [ 0  0  0  0  0  0 76  0  0  0]\n",
      " [ 0  0  0  0  0  0  0 65  0  0]\n",
      " [ 0  6  0  3  0  0  0  1 68  0]\n",
      " [ 0  0  0  1  0  1  0  1  0 71]]\n",
      "Accuracy score: 0.952712\n",
      "---------------------------------------------------------------------<>\n",
      "Neighbors: 27\n",
      "Confusion Matrix\n",
      "[[60  0  0  0  0  0  0  0  0  0]\n",
      " [ 0 65  7  0  0  0  1  0  0  0]\n",
      " [ 1  1 66  0  0  0  0  1  2  0]\n",
      " [ 0  0  0 67  0  0  0  1  1  1]\n",
      " [ 0  0  0  0 61  0  0  2  0  0]\n",
      " [ 0  0  0  0  1 86  1  0  0  1]\n",
      " [ 1  0  0  0  0  0 75  0  0  0]\n",
      " [ 0  0  0  0  0  0  0 65  0  0]\n",
      " [ 0  6  0  2  0  0  0  1 69  0]\n",
      " [ 0  0  0  0  0  1  0  1  0 72]]\n",
      "Accuracy score: 0.954103\n",
      "---------------------------------------------------------------------<>\n"
     ]
    }
   ],
   "source": [
    "from sklearn.metrics import confusion_matrix, accuracy_score\n",
    "from sklearn import neighbors\n",
    "#from sklearn.model_selection import cross_validate\n",
    "#import sklearn.model_selection.cross_validate\n",
    "#import sklearn.model_selection.train_test_split\n",
    "from sklearn.model_selection import train_test_split\n",
    "import sklearn.datasets \n",
    "# load sample dataset of digits\n",
    "digits = datasets.load_digits()\n",
    "\n",
    "\n",
    "# prepare datasets from training and for validation\n",
    "X_train, X_test, y_train, y_test = train_test_split(digits.data, digits.target, test_size=0.4, random_state=0)\n",
    "\n",
    "\n",
    "\n",
    "\n",
    "\n",
    "# runs the kNN classifier for even number of neighbors from 1 to 10\n",
    "for n in range(1, 29, 2):\n",
    "        \n",
    "        #clf = neighbors.KNeighborsClassifier(1)\n",
    "        clf = neighbors.KNeighborsClassifier(n_neighbors=n, p=2, metric='minkowski')\n",
    "        # instance based learning\n",
    "        clf.fit(X_train, y_train)\n",
    "\n",
    "        # predict\n",
    "        y_pred = clf.predict(X_test)\n",
    "\n",
    "        # learning metrics\n",
    "        cm = confusion_matrix(y_test, y_pred)\n",
    "        acc = accuracy_score(y_test, y_pred)\n",
    "\n",
    "        print (\"Neighbors: %d\" % n)\n",
    "        print (\"Confusion Matrix\")\n",
    "        print (cm)\n",
    "\n",
    "        print (\"Accuracy score: %f\" % accuracy_score(y_test, y_pred))\n",
    "        print(\"---------------------------------------------------------------------<>\")\n"
   ]
  },
  {
   "cell_type": "markdown",
   "metadata": {},
   "source": [
    "## Validacioón cruzada "
   ]
  },
  {
   "cell_type": "code",
   "execution_count": null,
   "metadata": {},
   "outputs": [],
   "source": []
  }
 ],
 "metadata": {
  "celltoolbar": "Raw Cell Format",
  "kernelspec": {
   "display_name": "Python 3",
   "language": "python",
   "name": "python3"
  },
  "language_info": {
   "codemirror_mode": {
    "name": "ipython",
    "version": 3
   },
   "file_extension": ".py",
   "mimetype": "text/x-python",
   "name": "python",
   "nbconvert_exporter": "python",
   "pygments_lexer": "ipython3",
   "version": "3.7.6"
  }
 },
 "nbformat": 4,
 "nbformat_minor": 1
}

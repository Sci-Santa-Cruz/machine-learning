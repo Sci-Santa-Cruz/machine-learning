{
 "cells": [
  {
   "cell_type": "markdown",
   "metadata": {},
   "source": [
    "<div class=\"jumbotron\">\n",
    "  <h1><i class=\"fa fa-bar-chart\" aria-hidden=\"true\"></i> Regresión Lógistica  </h1>\n",
    "  <p></p>\n",
    "</div>"
   ]
  },
  {
   "cell_type": "code",
   "execution_count": 2,
   "metadata": {},
   "outputs": [],
   "source": [
    "import pandas as pd\n",
    "import numpy as np\n",
    "\n",
    "from sklearn import preprocessing\n",
    "import matplotlib.pyplot as plt \n",
    "plt.rc(\"font\", size=14)\n",
    "from sklearn.linear_model import LogisticRegression\n",
    "from sklearn.model_selection import train_test_split\n",
    "#from sklearn.cross_validation import train_test_split\n",
    "import seaborn as sns\n",
    "sns.set(style=\"white\")\n",
    "sns.set(style=\"whitegrid\", color_codes=True)"
   ]
  },
  {
   "cell_type": "markdown",
   "metadata": {},
   "source": [
    "Lo que distingue un modelo de regresión logística del modelo de regresión lineal es que la variable de resultado en la regresión logística es binaria o dicotómica . Esta diferencia entre regresión logística y lineal se refleja tanto en la forma del modelo como en sus supuestos. Una vez que se tiene en cuenta esta diferencia, los métodos empleados en un análisis que utiliza la regresión logística siguen, más o menos, los mismos principios generales utilizados en la regresión lineal. Por lo tanto, las técnicas utilizadas en el análisis de regresión lineal motivan nuestro enfoque de la regresión logística"
   ]
  },
  {
   "cell_type": "markdown",
   "metadata": {},
   "source": [
    "La siguiente tabla enumera la edad en años (EDAD) y la presencia o ausencia de evidencia de enfermedad coronaria significativa ( CHD ) para 100 sujetos en un estudio hipotético de factores de riesgo de enfermedad cardíaca. La tabla también contiene una variable de identificación ( ID ) y una variable de grupo de edad (AGEGRP). La variable de resultado es CHD, que se codifica con un valor de \"0\" para indicar que CHD está ausente, o \"1\" para indicar que está presente en el individuo. En general, se pueden usar dos valores, pero hemos encontrado que es más conveniente usar cero y uno. Nos referimos a este conjunto de datos como los datos de CHDAGE. La Tabla muestra edad, grupo de edad y enfermedad coronaria (CHD) de 100 sujetos"
   ]
  },
  {
   "cell_type": "markdown",
   "metadata": {},
   "source": [
    "<img src=\"images/rl_1.png\" height=\"300\" width=\"400\" >"
   ]
  },
  {
   "cell_type": "markdown",
   "metadata": {},
   "source": [
    "Es interesante explorar la relación entre AGE y la presencia o ausencia de CHD en este grupo. Si nuestra variable de resultado hubiera sido continua en lugar de binaria, probablemente comenzaríamos formando un diagrama de dispersión del resultado versus la variable independiente. Usaríamos este diagrama de dispersión para proporcionar una impresión de la naturaleza y la fuerza de cualquier relación entre el resultado y la variable independiente."
   ]
  },
  {
   "cell_type": "markdown",
   "metadata": {},
   "source": [
    "<img src=\"images/rl_2.png\" height=\"300\" width=\"400\" >"
   ]
  },
  {
   "cell_type": "markdown",
   "metadata": {},
   "source": [
    "En este diagrama de dispersión, todos los puntos caen en una de dos líneas paralelas que representan la ausencia de CHD ($y = 0$) o la presencia de CHD ($y = 1$ ). Hay cierta tendencia a que los individuos sin evidencia de CHD sean más jóvenes que aquellos con evidencia de CHD. Si bien este gráfico representa la naturaleza dicotómica de la variable de resultado con bastante claridad, no proporciona una imagen clara de la naturaleza de la relación entre CHD y AGE."
   ]
  },
  {
   "cell_type": "markdown",
   "metadata": {},
   "source": [
    "El principal problema con la Figura anterior (figura 1) es que la variabilidad en CHD en todas las edades es grande. Esto hace que sea difícil ver una relación funcional entre AGE y CHD. Un método común para eliminar alguna variación, mientras se mantiene la estructura de la relación entre el resultado y la variable independiente, es crear intervalos para la variable independiente y calcular la media de la variable de resultado dentro de cada grupo. Utilizamos esta estrategia agrupando la edad en las categorías (AGEGRP) definidas en la Tabla 1 . La Tabla  siguiente (tabla 2) contiene, para cada grupo de edad, la frecuencia de ocurrencia de cada resultado, así como el porcentaje con CHD presente."
   ]
  },
  {
   "cell_type": "markdown",
   "metadata": {},
   "source": [
    "<img src=\"images/rl_3.png\" height=\"300\" width=\"400\" >"
   ]
  },
  {
   "cell_type": "markdown",
   "metadata": {},
   "source": [
    "Al examinar esta tabla, comienza a surgir una imagen más clara de la relación. Muestra que a medida que aumenta la edad, aumenta la proporción (media) de individuos con evidencia de CHD. La siguiente figura (Figura 2) presenta una gráfica del porcentaje de individuos con CHD versus el punto medio de cada intervalo de edad. Este gráfico proporciona una visión considerable de la relación entre CHD y AGE en este estudio, pero es necesario describir la forma funcional de esta relación. La gráfica en esta figura es similar a la que se podría obtener si este mismo proceso de agrupación y promedio se realizara en una regresión lineal. Notamos dos diferencias importantes."
   ]
  },
  {
   "cell_type": "markdown",
   "metadata": {},
   "source": [
    "<img src=\"images/rl_4.png\" height=\"300\" width=\"400\" >"
   ]
  },
  {
   "cell_type": "markdown",
   "metadata": {},
   "source": [
    "- La primera diferencia se refiere a la naturaleza de la relación entre el resultado y las variables independientes."
   ]
  },
  {
   "cell_type": "markdown",
   "metadata": {},
   "source": [
    "Se han propuesto muchas funciones de distribución para su uso en el análisis de una variable de resultado dicotómica. Cox y Snell (1989) discuten algunos de estos. Hay dos razones principales para elegir la distribución logística. Primero, desde un punto de vista matemático, es una función extremadamente flexible y fácil de usar. En segundo lugar, sus parámetros modelo proporcionan la base para estimaciones de efecto clínicamente significativas. "
   ]
  },
  {
   "cell_type": "markdown",
   "metadata": {},
   "source": [
    "$y = mx + b$"
   ]
  },
  {
   "cell_type": "markdown",
   "metadata": {},
   "source": [
    "Esta expresión implica que es posible que $y$ tome cualquier valor entre $- \\infty$ e $\\infty$.  Luego, para resolver este problema, podemos aplicar una función exponencial en el extremo derecho de la ecuación del modelo de regresión lineal. Al trabajar en esta transformación obtenemos:"
   ]
  },
  {
   "cell_type": "markdown",
   "metadata": {},
   "source": [
    "$y =  e^{ mx + b}$"
   ]
  },
  {
   "cell_type": "markdown",
   "metadata": {},
   "source": [
    "Aunque esta transformación nos permite reducir los valores de la ecuación dentro del rango de  0 a + ∞ , no resuelve completamente el problema. Dado que una vez más hemos superado las dos opciones de clasificación solo para el límite superior de los valores esperados, podemos aplicar la transformación logística que nos permite controlar los valores y limitarlos al rango de probabilidad ( 0; 1 ):"
   ]
  },
  {
   "cell_type": "markdown",
   "metadata": {},
   "source": [
    "$y = \\frac{ e^{ mx + b}}{1 +  e^{ mx + b}}$"
   ]
  },
  {
   "cell_type": "markdown",
   "metadata": {},
   "source": [
    "Al igual que con la regresión lineal, en el análisis de la regresión logística, la interpretación de la relación entre variables independientes y variables dependientes se realiza mediante la evaluación de los parámetros del modelo. En la estimación de los parámetros de regresión logística, se utiliza el algoritmo de _máxima verosimilitud_ que estima los parámetros del modelo, para __maximizar la función de verosimilitud de log__ que indica la probabilidad de que el valor $Y$ esperado obtenga los valores de variables independientes. En el método de máxima verosimilitud, la solución óptima se logra a partir de valores de prueba para parámetros (valores arbitrarios) que posteriormente se modifican para ver si la función puede mejorarse. El proceso se repite (iteración) hasta que la capacidad de mejorar la función sea infinitesimal (converge).\n",
    "\n",
    "\n",
    "En la regresión logística, la variable dependiente caracteriza la pertenencia a un grupo. Los valores asignados a los niveles se atribuyen arbitrariamente. Por lo tanto, lo que importa no es el valor esperado (o predicho), como en la regresión lineal, sino la probabilidad de que un sujeto determinado pertenezca al grupo de referencia. A pesar de esto, es importante enfatizar que la elección de los valores a asignar afecta los resultados del análisis. Una forma de resolver el dilema de asignar valores a niveles es reemplazar la probabilidad con probabilidades.\n",
    "\n",
    "\n",
    "Las probabilidades son una forma de expresar una probabilidad a través de una razón. Se calcula haciendo la relación entre las frecuencias observadas en un nivel con las frecuencias observadas en el otro. El valor de las probabilidades expresa la relación entre dos categorías. Las probabilidades se definen como la relación entre la probabilidad de éxito y la probabilidad de fracaso. Anteriormente, calculamos la probabilidad aplicando la siguiente ecuación:"
   ]
  },
  {
   "cell_type": "markdown",
   "metadata": {},
   "source": [
    "$y = \\frac{ e^{ mx + b}}{1 +  e^{ mx + b}}$"
   ]
  },
  {
   "cell_type": "markdown",
   "metadata": {},
   "source": [
    "Calcule las probabilidades usando esta ecuación. Con la razón entre las probabilidades de obtener los dos valores obtenemos la siguiente ecuación:"
   ]
  },
  {
   "cell_type": "markdown",
   "metadata": {},
   "source": [
    "$\\frac{y}{1-y} =   e^{ mx + b}$"
   ]
  },
  {
   "cell_type": "markdown",
   "metadata": {},
   "source": [
    "Aquí, $ \\frac{P (x)} {1 − P (x)}$ representa las probabilidades. Esta cantidad puede tomar cualquier valor entre 0 y ∞ . Si definimos esta cantidad por la razón de la probabilidad de éxito y la probabilidad de fracaso, entonces los valores de las probabilidades cercanas a cero indican probabilidades muy bajas de éxito. Los valores de las probabilidades cercanas a ∞ indican probabilidades muy altas de éxito.Como se indicó anteriormente, las probabilidades, aunque permiten reducir los valores de la ecuación dentro del rango de  0  a  + ∞ , no resuelven completamente el problema. Tomemos el logaritmo de la ecuación anterior:"
   ]
  },
  {
   "cell_type": "markdown",
   "metadata": {},
   "source": [
    "$\\log{\\frac{y}{1-y}} =   mx + b$"
   ]
  },
  {
   "cell_type": "markdown",
   "metadata": {},
   "source": [
    "Aquí, esta cantidad se llama __log-odds o logit__ , y es lineal en x . Es importante señalar que la probabilidad, las probabilidades y el logit son tres formas diferentes de expresar exactamente lo mismo. La transformación en __logit__ solo sirve para garantizar la corrección matemática del análisis."
   ]
  },
  {
   "cell_type": "code",
   "execution_count": null,
   "metadata": {},
   "outputs": [],
   "source": []
  },
  {
   "cell_type": "code",
   "execution_count": null,
   "metadata": {},
   "outputs": [],
   "source": []
  },
  {
   "cell_type": "code",
   "execution_count": null,
   "metadata": {},
   "outputs": [],
   "source": []
  },
  {
   "cell_type": "markdown",
   "metadata": {},
   "source": [
    "El enfoque de regresión logística (RL) persigue dos objetivos: el primero de ellos es construir un modelo que permita predecir el valor de una nueva variable dependiente mediante estimaciones de probabilidad de pertenencia. El segundo objetivo es estimar la relaciónn entre las variables independientes y la variable dependiente obteniendo con esto la influencia que cada variable aporta para la predicción de su categoría correspondiente.\n",
    "\n",
    "Por lo anterior, se puede deducir que RL se utiliza para problemas de clasificación en donde el problema es reducir el número de variables que operan en el conjunto de datos."
   ]
  },
  {
   "cell_type": "markdown",
   "metadata": {},
   "source": [
    "El modelo de regresión permite estudiar si la variable discreta depende o no de una o más variables independientes. Si los dicho anteriormente sucede, los coeficientes del modelo\n",
    "de regresión son los que dictan la relación de dependencia [Gareth et al., 2014]. El criterio\n",
    "para decidir si una variable contiene una aportación significativa para la categorización\n",
    "de las muestras es fijado por el $valor-p$ [Izenman, 2006].\n",
    "\n",
    "Si los $valores-p$ asociados a los coeficientes $δi$ (un coeficiente por variable) son inferiores a el intervalo de confianza establecido (usualmente $<0.05$) rechazaremos la hipótesis nula y aceptamos que el variable $X_i$ aporta información al modelo y debe de estar contenido en él. El modelo logístico no es eficiente en el caso normal, dicho modelo puede ser más eficaz cuando los grupos en el conjunto de datos no tienen la misma matriz de covarianza, o su distribución en un gráfico de dispersión no se amolda a una elipse [Gareth et al., 2014]."
   ]
  },
  {
   "cell_type": "code",
   "execution_count": null,
   "metadata": {},
   "outputs": [],
   "source": []
  },
  {
   "cell_type": "markdown",
   "metadata": {},
   "source": [
    "Se nos dan los datos de las campañas de marketing directo (llamadas telefónicas) de una institución bancaria portuguesa. El objetivo de clasificación es predecir si el cliente suscribirá un depósito a plazo (variable objetivo y). Este estudio de caso está inspirado en este trabajo de investigación donde los investigadores han utilizado un conjunto de datos muy similar al que usaremos a lo largo de este estudio de caso para determinar el éxito del telemercadeo bancario. "
   ]
  },
  {
   "cell_type": "markdown",
   "metadata": {},
   "source": [
    " Hubo cuatro variantes de los conjuntos de datos de los cuales elegimos \"bank-optional-full.csv\" que consta de 41188 puntos de datos con 20 variables independientes de las cuales 10 son características numéricas y 10 son características categóricas. La lista de características disponibles para nosotros se detalla a continuación:\n",
    "datos del cliente bancario:\n",
    "\n",
    "1. edad (numérico)\n",
    "2. trabajo: tipo de trabajo (categórico: 'admin.', 'obrero', 'emprendedor', 'empleada doméstica', 'gerencia', 'jubilado', 'autónomo', 'servicios', 'estudiante', ' técnico ',' desempleado ',' desconocido ')\n",
    "3. marital: estado civil (categórico: 'divorciado', 'casado', 'soltero', 'desconocido'; nota: 'divorciado' significa divorciado o viudo)\n",
    "4. educación (categórico: 'basic.4y', 'basic.6y', 'basic.9y', 'high.school', 'analfabeto', 'professional.course', 'university.degree', 'unknown')\n",
    "5. default: tiene crédito en default? (categórico: 'no', 'sí', 'desconocido')\n",
    "6. vivienda: tiene prestamo de vivienda? (categórico: 'no', 'sí', 'desconocido')\n",
    "7. préstamo: tiene préstamo personal? (categórico: 'no', 'sí', 'desconocido')\n",
    "\n",
    "Relacionado con el último contacto de la campaña actual:\n",
    "\n",
    "8. contacto: tipo de comunicación de contacto (categórico: 'celular', 'teléfono')\n",
    "9. mes: último contacto del año del año (categórico: 'ene', 'feb', 'mar', ..., 'nov', 'dec')\n",
    "10. day_of_week: último día de contacto de la semana (categórico: 'lunes', 'martes', 'miércoles', 'jueves', 'viernes')\n",
    "11. duración: duración del último contacto, en segundos (numérico). Nota importante: este atributo afecta en gran medida el objetivo de salida (por ejemplo, si duración = 0, entonces y = 'no'). \n",
    "\n",
    "Sin embargo, la duración no se conoce antes de realizar una llamada. Además, después del final de la llamada, obviamente se conoce y. Por lo tanto, esta entrada solo debe incluirse con fines de referencia y debe descartarse si la intención es tener un modelo predictivo realista.\n",
    "\n",
    "\n",
    "otros atributos:\n",
    "12. campaña: número de contactos realizados durante esta campaña y para este cliente (numérico, incluye el último contacto)\n",
    "13. días: número de días que pasaron después de que el cliente fue contactado por última vez desde una campaña anterior (numérico; 999 significa que el cliente no fue contactado previamente)\n",
    "14. anterior: número de contactos realizados antes de esta campaña y para este cliente (numérico)\n",
    "15. poutcome: resultado de la campaña de marketing anterior (categórico: 'fracaso', 'inexistente', 'éxito')\n",
    "atributos del contexto social y económico\n",
    "16. tasa de variación del empleo: tasa de variación del empleo - indicador trimestral (numérico)\n",
    "17. cons.price.idx: índice de precios al consumidor - indicador mensual (numérico)\n",
    "18. cons.conf.idx: índice de confianza del consumidor - indicador mensual (numérico)\n",
    "19. euribor3m: tarifa euribor a 3 meses - indicador diario (numérico)\n",
    "20. nr.empleados: número de empleados - indicador trimestral (numérico)"
   ]
  },
  {
   "cell_type": "code",
   "execution_count": 3,
   "metadata": {},
   "outputs": [
    {
     "name": "stdout",
     "output_type": "stream",
     "text": [
      "(41188, 21)\n",
      "['age', 'job', 'marital', 'education', 'default', 'housing', 'loan', 'contact', 'month', 'day_of_week', 'duration', 'campaign', 'pdays', 'previous', 'poutcome', 'emp_var_rate', 'cons_price_idx', 'cons_conf_idx', 'euribor3m', 'nr_employed', 'y']\n"
     ]
    }
   ],
   "source": [
    "df = pd.read_csv('Data/banking.csv', header=0)\n",
    "df = df.dropna()\n",
    "print(df.shape)\n",
    "print(list(df.columns))"
   ]
  },
  {
   "cell_type": "code",
   "execution_count": 4,
   "metadata": {},
   "outputs": [
    {
     "data": {
      "text/html": [
       "<div>\n",
       "<style scoped>\n",
       "    .dataframe tbody tr th:only-of-type {\n",
       "        vertical-align: middle;\n",
       "    }\n",
       "\n",
       "    .dataframe tbody tr th {\n",
       "        vertical-align: top;\n",
       "    }\n",
       "\n",
       "    .dataframe thead th {\n",
       "        text-align: right;\n",
       "    }\n",
       "</style>\n",
       "<table border=\"1\" class=\"dataframe\">\n",
       "  <thead>\n",
       "    <tr style=\"text-align: right;\">\n",
       "      <th></th>\n",
       "      <th>age</th>\n",
       "      <th>job</th>\n",
       "      <th>marital</th>\n",
       "      <th>education</th>\n",
       "      <th>default</th>\n",
       "      <th>housing</th>\n",
       "      <th>loan</th>\n",
       "      <th>contact</th>\n",
       "      <th>month</th>\n",
       "      <th>day_of_week</th>\n",
       "      <th>...</th>\n",
       "      <th>campaign</th>\n",
       "      <th>pdays</th>\n",
       "      <th>previous</th>\n",
       "      <th>poutcome</th>\n",
       "      <th>emp_var_rate</th>\n",
       "      <th>cons_price_idx</th>\n",
       "      <th>cons_conf_idx</th>\n",
       "      <th>euribor3m</th>\n",
       "      <th>nr_employed</th>\n",
       "      <th>y</th>\n",
       "    </tr>\n",
       "  </thead>\n",
       "  <tbody>\n",
       "    <tr>\n",
       "      <td>0</td>\n",
       "      <td>44</td>\n",
       "      <td>blue-collar</td>\n",
       "      <td>married</td>\n",
       "      <td>basic.4y</td>\n",
       "      <td>unknown</td>\n",
       "      <td>yes</td>\n",
       "      <td>no</td>\n",
       "      <td>cellular</td>\n",
       "      <td>aug</td>\n",
       "      <td>thu</td>\n",
       "      <td>...</td>\n",
       "      <td>1</td>\n",
       "      <td>999</td>\n",
       "      <td>0</td>\n",
       "      <td>nonexistent</td>\n",
       "      <td>1.4</td>\n",
       "      <td>93.444</td>\n",
       "      <td>-36.1</td>\n",
       "      <td>4.963</td>\n",
       "      <td>5228.1</td>\n",
       "      <td>0</td>\n",
       "    </tr>\n",
       "    <tr>\n",
       "      <td>1</td>\n",
       "      <td>53</td>\n",
       "      <td>technician</td>\n",
       "      <td>married</td>\n",
       "      <td>unknown</td>\n",
       "      <td>no</td>\n",
       "      <td>no</td>\n",
       "      <td>no</td>\n",
       "      <td>cellular</td>\n",
       "      <td>nov</td>\n",
       "      <td>fri</td>\n",
       "      <td>...</td>\n",
       "      <td>1</td>\n",
       "      <td>999</td>\n",
       "      <td>0</td>\n",
       "      <td>nonexistent</td>\n",
       "      <td>-0.1</td>\n",
       "      <td>93.200</td>\n",
       "      <td>-42.0</td>\n",
       "      <td>4.021</td>\n",
       "      <td>5195.8</td>\n",
       "      <td>0</td>\n",
       "    </tr>\n",
       "    <tr>\n",
       "      <td>2</td>\n",
       "      <td>28</td>\n",
       "      <td>management</td>\n",
       "      <td>single</td>\n",
       "      <td>university.degree</td>\n",
       "      <td>no</td>\n",
       "      <td>yes</td>\n",
       "      <td>no</td>\n",
       "      <td>cellular</td>\n",
       "      <td>jun</td>\n",
       "      <td>thu</td>\n",
       "      <td>...</td>\n",
       "      <td>3</td>\n",
       "      <td>6</td>\n",
       "      <td>2</td>\n",
       "      <td>success</td>\n",
       "      <td>-1.7</td>\n",
       "      <td>94.055</td>\n",
       "      <td>-39.8</td>\n",
       "      <td>0.729</td>\n",
       "      <td>4991.6</td>\n",
       "      <td>1</td>\n",
       "    </tr>\n",
       "    <tr>\n",
       "      <td>3</td>\n",
       "      <td>39</td>\n",
       "      <td>services</td>\n",
       "      <td>married</td>\n",
       "      <td>high.school</td>\n",
       "      <td>no</td>\n",
       "      <td>no</td>\n",
       "      <td>no</td>\n",
       "      <td>cellular</td>\n",
       "      <td>apr</td>\n",
       "      <td>fri</td>\n",
       "      <td>...</td>\n",
       "      <td>2</td>\n",
       "      <td>999</td>\n",
       "      <td>0</td>\n",
       "      <td>nonexistent</td>\n",
       "      <td>-1.8</td>\n",
       "      <td>93.075</td>\n",
       "      <td>-47.1</td>\n",
       "      <td>1.405</td>\n",
       "      <td>5099.1</td>\n",
       "      <td>0</td>\n",
       "    </tr>\n",
       "    <tr>\n",
       "      <td>4</td>\n",
       "      <td>55</td>\n",
       "      <td>retired</td>\n",
       "      <td>married</td>\n",
       "      <td>basic.4y</td>\n",
       "      <td>no</td>\n",
       "      <td>yes</td>\n",
       "      <td>no</td>\n",
       "      <td>cellular</td>\n",
       "      <td>aug</td>\n",
       "      <td>fri</td>\n",
       "      <td>...</td>\n",
       "      <td>1</td>\n",
       "      <td>3</td>\n",
       "      <td>1</td>\n",
       "      <td>success</td>\n",
       "      <td>-2.9</td>\n",
       "      <td>92.201</td>\n",
       "      <td>-31.4</td>\n",
       "      <td>0.869</td>\n",
       "      <td>5076.2</td>\n",
       "      <td>1</td>\n",
       "    </tr>\n",
       "  </tbody>\n",
       "</table>\n",
       "<p>5 rows × 21 columns</p>\n",
       "</div>"
      ],
      "text/plain": [
       "   age          job  marital          education  default housing loan  \\\n",
       "0   44  blue-collar  married           basic.4y  unknown     yes   no   \n",
       "1   53   technician  married            unknown       no      no   no   \n",
       "2   28   management   single  university.degree       no     yes   no   \n",
       "3   39     services  married        high.school       no      no   no   \n",
       "4   55      retired  married           basic.4y       no     yes   no   \n",
       "\n",
       "    contact month day_of_week  ...  campaign  pdays  previous     poutcome  \\\n",
       "0  cellular   aug         thu  ...         1    999         0  nonexistent   \n",
       "1  cellular   nov         fri  ...         1    999         0  nonexistent   \n",
       "2  cellular   jun         thu  ...         3      6         2      success   \n",
       "3  cellular   apr         fri  ...         2    999         0  nonexistent   \n",
       "4  cellular   aug         fri  ...         1      3         1      success   \n",
       "\n",
       "  emp_var_rate  cons_price_idx  cons_conf_idx  euribor3m  nr_employed  y  \n",
       "0          1.4          93.444          -36.1      4.963       5228.1  0  \n",
       "1         -0.1          93.200          -42.0      4.021       5195.8  0  \n",
       "2         -1.7          94.055          -39.8      0.729       4991.6  1  \n",
       "3         -1.8          93.075          -47.1      1.405       5099.1  0  \n",
       "4         -2.9          92.201          -31.4      0.869       5076.2  1  \n",
       "\n",
       "[5 rows x 21 columns]"
      ]
     },
     "execution_count": 4,
     "metadata": {},
     "output_type": "execute_result"
    }
   ],
   "source": [
    "df.head(5)"
   ]
  },
  {
   "cell_type": "markdown",
   "metadata": {},
   "source": [
    "La columna de educación del conjunto de datos tiene muchas categorías y necesitamos reducir las categorías para un mejor modelado. La columna de educación tiene las siguientes categorías:"
   ]
  },
  {
   "cell_type": "code",
   "execution_count": 5,
   "metadata": {},
   "outputs": [
    {
     "data": {
      "text/plain": [
       "array(['basic.4y', 'unknown', 'university.degree', 'high.school',\n",
       "       'basic.9y', 'professional.course', 'basic.6y', 'illiterate'],\n",
       "      dtype=object)"
      ]
     },
     "execution_count": 5,
     "metadata": {},
     "output_type": "execute_result"
    }
   ],
   "source": [
    "df['education'].unique()"
   ]
  },
  {
   "cell_type": "markdown",
   "metadata": {},
   "source": [
    "Agrupemos \"basic.4y\", \"basic.9y\" y \"basic.6y\" y llamémosles \"basic\"."
   ]
  },
  {
   "cell_type": "code",
   "execution_count": 6,
   "metadata": {},
   "outputs": [],
   "source": [
    "df['education']=np.where(df['education'] =='basic.9y', 'Basic', df['education'])\n",
    "df['education']=np.where(df['education'] =='basic.6y', 'Basic', df['education'])\n",
    "df['education']=np.where(df['education'] =='basic.4y', 'Basic', df['education'])"
   ]
  },
  {
   "cell_type": "markdown",
   "metadata": {},
   "source": [
    "Después de agrupar, estas son las columnas"
   ]
  },
  {
   "cell_type": "code",
   "execution_count": 7,
   "metadata": {},
   "outputs": [
    {
     "data": {
      "text/plain": [
       "array(['Basic', 'unknown', 'university.degree', 'high.school',\n",
       "       'professional.course', 'illiterate'], dtype=object)"
      ]
     },
     "execution_count": 7,
     "metadata": {},
     "output_type": "execute_result"
    }
   ],
   "source": [
    "df['education'].unique()"
   ]
  },
  {
   "cell_type": "markdown",
   "metadata": {},
   "source": [
    "### Data exploration"
   ]
  },
  {
   "cell_type": "code",
   "execution_count": 8,
   "metadata": {},
   "outputs": [
    {
     "data": {
      "text/plain": [
       "0    36548\n",
       "1     4640\n",
       "Name: y, dtype: int64"
      ]
     },
     "execution_count": 8,
     "metadata": {},
     "output_type": "execute_result"
    }
   ],
   "source": [
    "df['y'].value_counts()"
   ]
  },
  {
   "cell_type": "code",
   "execution_count": 9,
   "metadata": {},
   "outputs": [
    {
     "data": {
      "image/png": "[encoded data removed]",
      "text/plain": [
       "<Figure size 432x288 with 1 Axes>"
      ]
     },
     "metadata": {
      "needs_background": "light"
     },
     "output_type": "display_data"
    },
    {
     "data": {
      "text/plain": [
       "<Figure size 432x288 with 0 Axes>"
      ]
     },
     "metadata": {},
     "output_type": "display_data"
    }
   ],
   "source": [
    "sns.countplot(x='y',data=df, palette='hls')\n",
    "plt.show()\n",
    "plt.savefig('count_plot')"
   ]
  },
  {
   "cell_type": "markdown",
   "metadata": {},
   "source": [
    "Hay 36548 'no' y 4640 'sí' en las variables de resultado."
   ]
  },
  {
   "cell_type": "markdown",
   "metadata": {},
   "source": [
    "### Create dummy variables"
   ]
  },
  {
   "cell_type": "code",
   "execution_count": 10,
   "metadata": {},
   "outputs": [],
   "source": [
    "cat_vars=['job','marital','education','default','housing','loan','contact','month','day_of_week','poutcome']\n",
    "for var in cat_vars:\n",
    "    cat_list='var'+'_'+var\n",
    "    cat_list = pd.get_dummies(df[var], prefix=var)\n",
    "    data1=df.join(cat_list)\n",
    "    df=data1"
   ]
  },
  {
   "cell_type": "code",
   "execution_count": 11,
   "metadata": {},
   "outputs": [],
   "source": [
    "cat_vars=['job','marital','education','default','housing','loan','contact','month','day_of_week','poutcome']\n",
    "data_vars=df.columns.values.tolist()\n",
    "to_keep=[i for i in data_vars if i not in cat_vars]"
   ]
  },
  {
   "cell_type": "code",
   "execution_count": 12,
   "metadata": {},
   "outputs": [
    {
     "data": {
      "text/plain": [
       "array(['age', 'duration', 'campaign', 'pdays', 'previous', 'emp_var_rate',\n",
       "       'cons_price_idx', 'cons_conf_idx', 'euribor3m', 'nr_employed', 'y',\n",
       "       'job_admin.', 'job_blue-collar', 'job_entrepreneur',\n",
       "       'job_housemaid', 'job_management', 'job_retired',\n",
       "       'job_self-employed', 'job_services', 'job_student',\n",
       "       'job_technician', 'job_unemployed', 'job_unknown',\n",
       "       'marital_divorced', 'marital_married', 'marital_single',\n",
       "       'marital_unknown', 'education_Basic', 'education_high.school',\n",
       "       'education_illiterate', 'education_professional.course',\n",
       "       'education_university.degree', 'education_unknown', 'default_no',\n",
       "       'default_unknown', 'default_yes', 'housing_no', 'housing_unknown',\n",
       "       'housing_yes', 'loan_no', 'loan_unknown', 'loan_yes',\n",
       "       'contact_cellular', 'contact_telephone', 'month_apr', 'month_aug',\n",
       "       'month_dec', 'month_jul', 'month_jun', 'month_mar', 'month_may',\n",
       "       'month_nov', 'month_oct', 'month_sep', 'day_of_week_fri',\n",
       "       'day_of_week_mon', 'day_of_week_thu', 'day_of_week_tue',\n",
       "       'day_of_week_wed', 'poutcome_failure', 'poutcome_nonexistent',\n",
       "       'poutcome_success'], dtype=object)"
      ]
     },
     "execution_count": 12,
     "metadata": {},
     "output_type": "execute_result"
    }
   ],
   "source": [
    "data_final=df[to_keep]\n",
    "data_final.columns.values"
   ]
  },
  {
   "cell_type": "code",
   "execution_count": 13,
   "metadata": {},
   "outputs": [],
   "source": [
    "data_final_vars=data_final.columns.values.tolist()\n",
    "y=['y']\n",
    "X=[i for i in data_final_vars if i not in y]"
   ]
  },
  {
   "cell_type": "code",
   "execution_count": 14,
   "metadata": {},
   "outputs": [],
   "source": [
    "cols=[\"previous\", \"euribor3m\", \"job_blue-collar\", \"job_retired\", \"job_services\", \"job_student\", \"default_no\", \n",
    "      \"month_aug\", \"month_dec\", \"month_jul\", \"month_nov\", \"month_oct\", \"month_sep\", \"day_of_week_fri\", \"day_of_week_wed\", \n",
    "      \"poutcome_failure\", \"poutcome_nonexistent\", \"poutcome_success\"] \n",
    "X=data_final[cols]\n",
    "y=data_final['y']"
   ]
  },
  {
   "cell_type": "code",
   "execution_count": 17,
   "metadata": {},
   "outputs": [
    {
     "data": {
      "text/plain": [
       "0        0\n",
       "1        0\n",
       "2        1\n",
       "3        0\n",
       "4        1\n",
       "        ..\n",
       "41183    0\n",
       "41184    0\n",
       "41185    0\n",
       "41186    0\n",
       "41187    0\n",
       "Name: y, Length: 41188, dtype: int64"
      ]
     },
     "execution_count": 17,
     "metadata": {},
     "output_type": "execute_result"
    }
   ],
   "source": [
    "y"
   ]
  },
  {
   "cell_type": "code",
   "execution_count": 15,
   "metadata": {},
   "outputs": [
    {
     "name": "stdout",
     "output_type": "stream",
     "text": [
      "Optimization terminated successfully.\n",
      "         Current function value: 0.287116\n",
      "         Iterations 7\n",
      "                           Logit Regression Results                           \n",
      "==============================================================================\n",
      "Dep. Variable:                      y   No. Observations:                41188\n",
      "Model:                          Logit   Df Residuals:                    41170\n",
      "Method:                           MLE   Df Model:                           17\n",
      "Date:                Tue, 31 Mar 2020   Pseudo R-squ.:                  0.1844\n",
      "Time:                        12:52:26   Log-Likelihood:                -11826.\n",
      "converged:                       True   LL-Null:                       -14499.\n",
      "Covariance Type:            nonrobust   LLR p-value:                     0.000\n",
      "========================================================================================\n",
      "                           coef    std err          z      P>|z|      [0.025      0.975]\n",
      "----------------------------------------------------------------------------------------\n",
      "previous                 0.2385      0.051      4.642      0.000       0.138       0.339\n",
      "euribor3m               -0.4981      0.012    -40.386      0.000      -0.522      -0.474\n",
      "job_blue-collar         -0.3222      0.049     -6.549      0.000      -0.419      -0.226\n",
      "job_retired              0.3821      0.069      5.552      0.000       0.247       0.517\n",
      "job_services            -0.2423      0.065     -3.701      0.000      -0.371      -0.114\n",
      "job_student              0.3540      0.086      4.107      0.000       0.185       0.523\n",
      "default_no               0.3312      0.056      5.943      0.000       0.222       0.440\n",
      "month_aug                0.4272      0.055      7.770      0.000       0.319       0.535\n",
      "month_dec                0.8061      0.163      4.948      0.000       0.487       1.125\n",
      "month_jul                0.7319      0.056     13.094      0.000       0.622       0.841\n",
      "month_nov                0.2706      0.064      4.249      0.000       0.146       0.395\n",
      "month_oct                0.8043      0.087      9.258      0.000       0.634       0.975\n",
      "month_sep                0.5906      0.096      6.160      0.000       0.403       0.778\n",
      "day_of_week_fri         -0.0044      0.046     -0.097      0.923      -0.094       0.085\n",
      "day_of_week_wed          0.1226      0.044      2.771      0.006       0.036       0.209\n",
      "poutcome_failure        -1.8438      0.100    -18.412      0.000      -2.040      -1.647\n",
      "poutcome_nonexistent    -1.1344      0.070    -16.253      0.000      -1.271      -0.998\n",
      "poutcome_success         0.0912      0.114      0.803      0.422      -0.131       0.314\n",
      "========================================================================================\n"
     ]
    }
   ],
   "source": [
    "import statsmodels.api as sm\n",
    "logit_model=sm.Logit(y,X)\n",
    "result=logit_model.fit()\n",
    "print(result.summary())"
   ]
  },
  {
   "cell_type": "markdown",
   "metadata": {},
   "source": [
    "Los $valores-p$ para la mayoría de las variables son muy pequeños, por lo tanto, la mayoría de ellos son significativos para el modelo."
   ]
  },
  {
   "cell_type": "markdown",
   "metadata": {},
   "source": [
    "### Logistic Regression Model Fitting"
   ]
  },
  {
   "cell_type": "code",
   "execution_count": 16,
   "metadata": {},
   "outputs": [
    {
     "name": "stderr",
     "output_type": "stream",
     "text": [
      "C:\\Users\\SantaCruz\\Anaconda3\\lib\\site-packages\\sklearn\\linear_model\\logistic.py:432: FutureWarning: Default solver will be changed to 'lbfgs' in 0.22. Specify a solver to silence this warning.\n",
      "  FutureWarning)\n"
     ]
    },
    {
     "data": {
      "text/plain": [
       "LogisticRegression(C=1.0, class_weight=None, dual=False, fit_intercept=True,\n",
       "                   intercept_scaling=1, l1_ratio=None, max_iter=100,\n",
       "                   multi_class='warn', n_jobs=None, penalty='l2',\n",
       "                   random_state=None, solver='warn', tol=0.0001, verbose=0,\n",
       "                   warm_start=False)"
      ]
     },
     "execution_count": 16,
     "metadata": {},
     "output_type": "execute_result"
    }
   ],
   "source": [
    "X_train, X_test, y_train, y_test = train_test_split(X, y, test_size=0.3, random_state=0)\n",
    "from sklearn.linear_model import LogisticRegression\n",
    "from sklearn import metrics\n",
    "logreg = LogisticRegression()\n",
    "logreg.fit(X_train, y_train)"
   ]
  },
  {
   "cell_type": "code",
   "execution_count": 17,
   "metadata": {},
   "outputs": [],
   "source": [
    "y_pred = logreg.predict(X_test)"
   ]
  },
  {
   "cell_type": "code",
   "execution_count": 18,
   "metadata": {},
   "outputs": [
    {
     "name": "stdout",
     "output_type": "stream",
     "text": [
      "Accuracy of logistic regression classifier on test set: 0.90\n"
     ]
    }
   ],
   "source": [
    "print('Accuracy of logistic regression classifier on test set: {:.2f}'.format(logreg.score(X_test, y_test)))"
   ]
  },
  {
   "cell_type": "markdown",
   "metadata": {},
   "source": [
    "### Cross Validation"
   ]
  },
  {
   "cell_type": "code",
   "execution_count": 19,
   "metadata": {},
   "outputs": [],
   "source": [
    "from sklearn import model_selection\n",
    "from sklearn.model_selection import cross_val_score\n",
    "import warnings\n",
    "warnings.filterwarnings(\"ignore\")"
   ]
  },
  {
   "cell_type": "code",
   "execution_count": 20,
   "metadata": {},
   "outputs": [
    {
     "name": "stdout",
     "output_type": "stream",
     "text": [
      "10-fold cross validation average accuracy: 0.897\n"
     ]
    }
   ],
   "source": [
    "kfold = model_selection.KFold(n_splits=10, random_state=7)\n",
    "modelCV = LogisticRegression()\n",
    "scoring = 'accuracy'\n",
    "results = model_selection.cross_val_score(modelCV, X_train, y_train, cv=kfold, scoring=scoring)\n",
    "print(\"10-fold cross validation average accuracy: %.3f\" % (results.mean()))"
   ]
  },
  {
   "cell_type": "markdown",
   "metadata": {},
   "source": [
    "### Confusion Matrix"
   ]
  },
  {
   "cell_type": "code",
   "execution_count": 21,
   "metadata": {},
   "outputs": [
    {
     "name": "stdout",
     "output_type": "stream",
     "text": [
      "[[10872   109]\n",
      " [ 1122   254]]\n"
     ]
    }
   ],
   "source": [
    "from sklearn.metrics import confusion_matrix\n",
    "confusion_matrix = confusion_matrix(y_test, y_pred)\n",
    "print(confusion_matrix)"
   ]
  },
  {
   "cell_type": "markdown",
   "metadata": {},
   "source": [
    "El resultado nos dice que tenemos 10872 + 254 predicciones correctas y 1122 + 109 predicciones incorrectas."
   ]
  },
  {
   "cell_type": "code",
   "execution_count": null,
   "metadata": {},
   "outputs": [],
   "source": []
  }
 ],
 "metadata": {
  "kernelspec": {
   "display_name": "Python 3",
   "language": "python",
   "name": "python3"
  },
  "language_info": {
   "codemirror_mode": {
    "name": "ipython",
    "version": 3
   },
   "file_extension": ".py",
   "mimetype": "text/x-python",
   "name": "python",
   "nbconvert_exporter": "python",
   "pygments_lexer": "ipython3",
   "version": "3.7.6"
  }
 },
 "nbformat": 4,
 "nbformat_minor": 2
}

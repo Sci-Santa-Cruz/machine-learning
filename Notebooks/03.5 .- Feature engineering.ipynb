{
 "cells": [
  {
   "cell_type": "markdown",
   "metadata": {},
   "source": [
    "\n",
    "<div class=\"jumbotron\">\n",
    "  <h1><i class=\"fa fa-bar-chart\" aria-hidden=\"true\"></i> Ingeniería de características</h1>\n",
    "  <p></p>\n",
    "</div>\n",
    "\n"
   ]
  },
  {
   "cell_type": "markdown",
   "metadata": {},
   "source": [
    "Como ya sabemos, el estudio de los objetos para su reconocimiento mediante dispositivos computacionales se realiza no directamente sobre los mismos sino sobre sus representaciones en un cierto espacio. Espacio que es construido a partir de las variables o rasgos que describen a los objetos. Estas representaciones pueden referirse a la __estructura propia de los objetos o a la descripción, digamos semántica, de los mismos__. En este último tipo de representación es que concentraremos nuestro análisis, aunque mucho de lo que aquí analizaremos es extensible a los otros tipos de representación.[Similaridad vs. distancia. Ochoa Ruiz-Shulcloper et al.]"
   ]
  },
  {
   "cell_type": "markdown",
   "metadata": {},
   "source": [
    "El aprendizaje automático ajusta los modelos matemáticos a los datos para derivar ideas o hacer predicciones. Estos modelos toman características como entrada. Una característica es una representación numérica de un aspecto de los datos sin procesar. Las características se ubican entre los datos y los modelos en la tubería de aprendizaje automático. \n",
    "\n",
    "Ingeniería de características __es el acto de extraer características de datos sin procesar y transformarlas en formatos que sean adecuados para el modelo de aprendizaje automático__ . Es un paso crucial en la tubería de aprendizaje automático, porque las características correctas pueden aliviar la dificultad de modelar y, por lo tanto, permitir que la tubería genere resultados de mayor calidad. Los profesionales coinciden en que la gran mayoría del tiempo en la construcción de una tubería de aprendizaje automático se dedica a la ingeniería de características y la limpieza de datos. Sin embargo, a pesar de su importancia, el tema rara vez se discute por sí solo. \n",
    "\n",
    "\n",
    "Quizás esto se deba a que las características correctas solo se pueden definir en el contexto tanto del modelo como de los datos; Dado que los datos y los modelos son tan diversos, __es difícil generalizar la práctica de la ingeniería de características en todos los proyectos__ .Sin embargo, la ingeniería de características no es solo una práctica ad hoc. Hay principios más profundos en el trabajo, y se ilustran mejor in situ. \n",
    "\n",
    "Piense en esto como una colección de historias cortas interconectadas, en lugar de una sola novela larga. Cada capítulo proporciona una viñeta en la amplia gama de técnicas de ingeniería de características existentes. Juntos, ilustran los principios generales.Dominar un tema no es solo conocer las definiciones y poder derivar las fórmulas. No es suficiente saber cómo funciona el mecanismo y qué puede hacer; también hay que entender por qué está diseñado de esa manera, cómo se relaciona con otras técnicas y cuáles son los pros y los contras de cada enfoque. El dominio se trata de saber con precisión cómo se hace algo, tener una intuición de los principios subyacentes e integrarlo en la red de conocimiento existente. \n",
    "\n",
    "Uno __no se convierte en un maestro de algo simplemente leyendo un libro__ , aunque un buen libro puede abrir nuevas puertas. Tiene que implicar práctica: __poner en práctica las ideas__ , que es un proceso iterativo. Con cada iteración, conocemos mejor las ideas y nos volvemos cada vez más expertos y creativos para aplicarlas."
   ]
  },
  {
   "cell_type": "markdown",
   "metadata": {},
   "source": [
    "# Proteínas \n",
    "\n",
    "<img src=\"images/4.jpeg\" alt=\"Drawing\" style=\"width:900px;\"/>"
   ]
  },
  {
   "cell_type": "markdown",
   "metadata": {},
   "source": [
    "### Representación de información biológica\n",
    "Un problema fundamental de la bioinformática esta relacionado en la forma de representar los datos en forma numérica, partiendo de modelos de representación alfabética,\n",
    "como lo es el caso de las secuencias de proteínas. El uso directo de códigos alfabéticos,\n",
    "los cuales no contiene una métrica implícita de comparación, trae como consecuencia que\n",
    "no se vea reflejada una relación directa entre la similitud de las estructuras. La perdida\n",
    "de informaci´on de las propiedades físico-químicas y relaci´on de orden es notoria al ser\n",
    "comparadas dos secuencias [Atchley et al., 2005].\n",
    "\n",
    "\n",
    "La conformación de largas secuencias alfabéticas y variabilidad del numero de aminoácidos que las componen, demanda el uso de sofisticados análisis estadísticos para el correcto\n",
    "estudio de las estructura y aspectos funcionales de las secuencias. A medida que se incrementa la calidad, como la cantidad de información en un modelado numérico, aumenta\n",
    "la precisi´on al comparar secuencias, lo que facilita el proceso de toma de decisiones.\n",
    "El modelado de secuencias alfabéticas a una forma numérica se conoce como representación de secuencias de aminoácidos. Como ya se mencionó, cada proteína presenta\n",
    "una secuencia específica en orden y repetición de aminoácidos (secuencias nativas). \n",
    "\n",
    "Esta\n",
    "secuencia se llama estructura primaria y contiene la información necesaria para que las\n",
    "secuencia adquieran formas más complejas como son la estructura secundaria y tridimensional [Smith and Waterman, 1981]."
   ]
  },
  {
   "cell_type": "markdown",
   "metadata": {},
   "source": [
    "<img src=\"images/seq.png\" alt=\"Drawing\" style=\"width:600px;\"/>"
   ]
  },
  {
   "cell_type": "markdown",
   "metadata": {},
   "source": [
    " "
   ]
  },
  {
   "cell_type": "markdown",
   "metadata": {},
   "source": [
    "La longitud de las secuencias alfabéticas es variable y va de 225 a 1,955 aminoácidos por proteína.\n",
    "\n",
    "La figura muestra un ejemplo de subcadena de una secuencia de aminoácidos. Para\n",
    "que los algoritmos de machine learning pueda realizar su labor de predicción, es necesario\n",
    "un modelado en el que sus componentes más importantes puedan ser representados de\n",
    "forma computacional. Una secuencia de aminoácidos puede ser representada por medio de\n",
    "un vector residente en un espacio n-dimensional, aunque también es posible representarla\n",
    "por medio de un grafo."
   ]
  },
  {
   "cell_type": "markdown",
   "metadata": {},
   "source": [
    "#### Composición de aminoácidos (AAC)\n",
    "\n",
    "\n",
    "La composición de aminoácidos es el número de aminoácidos de cada tipo normalizado con el número total de residuos. Se define como:"
   ]
  },
  {
   "cell_type": "markdown",
   "metadata": {},
   "source": [
    "\\begin{equation*}\n",
    "comp(i) = \\sum_{i=1}^k n_i *100 / N \n",
    "\\end{equation*}"
   ]
  },
  {
   "cell_type": "markdown",
   "metadata": {},
   "source": [
    "donde $i$ representa los _20_ residuos de aminoácidos; $n_i$ es el número de residuos de cada tipo, y $N$ es el número total de residuos. La suma es a través de todos los residuos en la proteína considerada.\n",
    "\n",
    "Debido a su simplicidad, el modelo de composición de aminoácidos (AAC) se utilizó ampliamente en muchos métodos estadísticos anteriores para predecir los atributos de las proteínas. Sin embargo, toda la información del orden de secuencia se pierde. Esta es su principal deficiencia."
   ]
  },
  {
   "cell_type": "markdown",
   "metadata": {},
   "source": [
    "# Texto"
   ]
  },
  {
   "cell_type": "markdown",
   "metadata": {},
   "source": [
    "\n",
    "\n",
    "Un problema con el modelado de texto es que es desordenado, y técnicas como los algoritmos de aprendizaje automático prefieren entradas y salidas de longitud fija bien definidas.\n",
    "\n",
    "Los algoritmos de aprendizaje automático no pueden funcionar directamente con texto sin formato; El texto debe convertirse en números. Específicamente, vectores de números. \n",
    "\n",
    "\n",
    "Una bolsa de palabras es una representación de texto que describe la aparición de palabras dentro de un documento. Implica dos cosas:\n",
    "\n",
    "    - Un vocabulario de palabras conocidas.\n",
    "    - Una medida de la presencia de palabras conocidas. "
   ]
  },
  {
   "cell_type": "markdown",
   "metadata": {},
   "source": [
    "### Preprocesamiento de texto"
   ]
  },
  {
   "cell_type": "markdown",
   "metadata": {},
   "source": [
    "- Normalización:  que consiste en homogeneizar todo el texto de la colección de documentos sobre la que se trabajará, y que afecta por ejemplo a la consideración de los términos en mayúscula o minúscula; el control de determinados parámetros como cantidades numéricas o fechas; el control de abreviaturas y acrónimos, eliminación de palabras vacías mediante la aplicación de listas de palabras función (preposiciones, artículos, etc.), la identificación de N-Gramas, etc.\n",
    "\n",
    "- Stemming y lemenatización:  \n",
    "\n",
    "    - __Stemming__ es un método para reducir una palabra a su raíz o (en inglés) a un stem. Hay algunos algoritmos de stemming que ayudan en sistemas de recuperación de información. Stemming aumenta el recall que es una medida sobre el número de documentos que se pueden encontrar con una consulta. Por ejemplo una consulta sobre \"bibliotecas\" también encuentra documentos en los que solo aparezca \"bibliotecario\" porque el stem de las dos palabras es el mismo (\"bibliotec\").\n",
    "\n",
    "    - La __lematización__ es un proceso lingüístico que consiste en, dada una forma flexionada (es decir, en plural, en femenino, conjugada, etc), hallar el lema correspondiente. El lema es la forma que por convenio se acepta como representante de todas las formas flexionadas de una misma palabra. Es decir, el lema de una palabra es la palabra que nos encontraríamos como entrada en un diccionario tradicional: singular para sustantivos, masculino singular para adjetivos, infinitivo para verbos. Por ejemplo, decir es el lema de dije, pero también de diré o dijéramos; guapo es el lema de guapas; mesa es el lema de mesas.\n",
    "\n",
    "\n",
    "\n",
    "- Stop words:\n",
    "\n",
    "Palabras vacías es el nombre que reciben las palabras sin significado como artículos, pronombres, preposiciones, etc. que son filtradas antes o después del procesamiento de datos en lenguaje natural (texto). A Hans Peter Luhn, uno de los pioneros en recuperación de información, se le atribuye la acuñación de la locución inglesa stop words y el uso del concepto en su diseño. Está controlada por introducción humana y no automática.\n",
    "\n",
    "No hay una lista definitiva de palabras vacías que todas las herramientas de procesamiento de lenguajes naturales incorporen. No todas las herramientas de PLN usan una lista de palabras vacías. Algunas herramientas evitan usarlo específicamente para soportar búsquedas por frase. El uso de un algoritmo de stemming puede reducir parte de la base lógica o dependencia de una lista de palabras vacías a filtrar.\n",
    "\n",
    "Las palabras vacías pueden causar problemas al usar un motor de búsqueda para buscar frases que las incluyen, especialmente en nombres como 'La verdad' o 'Nunca Jamás'.\n"
   ]
  },
  {
   "cell_type": "code",
   "execution_count": 12,
   "metadata": {},
   "outputs": [
    {
     "data": {
      "text/plain": [
       "['hola que tal, habla eli hernandez de probi , me puede comunicar  con las personas de las referencias laborales por favor',\n",
       " 'hola buenos días, comunicame con recursos humanos donde me da una referencia laboral']"
      ]
     },
     "execution_count": 12,
     "metadata": {},
     "output_type": "execute_result"
    }
   ],
   "source": [
    "['hola que tal, habla eli hernandez de probi , me puede comunicar  con las personas de las referencias laborales por favor',\n",
    "'hola buenos días, comunicame con recursos humanos donde me da una referencia laboral']"
   ]
  },
  {
   "cell_type": "code",
   "execution_count": 3,
   "metadata": {},
   "outputs": [
    {
     "data": {
      "text/plain": [
       "['poder comunicar persona referencia laboral',\n",
       " 'comunicar  recursos humanos  referencia laboral']"
      ]
     },
     "execution_count": 3,
     "metadata": {},
     "output_type": "execute_result"
    }
   ],
   "source": [
    "['poder comunicar persona referencia laboral',\n",
    "    \n",
    "'comunicar  recursos humanos  referencia laboral']"
   ]
  },
  {
   "cell_type": "markdown",
   "metadata": {},
   "source": [
    "El vocabulario son las palabras únicas dentro del universo "
   ]
  },
  {
   "cell_type": "markdown",
   "metadata": {},
   "source": [
    "### Transformación\n",
    "\n",
    "<img src=\"images/bow.png\" alt=\"Drawing\" style=\"width:600px;\"/>"
   ]
  },
  {
   "cell_type": "markdown",
   "metadata": {},
   "source": [
    "# Imágenes\n",
    "\n",
    "\n",
    "La vista y el sonido son entradas sensoriales innatas para los humanos. Nuestros cerebros están cableados para evolucionar rápidamente nuestras habilidades para procesar señales visuales y auditivas, y algunos sistemas se desarrollan para responder al estímulo incluso antes del nacimiento (Eliot, 2000). Las habilidades lingüísticas, por otro lado, se aprenden. Tardan meses en desarrollarse y años en dominarse. Muchas personas dan por sentado el desarrollo de su visión y audición, pero todos hemos tenido que entrenar intencionalmente nuestros cerebros para comprender y usar el lenguaje.\n",
    "\n",
    "Curiosamente, la situación es la inversa del aprendizaje automático. Hemos avanzado mucho más con las aplicaciones de análisis de texto que con la imagen o el audio.  Tome el problema de búsqueda, por ejemplo. Las personas han disfrutado años de relativo éxito en la recuperación de información y búsqueda de texto, mientras que la búsqueda de imágenes y audio todavía se está perfeccionando (aunque el avance en los modelos de aprendizaje profundo en los últimos cinco años finalmente puede anunciar la revolución tan esperada en el análisis de imagen y habla) .\n",
    "\n",
    "\n",
    "La dificultad del progreso está directamente relacionada con la dificultad de extraer características significativas de los respectivos tipos de datos. Los modelos de aprendizaje automático requieren características semánticamente significativas para hacer predicciones semánticamente significativas. En el análisis de texto, particularmente para idiomas como el inglés, donde una unidad básica de significado semántico (una palabra) es fácilmente extraíble, el progreso se puede hacer muy rápido. Las imágenes y el audio, por otro lado, se graban como píxeles digitales o formas de onda. Un solo \"átomo\" en una imagen es un píxel. En datos de audio, es una medida única de la intensidad de la forma de onda. Estos contienen mucha menos información semántica que un átomo, una palabra, de datos de texto. Por lo tanto, el trabajo de extracción de características e ingeniería es mucho más desafiante en imagen y audio que en texto.\n",
    "\n",
    "\n",
    "En los últimos 20 años, la investigación de visión por computadora se ha centrado en tuberías definidas manualmente para extraer buenas características de imagen. Durante un tiempo, los extractores de funciones de imagen como SIFT y HOG (descritos en las siguientes secciones) fueron el estándar. Los desarrollos recientes en la investigación de aprendizaje profundo han ampliado el alcance de los modelos tradicionales de aprendizaje automático al incorporar la extracción automática de características en las capas base.  Esencialmente reemplazan los extractores de imágenes de características definidas manualmente con modelos definidos manualmente que aprenden y extraen características automáticamente. El trabajo manual todavía está allí, simplemente abstraído aún más en el vientre de la bestia de modelado.\n",
    "\n",
    "Los extractores de características se desarrollarón originalmente para la tarea de reconocimiento de objetos, lo que implica no solo etiquetar correctamente la imagen como que contiene un objeto, sino identificar su ubicación en la imagen. El proceso implica analizar la imagen en una pirámide de escalas posibles, detectar puntos de interés que podrían indicar la presencia del objeto, extraer características (comúnmente llamadas descriptores de imágenes en la visión por computadora) sobre los puntos de interés y determinar la pose del objeto.\n",
    "\n",
    "<img src=\"images/9.jpg\" alt=\"Drawing\" style=\"width:600px;\"/>"
   ]
  },
  {
   "cell_type": "markdown",
   "metadata": {},
   "source": [
    "### Las características de imagen más simples (y por qué no funcionan)\n",
    "\n",
    "¿Cuáles son las características correctas para extraer de una imagen? La respuesta, por supuesto, depende de lo que estamos tratando de hacer con esas características. Digamos que nuestra tarea es la recuperación de imágenes: se nos da una imagen y se nos pide que busquemos imágenes similares de una base de datos de imágenes. Necesitamos decidir cómo representar cada imagen y cómo medir las diferencias entre ellas. ¿Podemos ver el porcentaje de diferentes colores en una imagen? La Figura  muestra dos imágenes que tienen aproximadamente el mismo perfil de color pero significados muy diferentes; uno parece una nube blanca en un cielo azul, y el otro es la bandera de Grecia. Por lo tanto, la información de color probablemente no sea suficiente para caracterizar una imagen."
   ]
  },
  {
   "cell_type": "markdown",
   "metadata": {},
   "source": [
    "<img src=\"images/featur_extra.png\" alt=\"Drawing\" style=\"width:600px;\"/>"
   ]
  },
  {
   "cell_type": "markdown",
   "metadata": {},
   "source": [
    "Otra idea simple es medir las diferencias de valor de píxeles entre imágenes. Primero, cambie el tamaño de las imágenes para que tengan el mismo ancho y alto. Cada imagen está representada por una matriz de valores de píxeles. La matriz se puede apilar en un vector largo, ya sea por fila o por columna. El color de cada píxel (p. Ej., La codificación RGB del color) ahora es una característica de la imagen. Finalmente, mida la distancia euclidiana entre los vectores de píxeles largos. Esto definitivamente nos permitiría distinguir la bandera griega y las nubes blancas, pero es demasiado estricta como medida de similitud. Una nube podría adoptar miles de formas diferentes y seguir siendo una nube. Podría desplazarse hacia un lado de la imagen, o la mitad podría quedar en la sombra. Todas estas transformaciones aumentarían la distancia euclidiana, pero no deberían cambiar el hecho de que la imagen todavía es de una nube.El problema es que los píxeles individuales no llevan suficiente información semántica sobre la imagen. Por lo tanto, son malas unidades atómicas para el análisis."
   ]
  },
  {
   "cell_type": "markdown",
   "metadata": {},
   "source": [
    "### Imagenes de mamografías\n",
    "\n",
    "El cáncer de mama es un cáncer que se forma en los tejidos de la mama, por lo general en los conductos y los lobulillos (Instituto Nacional del Cáncer, 2013). Es considerado un problema de salud mundial y en México, a partir del 2006, ocupa el primer lugar como causa de muerte entre mujeres."
   ]
  },
  {
   "cell_type": "markdown",
   "metadata": {},
   "source": [
    "<img src=\"images/2.jpg\" alt=\"Drawing\" style=\"width:300px;\"/>"
   ]
  },
  {
   "cell_type": "markdown",
   "metadata": {},
   "source": [
    "El análisis de una imagen mamográfica consta de varios pasos \n",
    "\n",
    "1.- __Detección de la masas (detección de objeto)__"
   ]
  },
  {
   "cell_type": "markdown",
   "metadata": {},
   "source": [
    "<img src=\"images/mama_2.png\" alt=\"Drawing\" style=\"width:300px;\"/>"
   ]
  },
  {
   "cell_type": "markdown",
   "metadata": {},
   "source": [
    "2.- __Aislar el objeto de interes (masa)__"
   ]
  },
  {
   "cell_type": "markdown",
   "metadata": {},
   "source": [
    "<img src=\"images/descriptores_2.png\" alt=\"Drawing\" style=\"width:600px;\"/>"
   ]
  },
  {
   "cell_type": "markdown",
   "metadata": {},
   "source": [
    "Las masas son uno de los signos más importantes de la presencia del cáncer y que un radiólogo busca al analizar mamografías. Este tipo de lesiones son estructuras tridimensionales que tienen, total o parcialmente, bordes externos convexos y son evidentes en al menos dos proyecciones de la mama (Pant, 2011). Los radiólogos para formular la interpretación de una mamografía deben caracterizar estas lesiones de acuerdo a su ubicación, forma, márgenes y densidad. La forma de una masa puede ser redonda, oval o irregular; sus márgenes pueden ser circunscritos, microlobulados, mal definidos y espiculados; y la densidad puede ser alta, isodensa (igual densidad), baja (baja atenuación, pero no contiene grasa), y radiolúcido (contiene grasa) (Bozek, et al., 2009; Velasquez, 1997).\n",
    "\n",
    "\n",
    "Existe una gran complejidad en la detección y descripción de masas, debido principalmente a las características del tejido mamario, y a la calidad de las imágenes de mamografía. Muchas veces, las masas no pueden ser visualizadas debido a que la mama está constituida por tejidos muy similares entre sí, y porque, algunas veces las lesiones son muy pequeñas y se confunden con el tejido mamario normal (Bozek, et al., 2009)"
   ]
  },
  {
   "cell_type": "markdown",
   "metadata": {},
   "source": [
    "<img src=\"images/masas.png\" alt=\"Drawing\" style=\"width:500;\"/>"
   ]
  },
  {
   "cell_type": "markdown",
   "metadata": {},
   "source": [
    "3.- __Obtener descriptores__"
   ]
  },
  {
   "cell_type": "markdown",
   "metadata": {},
   "source": [
    "<img src=\"images/lista.png\" alt=\"Drawing\" style=\"width:1400;\"/>"
   ]
  },
  {
   "cell_type": "markdown",
   "metadata": {},
   "source": [
    "<img src=\"images/descriptores_3.png\" alt=\"Drawing\" style=\"width:600px;\"/>"
   ]
  },
  {
   "cell_type": "markdown",
   "metadata": {},
   "source": [
    "4.- __Creación del modelo de clasificación__"
   ]
  },
  {
   "cell_type": "markdown",
   "metadata": {},
   "source": [
    "<img src=\"images/gibss.png\" alt=\"Drawing\" style=\"width:600px;\"/>"
   ]
  },
  {
   "cell_type": "markdown",
   "metadata": {},
   "source": [
    "### Combinaciones de atributos\n",
    "\n",
    "Una combinación de atributos es un atributo sintético formado al multiplicar (combinar) dos o más atributos. La multiplicación de combinaciones de atributos puede proporcionar capacidades predictivas más allá de las que esos atributos pueden ofrecer de manera individual. Según el autor, este proceso puede mal llamarse ingeniería de carácterísticas"
   ]
  },
  {
   "cell_type": "markdown",
   "metadata": {},
   "source": [
    "En las Figuras 1 y 2, imagina lo siguiente:\n",
    "\n",
    "- Los puntos azules representan árboles enfermos.\n",
    "- Los puntos anaranjados representan árboles sanos.\n"
   ]
  },
  {
   "cell_type": "markdown",
   "metadata": {},
   "source": [
    "<img src=\"images/arboles.png\" alt=\"Drawing\" style=\"width:600px;\"/>"
   ]
  },
  {
   "cell_type": "markdown",
   "metadata": {},
   "source": [
    "Figura 1: ¿Puedes trazar una línea que separe eficientemente los árboles enfermos de los sanos? Por supuesto. Este es un problema lineal. La línea no será perfecta. Es posible que uno o dos árboles enfermos se encuentren del lado \"sano\", pero la línea será un buen predictor.\n",
    "\n",
    "\n",
    "Figura 2: ¿Puedes trazar una sola línea recta que separe los árboles enfermos de los árboles sanos? No, no puedes. Este es un problema no lineal. Cualquier línea que dibujes será un predictor deficiente del estado de los árboles."
   ]
  },
  {
   "cell_type": "markdown",
   "metadata": {},
   "source": [
    "Para resolver el problema no lineal que se muestra en la Figura 2, crea una combinación de atributos. Una combinación de atributos es un atributo sintético que codifica la no linealidad en el espacio de los atributos al multiplicar dos o más atributos de entrada en conjunto. (El término combinación proviene de combinación lineal). Creemos una combinación de atributos denominada al combinar $x_1$ y $x_2$\n",
    "\n",
    "$x_3 = x_1 x_2$\n",
    "\n",
    "Esta combinación de atributos $x_3$ generada recientemente se tratará como cualquier otro atributo. La fórmula lineal pasa a ser la siguiente:\n",
    "\n",
    "<img src=\"images/x3.png\" alt=\"Drawing\" style=\"width:300px;\"/>\n",
    "\n",
    "Un algoritmo lineal puede aprender una ponderación para $w3$ como lo haría para $w_1$ y $w_2$ . En otras palabras, aunque codifique información no lineal, no necesitas cambiar la manera en la que el modelo lineal se entrena para determinar el valor de $w_3$\n",
    "\n",
    "#### Tipos de combinaciones de atributos\n",
    "\n",
    "Es posible crear muchos tipos de combinaciones de atributos diferentes. Por ejemplo:\n",
    "\n",
    "    [A X B]: Una combinación de atributos formada al multiplicar los valores de dos atributos.\n",
    "    [A x B x C x D x E]: Una combinación de atributos formada al multiplicar los valores de cinco atributos.\n",
    "    [A x A]: Una combinación de atributos formada al elevar al cuadrado un solo atributo.\n",
    "\n",
    "Gracias al descenso de gradiente estocástico, los modelos lineales se pueden entrenar de manera eficaz. En consecuencia, la complementación de los modelos lineales ajustados con combinaciones de atributos tradicionalmente ha sido una forma eficaz de entrenar conjuntos de datos de escala masiva."
   ]
  },
  {
   "cell_type": "markdown",
   "metadata": {},
   "source": [
    "## Conversión de características categóricas a numéricas: codificación única y codificación ordinal"
   ]
  },
  {
   "cell_type": "markdown",
   "metadata": {},
   "source": [
    "A menudo es útil medir objetos no en términos de su cantidad sino en términos de cierta calidad. Con frecuencia representamos esta información cualitativa como membresía de una observación en una categoría discreta como género, colores o marca de automóvil. Sin embargo, no todos los datos categóricos son iguales. Los conjuntos de categorías sin orden intrínseco se denominan nominales . Los ejemplos de categorías nominales incluyen:\n",
    "\n",
    "- Azul, rojo, verde\n",
    "\n",
    "- Hombre mujer\n",
    "\n",
    "- Plátano, Fresa, Manzana\n",
    "\n",
    "A diferencia de, cuando un conjunto de categorías tiene algún orden natural, nos referimos a él como ordinal . Por ejemplo:\n",
    "\n",
    "- Bajo medio alto\n",
    "\n",
    "- Joven, viejo\n",
    "\n",
    "- De acuerdo, neutral, en desacuerdo\n",
    "\n",
    "Además, la información categórica se representa a menudo en datos como un vector o columna de cadenas (por ejemplo, \"Maine\", \"Texas\", \"Delaware\"). El problema es que la mayoría de los algoritmos de aprendizaje automático requieren que las entradas sean valores numéricos.\n",
    "\n",
    "El algoritmo  k-vecino más cercano proporciona un ejemplo simple. Un paso en el algoritmo es calcular las distancias entre observaciones, a menudo usando la distancia euclidiana :\n",
    "\n",
    "$$ \\sum_{i=1}^{n} \\sqrt{(x_{i}-y_{i})^2}.$$"
   ]
  },
  {
   "cell_type": "markdown",
   "metadata": {},
   "source": [
    "donde $x$ e $y$ son dos observaciones y el subíndice $i$ denota el valor de la característica $i-ésima$ de las observaciones . Sin embargo, el cálculo de la distancia obviamente es imposible si el valor de $x_i$ es una cadena (por ejemplo, \"Texas\"). En cambio, necesitamos convertir la cadena en algún formato numérico para que pueda ingresarse en la ecuación de distancia euclidiana. Nuestro objetivo es hacer una transformación que transmita adecuadamente la información en las categorías (ordinalidad, intervalos relativos entre categorías, etc.). "
   ]
  },
  {
   "cell_type": "markdown",
   "metadata": {},
   "source": [
    "Tú tienen una característica con clases nominales que no tiene un orden intrínseco (por ejemplo, manzana, pera, plátano).\n",
    "\n",
    "Podríamos pensar que la estrategia adecuada es asignar a cada clase un valor numérico (por ejemplo, Texas = 1, California = 2). Sin embargo, cuando nuestras clases no tienen un orden intrínseco (por ejemplo, Texas no es \"menor\" que California), nuestros valores numéricos crean erróneamente un orden que no está presente.La estrategia adecuada es crear una característica binaria para cada clase en la característica original. Esto a menudo se denomina __one hot encodig__ (en la literatura de aprendizaje automático) o __dummy__ (en literatura estadística y de investigación). La característica de nuestra solución fue un vector que contenía tres clases (es decir, Texas, California y Delaware). En la codificación única, cada clase se convierte en su propia característica con 1s cuando aparece la clase y 0s de lo contrario. Debido a que nuestra característica tenía tres clases, la codificación en caliente devolvió tres características binarias (una para cada clase). Mediante el uso de la codificación one-hot podemos capturar la membresía de una observación en una clase mientras conservamos la noción de que la clase carece de algún tipo de jerarquía.Finalmente, vale la pena señalar que a menudo se recomienda que después de codificar una característica en caliente, eliminemos una de las características codificadas en caliente en la matriz resultante para evitar dependencia."
   ]
  },
  {
   "cell_type": "markdown",
   "metadata": {},
   "source": [
    "#### Codificación One-hot"
   ]
  },
  {
   "cell_type": "markdown",
   "metadata": {},
   "source": [
    "La solución más simple que podemos pensar en términos de transformar una característica categórica con k valores posibles es mapearla a una característica numérica con valores de 1 a k . Por ejemplo, [ Tecnología , Moda , Moda , Deportes , Tecnología , Tecnología , Deportes ] se convierte en [1, 2, 2, 3, 1, 1, 3]. Sin embargo, esto impondrá una característica ordinal, como que Sports sea ​​mayor que Tech , y una propiedad de distancia, como Sports que esté más cerca de Fashion que de Tech .En cambio, la codificación de uno en caliente convierte la característica categórica en k características binarias. Cada característica binaria indica la presencia o ausencia de un valor posible correspondiente. Por lo tanto, el ejemplo anterior se convierte en el siguiente:"
   ]
  },
  {
   "cell_type": "markdown",
   "metadata": {},
   "source": [
    "\n",
    "\n",
    "<img src=\"images/oh_1.png\" alt=\"Drawing\" style=\"width:400px;\"/>"
   ]
  },
  {
   "cell_type": "markdown",
   "metadata": {},
   "source": [
    "#### Codificación de características categóricas ordinales"
   ]
  },
  {
   "cell_type": "markdown",
   "metadata": {},
   "source": [
    "A menudo tenemos una función con clases que tienen algún tipo de orden natural. Un ejemplo famoso es la escala Likert:\n",
    "\n",
    "- Totalmente de acuerdo\n",
    "- De acuerdo\n",
    "- Neutral\n",
    "- Discrepar\n",
    "- Muy en desacuerdo\n",
    "\n",
    "Al codificar la función para su uso en el aprendizaje automático, necesitamos transformar las clases ordinales en valores numéricos que mantengan la noción de orden. El enfoque más común es crear un diccionario que asigne la etiqueta de cadena de la clase a un número y luego aplicar ese mapa a la entidad.Es importante que nuestra elección de valores numéricos se base en nuestra información previa sobre las clases ordinales. En nuestra solución, highes literalmente tres veces más grande que low. Esto está bien en cualquier caso, pero puede desglosarse si los intervalos supuestos entre las clases no son iguales:"
   ]
  },
  {
   "cell_type": "markdown",
   "metadata": {},
   "source": [
    "\n",
    "\n",
    "<img src=\"images/encod.png\" alt=\"Drawing\" style=\"width:800px;\"/>"
   ]
  },
  {
   "cell_type": "markdown",
   "metadata": {},
   "source": [
    "En este ejemplo, la distancia entre Low y Medium es la misma que la distancia entre Medium y Barel y More Than Medium, que casi con certeza no es precisa. El mejor enfoque es ser consciente de los valores numéricos asignados aclases:"
   ]
  },
  {
   "cell_type": "markdown",
   "metadata": {},
   "source": [
    "<img src=\"images/encod_2.png\" alt=\"Drawing\" style=\"width:800px;\"/>"
   ]
  },
  {
   "cell_type": "markdown",
   "metadata": {},
   "source": [
    "####  Tarea:\n",
    "\n",
    "\n",
    "Datos Cíclicos"
   ]
  },
  {
   "cell_type": "code",
   "execution_count": null,
   "metadata": {},
   "outputs": [],
   "source": []
  }
 ],
 "metadata": {
  "kernelspec": {
   "display_name": "Python 3 (ipykernel)",
   "language": "python",
   "name": "python3"
  },
  "language_info": {
   "codemirror_mode": {
    "name": "ipython",
    "version": 3
   },
   "file_extension": ".py",
   "mimetype": "text/x-python",
   "name": "python",
   "nbconvert_exporter": "python",
   "pygments_lexer": "ipython3",
   "version": "3.10.13"
  }
 },
 "nbformat": 4,
 "nbformat_minor": 2
}

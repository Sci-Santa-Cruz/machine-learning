{
  "nbformat": 4,
  "nbformat_minor": 0,
  "metadata": {
    "colab": {
      "provenance": []
    },
    "kernelspec": {
      "name": "python3",
      "display_name": "Python 3"
    },
    "language_info": {
      "name": "python"
    }
  },
  "cells": [
    {
      "cell_type": "markdown",
      "source": [
        "# **Bootcamp Ciencia de Datos e Inteligencia Artificial**\n",
        "# **Proyecto Módulo 1. Python para Ciencia de Datos**\n",
        "\n"
      ],
      "metadata": {
        "id": "fR3jvxoWv9WN"
      }
    },
    {
      "cell_type": "markdown",
      "source": [
        "## Introducción\n",
        "\n",
        "Has aprendido lo más elemental en tu camino para convertirte en un científico de datos y estás preparado para afrontar una de las actividades más comunes del trabajo cotidiano de un _data scientist_; es decir, revisar y analizar información solicitada por algún cliente.\n",
        "\n",
        "Este proyecto representa un desafío que tomará algo de tiempo, de manera que necesitarás mucha concentración y persistencia; sin embargo, eres completamente capaz de resolverlo. Así, en cuestión de semanas notarás la facilidad con que realizas este tipo de actividades."
      ],
      "metadata": {
        "id": "MHW9subLIsg5"
      }
    },
    {
      "cell_type": "markdown",
      "source": [
        "## Demo\n",
        "\n",
        "Este documento te servirá como inspiración para crear el tuyo: https://drive.google.com/file/d/1HH_aauW-84bnoBcooZtT7hRN4bFT5uB8/view?usp=sharing"
      ],
      "metadata": {
        "id": "PRIEEm01JYpW"
      }
    },
    {
      "cell_type": "markdown",
      "source": [
        "## ¿Qué construirás?\n",
        "\n",
        "Un documento de Google Colaboratory que funja como introducción a las actividades más comunes de tu labor cotidiana. Considera que este trabajo se convertirá en una guía para los módulos siguientes, dado que practicarás las habilidades básicas necesarias para implementar un modelo."
      ],
      "metadata": {
        "id": "ozrD68J_KHMc"
      }
    },
    {
      "cell_type": "markdown",
      "source": [
        "## Objetivos\n",
        "\n",
        "El participante:\n",
        "\n",
        "- Se familiarizará con la estructura del lenguaje **Python** enfocada en la ciencia de datos.\n",
        "- Comprenderá que cada proyecto solicitado poseerá distintas características (gráficos de un cierto tipo o diseño, algunos datos estadísticos, entre otros).\n",
        "- Entenderá que algunos datos se interpretan mejor al utilizar determinadas herramientas, tales como **Pandas**, **Numpy** y **Matplotlib**.\n",
        "- Asimilará la manera de estructurar la información que requiera analizar."
      ],
      "metadata": {
        "id": "ax8X7ytUKsrg"
      }
    },
    {
      "cell_type": "markdown",
      "source": [
        "## Requisitos\n",
        "\n",
        "- El proyecto se entregará en forma individual.\n",
        "- Cada participante deberá completar el archivo de **Google Colab** ubicado en su **Google Drive** personal. Al finalizar, compartirá el enlace en el espacio designado en **Teams**."
      ],
      "metadata": {
        "id": "TI8jx-y3Exg1"
      }
    },
    {
      "cell_type": "markdown",
      "source": [
        "## Entregables\n",
        "\n",
        "Cada participante hará una copia del presente documento y la guardará en su **Google Drive** personal.\n",
        "\n",
        "Leerá cada una de las preguntas y responderá utilizando bloques de código (a excepción de la pregunta 7, que podrá responderse con un bloque de texto).\n",
        "\n",
        "Los resultados deberán ser inteligibles y se recomienda utilizar funciones como `print` para dar claridad a las respuestas.\n",
        "\n",
        "Es posible investigar soluciones en otras fuentes o recurrir a clases anteriores; sin embargo, el estudiante debe comprender lo escrito en código.\n",
        "\n",
        "Algunas respuestas tienen diversas formas de resolverse, no obstante, debe existir precisión en el código escrito y en el propósito que persigue.\n",
        "\n",
        "¡Comencemos!\n"
      ],
      "metadata": {
        "id": "R_kZ2D4v0u9X"
      }
    },
    {
      "cell_type": "code",
      "source": [
        "from google.colab import drive\n",
        "drive.mount('/content/drive')"
      ],
      "metadata": {
        "id": "Q7DD3TsR6l6I"
      },
      "execution_count": null,
      "outputs": []
    },
    {
      "cell_type": "code",
      "execution_count": null,
      "metadata": {
        "id": "LjNwIEwZN8nP"
      },
      "outputs": [],
      "source": [
        "import pandas as pd\n",
        "import numpy as np\n",
        "import matplotlib.pyplot as plt #No quitar"
      ]
    },
    {
      "cell_type": "code",
      "source": [],
      "metadata": {
        "id": "rXDXABPtLJHx"
      },
      "execution_count": null,
      "outputs": []
    },
    {
      "cell_type": "markdown",
      "source": [
        "# Instrucciones\n",
        "\n",
        "\n",
        "- Utiliza la clase ControllerSQL para leer las tablas Productos y Marcas\n",
        "- Renombra la tabla `Productos` como `df_modelos`\n",
        "- Renombra la tabla `Marcas` como `df_marcas`."
      ],
      "metadata": {
        "id": "Gs-kaMFWLJgl"
      }
    },
    {
      "cell_type": "markdown",
      "source": [
        "### Pregunta 1\n",
        "\n",
        "\n",
        "Indica en un solo código el número de filas que tiene el archivo `df_modelos` que creaste.\n",
        "\n"
      ],
      "metadata": {
        "id": "IksPNalDSH7R"
      }
    },
    {
      "cell_type": "code",
      "source": [
        "\n"
      ],
      "metadata": {
        "id": "YKDZypl2ujhX"
      },
      "execution_count": null,
      "outputs": []
    },
    {
      "cell_type": "code",
      "source": [],
      "metadata": {
        "id": "I4iNlf32F1LE"
      },
      "execution_count": null,
      "outputs": []
    },
    {
      "cell_type": "markdown",
      "source": [
        "### Pregunta 2\n",
        "Haz un `merge` de ambos **data frames**, para generar un nuevo **data frame** que incluya los datos de `df_modelos` y `df_marcas`. Tu nuevo **data frame** recibirá el nombre de `df`.\n",
        "\n",
        "**Pista**: Ambos archivos tienen una columna que los relaciona, llamada `ID Marca`."
      ],
      "metadata": {
        "id": "cfoZq-nr2OkO"
      }
    },
    {
      "cell_type": "code",
      "source": [],
      "metadata": {
        "id": "S1L6Hn8VF2_v"
      },
      "execution_count": null,
      "outputs": []
    },
    {
      "cell_type": "markdown",
      "source": [
        "### Pregunta 3\n",
        "Muestra las primeras cinco filas, las últimas cinco y el nombre de todas las columnas."
      ],
      "metadata": {
        "id": "AqDaTcfaTC79"
      }
    },
    {
      "cell_type": "code",
      "source": [],
      "metadata": {
        "id": "AYPcw8cLF361"
      },
      "execution_count": null,
      "outputs": []
    },
    {
      "cell_type": "markdown",
      "source": [
        "### Pregunta 4\n",
        "Utiliza los filtros para mostrar todos los teléfonos con 64GB en la columna `ROM_GB` e indica cuántos del listado poseen esta característica."
      ],
      "metadata": {
        "id": "m2HobjRsTz7V"
      }
    },
    {
      "cell_type": "code",
      "source": [],
      "metadata": {
        "id": "-yfgYqiZF4yS"
      },
      "execution_count": null,
      "outputs": []
    },
    {
      "cell_type": "markdown",
      "source": [
        "### Pregunta 5\n",
        "Haz un histograma (`hist`) de la columna `ROM_GB` del **data frame** `df`.\n",
        "\n",
        "El gráfico debe incluir un título y las columnas tener un color personalizado."
      ],
      "metadata": {
        "id": "tfXR1-kf_WQd"
      }
    },
    {
      "cell_type": "code",
      "source": [],
      "metadata": {
        "id": "Dfk9NBLQGGb3"
      },
      "execution_count": null,
      "outputs": []
    },
    {
      "cell_type": "markdown",
      "source": [
        "### Pregunta 6\n",
        "Haz un diagrama de dispersión (`scatter`) con las siguientes características: el eje X deberá indicar el contenido de la columna `Precio de lista`, mientras que el eje Y expresará el contenido de la columna `Precio de venta`.\n",
        "\n",
        "El diagrama debe incluir un título y los puntos tener un color personalizado."
      ],
      "metadata": {
        "id": "U8QOkYQnBCDY"
      }
    },
    {
      "cell_type": "code",
      "source": [],
      "metadata": {
        "id": "ttIgS7LAGHDm"
      },
      "execution_count": null,
      "outputs": []
    },
    {
      "cell_type": "markdown",
      "source": [
        "### Pregunta 7\n",
        "\n",
        "Con base en el diagrama de la **pregunta 6**, responde la siguiente pregunta: ¿A qué conclusión podrías llegar si observas únicamente la gráfica?"
      ],
      "metadata": {
        "id": "qWHZAMi2DZos"
      }
    },
    {
      "cell_type": "markdown",
      "source": [],
      "metadata": {
        "id": "Aql08i4fGIxs"
      }
    },
    {
      "cell_type": "markdown",
      "source": [
        "### Pregunta 8\n",
        "Utiliza el código para obtener la siguiente información (ubicada en `df`).\n",
        "\n",
        "- Promedio de los precios de venta de los modelos marca **Realme**\n",
        "- Máximo de estrellas de los modelos marca **Redmi**\n",
        "- Mínimo de Estrellas de los modelos marca **Redmi**"
      ],
      "metadata": {
        "id": "3H4LtqjhEGME"
      }
    },
    {
      "cell_type": "code",
      "source": [],
      "metadata": {
        "id": "8AApDz1dGKQr"
      },
      "execution_count": null,
      "outputs": []
    },
    {
      "cell_type": "markdown",
      "source": [
        "### Pregunta 9\n",
        "Utiliza un **Groupby** para mostrar la cantidad de estrellas promedio que cada marca tiene en `df`."
      ],
      "metadata": {
        "id": "ds4EGI0SHEKB"
      }
    },
    {
      "cell_type": "code",
      "source": [],
      "metadata": {
        "id": "U_iMhR_gGLBV"
      },
      "execution_count": null,
      "outputs": []
    },
    {
      "cell_type": "markdown",
      "source": [
        "### Pregunta 10\n",
        "¿Qué otro dato puedes obtener de `df` y cómo lo extraerías?"
      ],
      "metadata": {
        "id": "ALRDH3eRHkZN"
      }
    },
    {
      "cell_type": "markdown",
      "source": [
        "###  11 Ejercicio con fechas\n",
        "Agrega al `df_productos` una columna llamada `datime` y rellenala con datos dummies. Utiliza el año 2023, limita las muestras a 3 meses (cualesquiera) y los día aleatorios con el siguiente formato `'%m/%d/%Y %H:%M:%S'`"
      ],
      "metadata": {
        "id": "biA2t5C5LfyA"
      }
    },
    {
      "cell_type": "code",
      "source": [],
      "metadata": {
        "id": "9HUy8LdgGLvM"
      },
      "execution_count": null,
      "outputs": []
    },
    {
      "cell_type": "markdown",
      "source": [
        "### 12 Ejecicio con formato de fechas\n",
        "\n",
        "A la nueva columna cambiale el formato de la fecha al siguiente patrón `'%Y-%m-%d %H:%M:%S'`\n"
      ],
      "metadata": {
        "id": "VJrx99DfNFqQ"
      }
    },
    {
      "cell_type": "markdown",
      "source": [
        "### 13 Visualizar\n",
        "\n",
        "Crear algún tipo de agrupación por fecha (mes o día) y tres agregaciones (pueden ser max(), min() , count()) y muestralo como una gráfica adecuada"
      ],
      "metadata": {
        "id": "-93Tc-3yRMKK"
      }
    },
    {
      "cell_type": "markdown",
      "source": [],
      "metadata": {
        "id": "tvIiIwywM_MC"
      }
    }
  ]
}
{
 "cells": [
  {
   "cell_type": "code",
   "execution_count": 16,
   "metadata": {},
   "outputs": [],
   "source": [
    "import pandas as pd\n",
    "import numpy as np\n",
    "from nltk.stem import SnowballStemmer\n",
    "from keras.preprocessing.text import Tokenizer\n",
    "import nltk\n",
    "import json\n",
    "import pickle\n",
    "\n",
    "#load stop words\n",
    "#file = open(\"data/stop_words_spanish\",'rb')\n",
    "#spanish_stopwords = pickle.load(file)\n",
    "#file.close()\n",
    "\n",
    "#stemmer = LancasterStemmer()\n",
    "stemmer = SnowballStemmer('spanish', ignore_stopwords=True)\n",
    "ignore_words = ['?']\n",
    "\n",
    "with open('data/stop_words_spanish', 'r') as f:\n",
    "    spanish_stopwords = [line.strip('\\n') for line in f]"
   ]
  },
  {
   "cell_type": "markdown",
   "metadata": {},
   "source": []
  },
  {
   "cell_type": "code",
   "execution_count": 17,
   "metadata": {},
   "outputs": [],
   "source": [
    "# la primera vez que se imprtar NTKL se debe ejecuatr la siguiente setencia para descargar recursos que utiliza dicha biblioteca\n",
    "# nltk.download('punkt')\n",
    "#nltk.download('stopwords')"
   ]
  },
  {
   "cell_type": "markdown",
   "metadata": {},
   "source": [
    "### Funciones para estanadarizar el texto"
   ]
  },
  {
   "cell_type": "code",
   "execution_count": 18,
   "metadata": {},
   "outputs": [],
   "source": [
    "def normaliza(word):\n",
    "        # La palabra debe ser en minúsculas\n",
    "        # elimina tildes \n",
    "        # elimina mayúsculas y números\n",
    "        from unicodedata import normalize, category\n",
    "        return ''.join([x for x in normalize('NFD', word) if category(x) == 'Ll'])\n",
    "    \n",
    "def normalizar_string(cadena):\n",
    "        #normalizar un cadena (secuencia de palabras)\n",
    "        result = \"\"\n",
    "        # convertir a minúsucla y eliminar espacios en blanco extras\n",
    "        cadena = cadena.lower().strip()\n",
    "\n",
    "        for word in cadena.split(\" \"):\n",
    "            aux = normaliza(word)\n",
    "            if len(aux) > 0:\n",
    "                result = result + ' ' + aux.strip()\n",
    "            \n",
    "        return result.strip(' ').strip('\\n')\n",
    "    \n",
    "def foo(text):\n",
    "         #eliminar signos de puntuación\n",
    "        forbidden = {\"?\", \"¿\", \"¡\", \"!\", \" \", \",\", \".\", \";\", \":\", \"-\", \"_\"}\n",
    "        return \"\".join(c for c in text.lower() if c not in forbidden )"
   ]
  },
  {
   "cell_type": "code",
   "execution_count": 19,
   "metadata": {},
   "outputs": [],
   "source": [
    "def sentence_clean(sentence):\n",
    "    sentence = normalizar_string(sentence)\n",
    "    words = nltk.word_tokenize(sentence)\n",
    "    words_ = []\n",
    "    [words_.append(w) for w in words if not w in spanish_stopwords]\n",
    "    words = words_\n",
    "    del words_\n",
    "\n",
    "    #stemizar, pasar a minúscula y eliminar duplicadas \n",
    "    words = [stemmer.stem(w) for w in words if w not in ignore_words]\n",
    "    \n",
    "    \n",
    "    return ' '.join(words)"
   ]
  },
  {
   "cell_type": "markdown",
   "metadata": {},
   "source": [
    "### Leer el data set para realizar el pre-procesamiento"
   ]
  },
  {
   "cell_type": "code",
   "execution_count": 20,
   "metadata": {},
   "outputs": [],
   "source": [
    "import pandas as pd\n",
    "df = pd.read_csv(\"dataset_5.csv\")"
   ]
  },
  {
   "cell_type": "code",
   "execution_count": 21,
   "metadata": {},
   "outputs": [
    {
     "data": {
      "text/html": [
       "<div>\n",
       "<style scoped>\n",
       "    .dataframe tbody tr th:only-of-type {\n",
       "        vertical-align: middle;\n",
       "    }\n",
       "\n",
       "    .dataframe tbody tr th {\n",
       "        vertical-align: top;\n",
       "    }\n",
       "\n",
       "    .dataframe thead th {\n",
       "        text-align: right;\n",
       "    }\n",
       "</style>\n",
       "<table border=\"1\" class=\"dataframe\">\n",
       "  <thead>\n",
       "    <tr style=\"text-align: right;\">\n",
       "      <th></th>\n",
       "      <th>sentences</th>\n",
       "      <th>class</th>\n",
       "    </tr>\n",
       "  </thead>\n",
       "  <tbody>\n",
       "    <tr>\n",
       "      <td>0</td>\n",
       "      <td>con el contador general</td>\n",
       "      <td>contabilidad</td>\n",
       "    </tr>\n",
       "    <tr>\n",
       "      <td>1</td>\n",
       "      <td>con la de contabilidad</td>\n",
       "      <td>contabilidad</td>\n",
       "    </tr>\n",
       "    <tr>\n",
       "      <td>2</td>\n",
       "      <td>arrendamientos financieros</td>\n",
       "      <td>contabilidad</td>\n",
       "    </tr>\n",
       "    <tr>\n",
       "      <td>3</td>\n",
       "      <td>con el contador general</td>\n",
       "      <td>contabilidad</td>\n",
       "    </tr>\n",
       "    <tr>\n",
       "      <td>4</td>\n",
       "      <td>con la de contabilidad</td>\n",
       "      <td>contabilidad</td>\n",
       "    </tr>\n",
       "  </tbody>\n",
       "</table>\n",
       "</div>"
      ],
      "text/plain": [
       "                    sentences         class\n",
       "0     con el contador general  contabilidad\n",
       "1      con la de contabilidad  contabilidad\n",
       "2  arrendamientos financieros  contabilidad\n",
       "3     con el contador general  contabilidad\n",
       "4      con la de contabilidad  contabilidad"
      ]
     },
     "execution_count": 21,
     "metadata": {},
     "output_type": "execute_result"
    }
   ],
   "source": [
    "#visulizar los primeros elementos\n",
    "df.head()"
   ]
  },
  {
   "cell_type": "code",
   "execution_count": 22,
   "metadata": {},
   "outputs": [],
   "source": [
    "#extraer el contenido del data set como una lista de listas,  sin formato Dataframe\n",
    "X = df.sentences.values"
   ]
  },
  {
   "cell_type": "markdown",
   "metadata": {},
   "source": [
    "Transformar la representación de la columna de etiquetas, de  su forma  categórica-texto a categórica-numérica"
   ]
  },
  {
   "cell_type": "code",
   "execution_count": 23,
   "metadata": {},
   "outputs": [],
   "source": [
    "#convertir clases categoricas 'string' a discretas 'entero'\n",
    "clases = pd.DataFrame(df['class'].astype('category'))\n",
    "clases = clases.apply(lambda x: x.cat.codes)\n",
    "Y = clases.values"
   ]
  },
  {
   "cell_type": "code",
   "execution_count": 24,
   "metadata": {},
   "outputs": [
    {
     "data": {
      "text/plain": [
       "array([[ 1],\n",
       "       [ 1],\n",
       "       [ 1],\n",
       "       [ 1],\n",
       "       [ 1],\n",
       "       [ 1],\n",
       "       [ 2],\n",
       "       [ 2],\n",
       "       [ 2],\n",
       "       [ 2],\n",
       "       [ 2],\n",
       "       [ 2],\n",
       "       [ 2],\n",
       "       [ 2],\n",
       "       [ 2],\n",
       "       [ 2],\n",
       "       [ 2],\n",
       "       [ 2],\n",
       "       [ 2],\n",
       "       [ 2],\n",
       "       [ 2],\n",
       "       [ 2],\n",
       "       [ 2],\n",
       "       [ 2],\n",
       "       [ 2],\n",
       "       [ 2],\n",
       "       [ 3],\n",
       "       [ 3],\n",
       "       [ 3],\n",
       "       [ 3],\n",
       "       [ 3],\n",
       "       [ 3],\n",
       "       [ 4],\n",
       "       [ 4],\n",
       "       [ 4],\n",
       "       [ 4],\n",
       "       [ 4],\n",
       "       [ 4],\n",
       "       [ 6],\n",
       "       [ 6],\n",
       "       [ 6],\n",
       "       [ 6],\n",
       "       [ 7],\n",
       "       [ 7],\n",
       "       [ 7],\n",
       "       [ 7],\n",
       "       [ 7],\n",
       "       [ 7],\n",
       "       [ 7],\n",
       "       [ 7],\n",
       "       [ 0],\n",
       "       [ 0],\n",
       "       [ 0],\n",
       "       [ 0],\n",
       "       [ 0],\n",
       "       [ 0],\n",
       "       [ 8],\n",
       "       [ 8],\n",
       "       [ 8],\n",
       "       [ 8],\n",
       "       [ 9],\n",
       "       [ 9],\n",
       "       [ 9],\n",
       "       [ 9],\n",
       "       [ 9],\n",
       "       [ 9],\n",
       "       [10],\n",
       "       [10],\n",
       "       [10],\n",
       "       [10],\n",
       "       [11],\n",
       "       [11],\n",
       "       [11],\n",
       "       [11],\n",
       "       [11],\n",
       "       [11],\n",
       "       [11],\n",
       "       [11],\n",
       "       [12],\n",
       "       [12],\n",
       "       [12],\n",
       "       [12],\n",
       "       [ 5],\n",
       "       [ 5],\n",
       "       [ 5],\n",
       "       [ 5],\n",
       "       [ 5],\n",
       "       [ 5],\n",
       "       [ 5],\n",
       "       [ 5],\n",
       "       [ 5],\n",
       "       [ 5],\n",
       "       [ 5],\n",
       "       [ 5],\n",
       "       [ 5],\n",
       "       [ 5]], dtype=int8)"
      ]
     },
     "execution_count": 24,
     "metadata": {},
     "output_type": "execute_result"
    }
   ],
   "source": [
    "Y"
   ]
  },
  {
   "cell_type": "markdown",
   "metadata": {},
   "source": [
    "#### Texto original "
   ]
  },
  {
   "cell_type": "code",
   "execution_count": 25,
   "metadata": {},
   "outputs": [
    {
     "name": "stdout",
     "output_type": "stream",
     "text": [
      "word_counts:  OrderedDict([('con', 31), ('el', 10), ('contador', 2), ('general', 2), ('la', 6), ('de', 41), ('contabilidad', 2), ('arrendamientos', 2), ('financieros', 2), ('buscando', 2), ('a', 6), ('comunicándome', 3), ('comunicame', 3), ('comunicar', 3), ('comunicarme', 3), ('comunicación', 3), ('buscó', 1), ('conectar', 1), ('extensión', 5), ('está', 1), ('en', 1), ('esta', 1), ('oficina', 1), ('hablar', 3), ('me', 3), ('comunicas', 1), ('comunico', 1), ('trató', 2), ('número', 3), ('se', 1), ('encuentra', 1), ('te', 1), ('transferir', 1), ('un', 4), ('mesaje', 2), ('servicio', 4), ('buzón', 4), ('voz', 4), ('ofimática', 4), ('área', 10), ('informática', 2), ('ofrecer', 2), ('mis', 1), ('productos', 1), ('y', 1), ('servicios', 3), ('llamó', 1), ('empresa', 2), ('ofreciendo', 1), ('los', 1), ('mi', 1), ('revisa', 1), ('correo', 1), ('proveedores', 1), ('referencias', 6), ('laborales', 3), ('recursos', 5), ('humanos', 5), ('una', 2), ('persona', 2), ('que', 2), ('laboró', 1), ('trabajó', 1), ('referencia', 2), ('laboral', 2), ('bh', 1), ('rh', 1), ('informacion', 1), ('vacante', 2), ('sistemas', 4), ('encargado', 2), ('del', 2), ('al', 2), ('soporte', 6), ('jannan', 1), ('xannan', 1), ('técnico', 1), ('gerente', 4), ('tesoreria', 4), ('mercadotecnia', 1), ('compras', 1), ('compra', 1), ('software', 1), ('scanda', 1), ('departamento', 1), ('ventas', 3), ('licencias', 1), ('contacto', 1), ('asesor', 1), ('comercial', 1), ('vigilancia', 4), ('operadora', 7), ('recepción', 2), ('recepcion', 5)])\n"
     ]
    }
   ],
   "source": [
    "# create the tokenizer\n",
    "t = Tokenizer()\n",
    "\n",
    "# fit the tokenizer on the documents\n",
    "t.fit_on_texts(X)\n",
    "\n",
    "# summarize what was learned\n",
    "print(\"word_counts: \", t.word_counts)"
   ]
  },
  {
   "cell_type": "code",
   "execution_count": 26,
   "metadata": {},
   "outputs": [],
   "source": [
    "#print(\"document_count: \",t.document_count)"
   ]
  },
  {
   "cell_type": "code",
   "execution_count": 27,
   "metadata": {},
   "outputs": [],
   "source": [
    "#print(\"word_index: \", t.word_index)"
   ]
  },
  {
   "cell_type": "code",
   "execution_count": 28,
   "metadata": {},
   "outputs": [],
   "source": [
    "#print(\"word_docs: \",t.word_docs)"
   ]
  },
  {
   "cell_type": "markdown",
   "metadata": {},
   "source": [
    "### Modelo de bolsa de palabras"
   ]
  },
  {
   "cell_type": "code",
   "execution_count": 29,
   "metadata": {},
   "outputs": [],
   "source": [
    "#list(X)\n",
    "#join_sentence = ' '\n",
    "#X_ = join_sentence.join(X)\n",
    "\n",
    "X_ = [sentence_clean(x) for x in X]"
   ]
  },
  {
   "cell_type": "code",
   "execution_count": 30,
   "metadata": {},
   "outputs": [
    {
     "data": {
      "text/plain": [
       "['contador general',\n",
       " 'contabil',\n",
       " 'arrend financier',\n",
       " 'contador general',\n",
       " 'contabil',\n",
       " 'arrend financier',\n",
       " 'busc',\n",
       " 'comunic',\n",
       " '',\n",
       " '']"
      ]
     },
     "execution_count": 30,
     "metadata": {},
     "output_type": "execute_result"
    }
   ],
   "source": [
    "X_[0:10]"
   ]
  },
  {
   "cell_type": "code",
   "execution_count": 31,
   "metadata": {},
   "outputs": [],
   "source": [
    "# create the tokenizer\n",
    "t = Tokenizer()\n",
    "t.fit_on_texts(X_)"
   ]
  },
  {
   "cell_type": "code",
   "execution_count": 32,
   "metadata": {},
   "outputs": [
    {
     "name": "stdout",
     "output_type": "stream",
     "text": [
      "[[0. 0. 0. ... 0. 0. 0.]\n",
      " [0. 0. 0. ... 0. 0. 0.]\n",
      " [0. 0. 0. ... 0. 0. 0.]\n",
      " ...\n",
      " [0. 0. 0. ... 0. 0. 0.]\n",
      " [0. 0. 0. ... 0. 0. 0.]\n",
      " [0. 0. 0. ... 0. 0. 0.]]\n"
     ]
    }
   ],
   "source": [
    "# integer encode documents\n",
    "encoded_docs = t.texts_to_matrix(X_, mode='binary')\n",
    "print(encoded_docs)"
   ]
  },
  {
   "cell_type": "code",
   "execution_count": 33,
   "metadata": {},
   "outputs": [
    {
     "data": {
      "text/plain": [
       "array([[0., 0., 0., 0., 0., 0., 0., 0., 0., 0., 0., 0., 0., 0., 0., 0.,\n",
       "        0., 0., 0., 0., 0., 0., 0., 0., 0., 1., 1., 0., 0., 0., 0., 0.,\n",
       "        0., 0., 0., 0., 0., 0., 0., 0., 0., 0., 0., 0., 0., 0., 0., 0.,\n",
       "        0., 0., 0., 0., 0., 0., 0., 0., 0., 0., 0., 0., 0., 0., 0.]])"
      ]
     },
     "execution_count": 33,
     "metadata": {},
     "output_type": "execute_result"
    }
   ],
   "source": [
    "encoded_docs[0:1]"
   ]
  },
  {
   "cell_type": "code",
   "execution_count": 34,
   "metadata": {},
   "outputs": [
    {
     "name": "stdout",
     "output_type": "stream",
     "text": [
      "contabil\n",
      "[0. 0. 0. 0. 0. 0. 0. 0. 0. 0. 0. 0. 0. 0. 0. 0. 0. 0. 0. 0. 0. 0. 0. 0.\n",
      " 0. 0. 0. 1. 0. 0. 0. 0. 0. 0. 0. 0. 0. 0. 0. 0. 0. 0. 0. 0. 0. 0. 0. 0.\n",
      " 0. 0. 0. 0. 0. 0. 0. 0. 0. 0. 0. 0. 0. 0. 0.]\n"
     ]
    }
   ],
   "source": [
    "print(X_[1])\n",
    "print(encoded_docs[1])\n",
    "for i,w in enumerate (encoded_docs[10]):\n",
    "    if w == 1:\n",
    "        print(i)"
   ]
  },
  {
   "cell_type": "markdown",
   "metadata": {},
   "source": [
    "otra opción "
   ]
  },
  {
   "cell_type": "markdown",
   "metadata": {},
   "source": [
    "### Guardar modelo"
   ]
  },
  {
   "cell_type": "code",
   "execution_count": 35,
   "metadata": {},
   "outputs": [],
   "source": [
    "#almacenar las stop_words\n",
    "f = open('stop_words_spanish.pckl', 'wb')\n",
    "pickle.dump(spanish_stopwords, f)\n",
    "f.close()\n",
    "\n",
    "\n",
    "#almacenar el modelo de BoW\n",
    "f = open('keras_vec.pckl', 'wb')\n",
    "pickle.dump(t, f)\n",
    "f.close()"
   ]
  },
  {
   "cell_type": "code",
   "execution_count": 36,
   "metadata": {},
   "outputs": [],
   "source": [
    "\n",
    "dataset_final = pd.DataFrame(encoded_docs)\n"
   ]
  },
  {
   "cell_type": "code",
   "execution_count": 37,
   "metadata": {},
   "outputs": [
    {
     "data": {
      "text/plain": [
       "(96, 65)"
      ]
     },
     "execution_count": 37,
     "metadata": {},
     "output_type": "execute_result"
    }
   ],
   "source": [
    "dataset_final['class'] = Y\n",
    "dataset_final['class_cat'] = df['class']\n",
    "dataset_final.shape"
   ]
  },
  {
   "cell_type": "code",
   "execution_count": 38,
   "metadata": {},
   "outputs": [
    {
     "data": {
      "text/plain": [
       "(62, 65)"
      ]
     },
     "execution_count": 38,
     "metadata": {},
     "output_type": "execute_result"
    }
   ],
   "source": [
    "# dropping  duplicte values \n",
    "dataset_final.drop_duplicates(keep = 'first', inplace = True) #subset =\"First Name\"\n",
    "dataset_final.shape"
   ]
  },
  {
   "cell_type": "code",
   "execution_count": 40,
   "metadata": {},
   "outputs": [],
   "source": [
    "dataset_final.to_csv(\"sentencias_features.csv\",index = False)"
   ]
  },
  {
   "cell_type": "code",
   "execution_count": null,
   "metadata": {},
   "outputs": [],
   "source": []
  }
 ],
 "metadata": {
  "kernelspec": {
   "display_name": "Python 3",
   "language": "python",
   "name": "python3"
  },
  "language_info": {
   "codemirror_mode": {
    "name": "ipython",
    "version": 3
   },
   "file_extension": ".py",
   "mimetype": "text/x-python",
   "name": "python",
   "nbconvert_exporter": "python",
   "pygments_lexer": "ipython3",
   "version": "3.7.0"
  }
 },
 "nbformat": 4,
 "nbformat_minor": 2
}

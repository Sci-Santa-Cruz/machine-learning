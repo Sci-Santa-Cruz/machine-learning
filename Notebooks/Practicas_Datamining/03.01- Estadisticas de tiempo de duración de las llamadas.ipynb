{
 "cells": [
  {
   "cell_type": "markdown",
   "metadata": {},
   "source": [
    "<div class=\"jumbotron\">\n",
    "  <h1><i class=\"fa fa-bar-chart\" aria-hidden=\"true\"></i> Análisis de Datos</h1>\n",
    "  <p></p>\n",
    "</div>"
   ]
  },
  {
   "cell_type": "code",
   "execution_count": 89,
   "metadata": {},
   "outputs": [],
   "source": [
    "import csv\n",
    "import pandas as pd\n",
    "import numpy as np\n",
    "from matplotlib import pyplot as plt\n",
    "from scipy import stats\n",
    "import matplotlib.mlab as mlab\n",
    "import datetime as dt\n",
    "#import plotly.plotly as py  # tools to communicate with Plotly's server"
   ]
  },
  {
   "cell_type": "markdown",
   "metadata": {},
   "source": [
    "## Cuestiones\n",
    "\n",
    "- Tiempo estimado de la duración de una llamada externa a recepción para  ser redirigida\n",
    "- Valor promedio del numero de llamadas por día \n",
    "- Valor promedio de días habiles por año\n",
    "- Numero de llamadas  de  externas (PSTN) los cuales llarcan directamente la extesión interna (DTMF)\n",
    "- Numero de llamadas  de  internas entre extesiones \n",
    " \n",
    "\n",
    "\n"
   ]
  },
  {
   "cell_type": "markdown",
   "metadata": {},
   "source": [
    "## Leer los datos "
   ]
  },
  {
   "cell_type": "code",
   "execution_count": 4,
   "metadata": {},
   "outputs": [
    {
     "data": {
      "text/html": [
       "<div>\n",
       "<style scoped>\n",
       "    .dataframe tbody tr th:only-of-type {\n",
       "        vertical-align: middle;\n",
       "    }\n",
       "\n",
       "    .dataframe tbody tr th {\n",
       "        vertical-align: top;\n",
       "    }\n",
       "\n",
       "    .dataframe thead th {\n",
       "        text-align: right;\n",
       "    }\n",
       "</style>\n",
       "<table border=\"1\" class=\"dataframe\">\n",
       "  <thead>\n",
       "    <tr style=\"text-align: right;\">\n",
       "      <th></th>\n",
       "      <th>Date</th>\n",
       "      <th>Source</th>\n",
       "      <th>Destination</th>\n",
       "      <th>Status</th>\n",
       "      <th>Duration</th>\n",
       "    </tr>\n",
       "  </thead>\n",
       "  <tbody>\n",
       "    <tr>\n",
       "      <td>0</td>\n",
       "      <td>31/01/2018 18:08</td>\n",
       "      <td>8.182630e+09</td>\n",
       "      <td>2</td>\n",
       "      <td>ANSWERED</td>\n",
       "      <td>23s</td>\n",
       "    </tr>\n",
       "    <tr>\n",
       "      <td>1</td>\n",
       "      <td>31/01/2018 18:06</td>\n",
       "      <td>8.182630e+09</td>\n",
       "      <td>2</td>\n",
       "      <td>ANSWERED</td>\n",
       "      <td>13s</td>\n",
       "    </tr>\n",
       "    <tr>\n",
       "      <td>2</td>\n",
       "      <td>31/01/2018 18:05</td>\n",
       "      <td>8.182630e+09</td>\n",
       "      <td>2</td>\n",
       "      <td>ANSWERED</td>\n",
       "      <td>13s</td>\n",
       "    </tr>\n",
       "    <tr>\n",
       "      <td>3</td>\n",
       "      <td>31/01/2018 18:00</td>\n",
       "      <td>8.182630e+09</td>\n",
       "      <td>2</td>\n",
       "      <td>ANSWERED</td>\n",
       "      <td>10s</td>\n",
       "    </tr>\n",
       "    <tr>\n",
       "      <td>4</td>\n",
       "      <td>31/01/2018 17:53</td>\n",
       "      <td>5.555113e+09</td>\n",
       "      <td>2</td>\n",
       "      <td>ANSWERED</td>\n",
       "      <td>13s</td>\n",
       "    </tr>\n",
       "    <tr>\n",
       "      <td>5</td>\n",
       "      <td>31/01/2018 17:35</td>\n",
       "      <td>5.550806e+09</td>\n",
       "      <td>2</td>\n",
       "      <td>ANSWERED</td>\n",
       "      <td>12s</td>\n",
       "    </tr>\n",
       "    <tr>\n",
       "      <td>6</td>\n",
       "      <td>31/01/2018 17:26</td>\n",
       "      <td>5.559722e+09</td>\n",
       "      <td>2</td>\n",
       "      <td>ANSWERED</td>\n",
       "      <td>35s</td>\n",
       "    </tr>\n",
       "    <tr>\n",
       "      <td>7</td>\n",
       "      <td>31/01/2018 17:24</td>\n",
       "      <td>5.553872e+09</td>\n",
       "      <td>2</td>\n",
       "      <td>ANSWERED</td>\n",
       "      <td>12s</td>\n",
       "    </tr>\n",
       "    <tr>\n",
       "      <td>8</td>\n",
       "      <td>31/01/2018 17:24</td>\n",
       "      <td>5.519497e+09</td>\n",
       "      <td>2</td>\n",
       "      <td>ANSWERED</td>\n",
       "      <td>9s</td>\n",
       "    </tr>\n",
       "    <tr>\n",
       "      <td>9</td>\n",
       "      <td>31/01/2018 17:16</td>\n",
       "      <td>4.881011e+09</td>\n",
       "      <td>2</td>\n",
       "      <td>ANSWERED</td>\n",
       "      <td>15s</td>\n",
       "    </tr>\n",
       "  </tbody>\n",
       "</table>\n",
       "</div>"
      ],
      "text/plain": [
       "               Date        Source  Destination    Status Duration\n",
       "0  31/01/2018 18:08  8.182630e+09            2  ANSWERED      23s\n",
       "1  31/01/2018 18:06  8.182630e+09            2  ANSWERED      13s\n",
       "2  31/01/2018 18:05  8.182630e+09            2  ANSWERED      13s\n",
       "3  31/01/2018 18:00  8.182630e+09            2  ANSWERED      10s\n",
       "4  31/01/2018 17:53  5.555113e+09            2  ANSWERED      13s\n",
       "5  31/01/2018 17:35  5.550806e+09            2  ANSWERED      12s\n",
       "6  31/01/2018 17:26  5.559722e+09            2  ANSWERED      35s\n",
       "7  31/01/2018 17:24  5.553872e+09            2  ANSWERED      12s\n",
       "8  31/01/2018 17:24  5.519497e+09            2  ANSWERED       9s\n",
       "9  31/01/2018 17:16  4.881011e+09            2  ANSWERED      15s"
      ]
     },
     "execution_count": 4,
     "metadata": {},
     "output_type": "execute_result"
    }
   ],
   "source": [
    "data = pd.read_csv('CDRReport-2018Feb16.094746_v2.csv')\n",
    "data.head(10)"
   ]
  },
  {
   "cell_type": "markdown",
   "metadata": {},
   "source": [
    "## Número de muestras"
   ]
  },
  {
   "cell_type": "code",
   "execution_count": 5,
   "metadata": {},
   "outputs": [
    {
     "name": "stdout",
     "output_type": "stream",
     "text": [
      "Número de registros : 20480\n"
     ]
    }
   ],
   "source": [
    "print(\"Número de registros :\", len(data['Date']))"
   ]
  },
  {
   "cell_type": "markdown",
   "metadata": {},
   "source": [
    "## Primer paso es buscar valores nulos"
   ]
  },
  {
   "cell_type": "code",
   "execution_count": 6,
   "metadata": {},
   "outputs": [
    {
     "name": "stdout",
     "output_type": "stream",
     "text": [
      "El número de valores nulos en el dataframe es : \n",
      " Date           0\n",
      "Source         7\n",
      "Destination    0\n",
      "Status         0\n",
      "Duration       0\n",
      "dtype: int64\n"
     ]
    }
   ],
   "source": [
    "print(\"El número de valores nulos en el dataframe es : \\n\" , data.isnull().sum())"
   ]
  },
  {
   "cell_type": "markdown",
   "metadata": {},
   "source": [
    "## Eliminar valores nulos"
   ]
  },
  {
   "cell_type": "code",
   "execution_count": 7,
   "metadata": {},
   "outputs": [],
   "source": [
    "data = data.dropna()"
   ]
  },
  {
   "cell_type": "code",
   "execution_count": 9,
   "metadata": {},
   "outputs": [
    {
     "name": "stdout",
     "output_type": "stream",
     "text": [
      "Número de muestras después de eliminar los datos tipo NaN:  20473\n"
     ]
    }
   ],
   "source": [
    "print(\"Número de muestras después de eliminar los datos tipo NaN: \",len(data))"
   ]
  },
  {
   "cell_type": "markdown",
   "metadata": {},
   "source": [
    "## Carmbiar tipo de dato de la variable Source"
   ]
  },
  {
   "cell_type": "code",
   "execution_count": 10,
   "metadata": {},
   "outputs": [],
   "source": [
    "data.Source = data.Source.astype('int64')"
   ]
  },
  {
   "cell_type": "code",
   "execution_count": 11,
   "metadata": {},
   "outputs": [
    {
     "data": {
      "text/html": [
       "<div>\n",
       "<style scoped>\n",
       "    .dataframe tbody tr th:only-of-type {\n",
       "        vertical-align: middle;\n",
       "    }\n",
       "\n",
       "    .dataframe tbody tr th {\n",
       "        vertical-align: top;\n",
       "    }\n",
       "\n",
       "    .dataframe thead th {\n",
       "        text-align: right;\n",
       "    }\n",
       "</style>\n",
       "<table border=\"1\" class=\"dataframe\">\n",
       "  <thead>\n",
       "    <tr style=\"text-align: right;\">\n",
       "      <th></th>\n",
       "      <th>Date</th>\n",
       "      <th>Source</th>\n",
       "      <th>Destination</th>\n",
       "      <th>Status</th>\n",
       "      <th>Duration</th>\n",
       "    </tr>\n",
       "  </thead>\n",
       "  <tbody>\n",
       "    <tr>\n",
       "      <td>0</td>\n",
       "      <td>31/01/2018 18:08</td>\n",
       "      <td>8182629900</td>\n",
       "      <td>2</td>\n",
       "      <td>ANSWERED</td>\n",
       "      <td>23s</td>\n",
       "    </tr>\n",
       "    <tr>\n",
       "      <td>1</td>\n",
       "      <td>31/01/2018 18:06</td>\n",
       "      <td>8182629900</td>\n",
       "      <td>2</td>\n",
       "      <td>ANSWERED</td>\n",
       "      <td>13s</td>\n",
       "    </tr>\n",
       "  </tbody>\n",
       "</table>\n",
       "</div>"
      ],
      "text/plain": [
       "               Date      Source  Destination    Status Duration\n",
       "0  31/01/2018 18:08  8182629900            2  ANSWERED      23s\n",
       "1  31/01/2018 18:06  8182629900            2  ANSWERED      13s"
      ]
     },
     "execution_count": 11,
     "metadata": {},
     "output_type": "execute_result"
    }
   ],
   "source": [
    "data.head(2)"
   ]
  },
  {
   "cell_type": "markdown",
   "metadata": {},
   "source": [
    "## Formato a la variable Duration"
   ]
  },
  {
   "cell_type": "code",
   "execution_count": 9,
   "metadata": {},
   "outputs": [],
   "source": [
    "#data.Duration.replace('s','')"
   ]
  },
  {
   "cell_type": "code",
   "execution_count": 13,
   "metadata": {},
   "outputs": [],
   "source": [
    "def split_s(x):\n",
    "    return x.split('s')[0]"
   ]
  },
  {
   "cell_type": "code",
   "execution_count": 14,
   "metadata": {},
   "outputs": [],
   "source": [
    "data['Duration'] = data['Duration'].apply(split_s)"
   ]
  },
  {
   "cell_type": "code",
   "execution_count": 15,
   "metadata": {},
   "outputs": [],
   "source": [
    "data['Duration'] = data['Duration'].apply(lambda x: x.split('s')[0])"
   ]
  },
  {
   "cell_type": "code",
   "execution_count": 16,
   "metadata": {},
   "outputs": [],
   "source": [
    "data['Duration'] = data['Duration'].astype(int)"
   ]
  },
  {
   "cell_type": "markdown",
   "metadata": {},
   "source": [
    "## Formato a las variable Date"
   ]
  },
  {
   "cell_type": "code",
   "execution_count": 17,
   "metadata": {},
   "outputs": [],
   "source": [
    "data.Date = pd.to_datetime(data.Date,infer_datetime_format=True)\n",
    "#pd.to_datetime(data.Date, format='%Y%m%d %H%M') #errors='ignore'"
   ]
  },
  {
   "cell_type": "code",
   "execution_count": 18,
   "metadata": {},
   "outputs": [
    {
     "data": {
      "text/html": [
       "<div>\n",
       "<style scoped>\n",
       "    .dataframe tbody tr th:only-of-type {\n",
       "        vertical-align: middle;\n",
       "    }\n",
       "\n",
       "    .dataframe tbody tr th {\n",
       "        vertical-align: top;\n",
       "    }\n",
       "\n",
       "    .dataframe thead th {\n",
       "        text-align: right;\n",
       "    }\n",
       "</style>\n",
       "<table border=\"1\" class=\"dataframe\">\n",
       "  <thead>\n",
       "    <tr style=\"text-align: right;\">\n",
       "      <th></th>\n",
       "      <th>Date</th>\n",
       "      <th>Source</th>\n",
       "      <th>Destination</th>\n",
       "      <th>Status</th>\n",
       "      <th>Duration</th>\n",
       "    </tr>\n",
       "  </thead>\n",
       "  <tbody>\n",
       "    <tr>\n",
       "      <td>0</td>\n",
       "      <td>2018-01-31 18:08:00</td>\n",
       "      <td>8182629900</td>\n",
       "      <td>2</td>\n",
       "      <td>ANSWERED</td>\n",
       "      <td>23</td>\n",
       "    </tr>\n",
       "    <tr>\n",
       "      <td>1</td>\n",
       "      <td>2018-01-31 18:06:00</td>\n",
       "      <td>8182629900</td>\n",
       "      <td>2</td>\n",
       "      <td>ANSWERED</td>\n",
       "      <td>13</td>\n",
       "    </tr>\n",
       "    <tr>\n",
       "      <td>2</td>\n",
       "      <td>2018-01-31 18:05:00</td>\n",
       "      <td>8182629900</td>\n",
       "      <td>2</td>\n",
       "      <td>ANSWERED</td>\n",
       "      <td>13</td>\n",
       "    </tr>\n",
       "    <tr>\n",
       "      <td>3</td>\n",
       "      <td>2018-01-31 18:00:00</td>\n",
       "      <td>8182629900</td>\n",
       "      <td>2</td>\n",
       "      <td>ANSWERED</td>\n",
       "      <td>10</td>\n",
       "    </tr>\n",
       "    <tr>\n",
       "      <td>4</td>\n",
       "      <td>2018-01-31 17:53:00</td>\n",
       "      <td>5555113237</td>\n",
       "      <td>2</td>\n",
       "      <td>ANSWERED</td>\n",
       "      <td>13</td>\n",
       "    </tr>\n",
       "  </tbody>\n",
       "</table>\n",
       "</div>"
      ],
      "text/plain": [
       "                 Date      Source  Destination    Status  Duration\n",
       "0 2018-01-31 18:08:00  8182629900            2  ANSWERED        23\n",
       "1 2018-01-31 18:06:00  8182629900            2  ANSWERED        13\n",
       "2 2018-01-31 18:05:00  8182629900            2  ANSWERED        13\n",
       "3 2018-01-31 18:00:00  8182629900            2  ANSWERED        10\n",
       "4 2018-01-31 17:53:00  5555113237            2  ANSWERED        13"
      ]
     },
     "execution_count": 18,
     "metadata": {},
     "output_type": "execute_result"
    }
   ],
   "source": [
    "data.head()"
   ]
  },
  {
   "cell_type": "code",
   "execution_count": 19,
   "metadata": {},
   "outputs": [
    {
     "name": "stdout",
     "output_type": "stream",
     "text": [
      "Total de muestras provenientes  de llamadas externas :  18655\n"
     ]
    }
   ],
   "source": [
    "print(\"Total de muestras provenientes  de llamadas externas : \" ,len(data[data['Source'].astype('str').str.len() > 9]))"
   ]
  },
  {
   "cell_type": "code",
   "execution_count": 20,
   "metadata": {},
   "outputs": [
    {
     "name": "stdout",
     "output_type": "stream",
     "text": [
      "Total de muestras provenientes  de llamadas internas :  1818\n"
     ]
    }
   ],
   "source": [
    "print(\"Total de muestras provenientes  de llamadas internas : \" ,len(data[data['Source'].astype('str').str.len() <= 9]))"
   ]
  },
  {
   "cell_type": "code",
   "execution_count": 21,
   "metadata": {},
   "outputs": [
    {
     "name": "stdout",
     "output_type": "stream",
     "text": [
      "Llamadas externas + llamadas internas :  20473   --->consistencia\n"
     ]
    }
   ],
   "source": [
    "print(\"Llamadas externas + llamadas internas : \" ,len(data[data['Source'].astype('str').str.len() > 9])+len(data[data['Source'].astype('str').str.len() <= 9]),\"  --->consistencia\")"
   ]
  },
  {
   "cell_type": "markdown",
   "metadata": {},
   "source": [
    "## Llamadas  respondidas "
   ]
  },
  {
   "cell_type": "code",
   "execution_count": 22,
   "metadata": {},
   "outputs": [],
   "source": [
    "data = data[(data.Status == 'ANSWERED')&(data['Source'].astype('str').str.len() > 9)]"
   ]
  },
  {
   "cell_type": "code",
   "execution_count": 23,
   "metadata": {},
   "outputs": [
    {
     "data": {
      "text/plain": [
       "(16605, 5)"
      ]
     },
     "execution_count": 23,
     "metadata": {},
     "output_type": "execute_result"
    }
   ],
   "source": [
    "data.shape"
   ]
  },
  {
   "cell_type": "code",
   "execution_count": 24,
   "metadata": {},
   "outputs": [
    {
     "data": {
      "text/html": [
       "<div>\n",
       "<style scoped>\n",
       "    .dataframe tbody tr th:only-of-type {\n",
       "        vertical-align: middle;\n",
       "    }\n",
       "\n",
       "    .dataframe tbody tr th {\n",
       "        vertical-align: top;\n",
       "    }\n",
       "\n",
       "    .dataframe thead th {\n",
       "        text-align: right;\n",
       "    }\n",
       "</style>\n",
       "<table border=\"1\" class=\"dataframe\">\n",
       "  <thead>\n",
       "    <tr style=\"text-align: right;\">\n",
       "      <th></th>\n",
       "      <th>Date</th>\n",
       "      <th>Source</th>\n",
       "      <th>Destination</th>\n",
       "      <th>Status</th>\n",
       "      <th>Duration</th>\n",
       "    </tr>\n",
       "  </thead>\n",
       "  <tbody>\n",
       "    <tr>\n",
       "      <td>20473</td>\n",
       "      <td>2017-02-01 09:46:00</td>\n",
       "      <td>8183574404</td>\n",
       "      <td>2</td>\n",
       "      <td>ANSWERED</td>\n",
       "      <td>10</td>\n",
       "    </tr>\n",
       "    <tr>\n",
       "      <td>20474</td>\n",
       "      <td>2017-02-01 09:44:00</td>\n",
       "      <td>5550004400</td>\n",
       "      <td>2</td>\n",
       "      <td>ANSWERED</td>\n",
       "      <td>11</td>\n",
       "    </tr>\n",
       "    <tr>\n",
       "      <td>20475</td>\n",
       "      <td>2017-02-01 09:24:00</td>\n",
       "      <td>5568402801</td>\n",
       "      <td>2</td>\n",
       "      <td>ANSWERED</td>\n",
       "      <td>13</td>\n",
       "    </tr>\n",
       "    <tr>\n",
       "      <td>20477</td>\n",
       "      <td>2017-02-01 09:13:00</td>\n",
       "      <td>5536841610</td>\n",
       "      <td>2</td>\n",
       "      <td>ANSWERED</td>\n",
       "      <td>16</td>\n",
       "    </tr>\n",
       "    <tr>\n",
       "      <td>20478</td>\n",
       "      <td>2017-02-01 09:02:00</td>\n",
       "      <td>5553082744</td>\n",
       "      <td>2</td>\n",
       "      <td>ANSWERED</td>\n",
       "      <td>32</td>\n",
       "    </tr>\n",
       "  </tbody>\n",
       "</table>\n",
       "</div>"
      ],
      "text/plain": [
       "                     Date      Source  Destination    Status  Duration\n",
       "20473 2017-02-01 09:46:00  8183574404            2  ANSWERED        10\n",
       "20474 2017-02-01 09:44:00  5550004400            2  ANSWERED        11\n",
       "20475 2017-02-01 09:24:00  5568402801            2  ANSWERED        13\n",
       "20477 2017-02-01 09:13:00  5536841610            2  ANSWERED        16\n",
       "20478 2017-02-01 09:02:00  5553082744            2  ANSWERED        32"
      ]
     },
     "execution_count": 24,
     "metadata": {},
     "output_type": "execute_result"
    }
   ],
   "source": [
    "data.tail(5)"
   ]
  },
  {
   "cell_type": "code",
   "execution_count": 25,
   "metadata": {},
   "outputs": [
    {
     "name": "stdout",
     "output_type": "stream",
     "text": [
      "Duración del total de llamadas 443425 segs\n",
      "Duración del total de llamadas 7390.416666666667 mins\n",
      "Duración del total de llamadas 123.17361111111111 hrs\n"
     ]
    }
   ],
   "source": [
    "print(\"Duración del total de llamadas\",data.Duration.sum(),\"segs\")\n",
    "print(\"Duración del total de llamadas\", data.Duration.sum()/60,\"mins\")\n",
    "print(\"Duración del total de llamadas\", data.Duration.sum()/3600,\"hrs\" )"
   ]
  },
  {
   "cell_type": "markdown",
   "metadata": {},
   "source": [
    "- Ya sabesmos que todas son a recepción y que fuerón respondidas\n"
   ]
  },
  {
   "cell_type": "code",
   "execution_count": 50,
   "metadata": {},
   "outputs": [],
   "source": [
    "del data['Status']\n",
    "del data ['Destination']"
   ]
  },
  {
   "cell_type": "code",
   "execution_count": 51,
   "metadata": {},
   "outputs": [
    {
     "data": {
      "text/html": [
       "<div>\n",
       "<style scoped>\n",
       "    .dataframe tbody tr th:only-of-type {\n",
       "        vertical-align: middle;\n",
       "    }\n",
       "\n",
       "    .dataframe tbody tr th {\n",
       "        vertical-align: top;\n",
       "    }\n",
       "\n",
       "    .dataframe thead th {\n",
       "        text-align: right;\n",
       "    }\n",
       "</style>\n",
       "<table border=\"1\" class=\"dataframe\">\n",
       "  <thead>\n",
       "    <tr style=\"text-align: right;\">\n",
       "      <th></th>\n",
       "      <th>Date</th>\n",
       "      <th>Source</th>\n",
       "      <th>Duration</th>\n",
       "    </tr>\n",
       "  </thead>\n",
       "  <tbody>\n",
       "    <tr>\n",
       "      <td>0</td>\n",
       "      <td>2018-01-31 18:08:00</td>\n",
       "      <td>8182629900</td>\n",
       "      <td>23</td>\n",
       "    </tr>\n",
       "    <tr>\n",
       "      <td>1</td>\n",
       "      <td>2018-01-31 18:06:00</td>\n",
       "      <td>8182629900</td>\n",
       "      <td>13</td>\n",
       "    </tr>\n",
       "    <tr>\n",
       "      <td>2</td>\n",
       "      <td>2018-01-31 18:05:00</td>\n",
       "      <td>8182629900</td>\n",
       "      <td>13</td>\n",
       "    </tr>\n",
       "    <tr>\n",
       "      <td>3</td>\n",
       "      <td>2018-01-31 18:00:00</td>\n",
       "      <td>8182629900</td>\n",
       "      <td>10</td>\n",
       "    </tr>\n",
       "    <tr>\n",
       "      <td>4</td>\n",
       "      <td>2018-01-31 17:53:00</td>\n",
       "      <td>5555113237</td>\n",
       "      <td>13</td>\n",
       "    </tr>\n",
       "    <tr>\n",
       "      <td>...</td>\n",
       "      <td>...</td>\n",
       "      <td>...</td>\n",
       "      <td>...</td>\n",
       "    </tr>\n",
       "    <tr>\n",
       "      <td>20473</td>\n",
       "      <td>2017-02-01 09:46:00</td>\n",
       "      <td>8183574404</td>\n",
       "      <td>10</td>\n",
       "    </tr>\n",
       "    <tr>\n",
       "      <td>20474</td>\n",
       "      <td>2017-02-01 09:44:00</td>\n",
       "      <td>5550004400</td>\n",
       "      <td>11</td>\n",
       "    </tr>\n",
       "    <tr>\n",
       "      <td>20475</td>\n",
       "      <td>2017-02-01 09:24:00</td>\n",
       "      <td>5568402801</td>\n",
       "      <td>13</td>\n",
       "    </tr>\n",
       "    <tr>\n",
       "      <td>20477</td>\n",
       "      <td>2017-02-01 09:13:00</td>\n",
       "      <td>5536841610</td>\n",
       "      <td>16</td>\n",
       "    </tr>\n",
       "    <tr>\n",
       "      <td>20478</td>\n",
       "      <td>2017-02-01 09:02:00</td>\n",
       "      <td>5553082744</td>\n",
       "      <td>32</td>\n",
       "    </tr>\n",
       "  </tbody>\n",
       "</table>\n",
       "<p>16605 rows × 3 columns</p>\n",
       "</div>"
      ],
      "text/plain": [
       "                     Date      Source  Duration\n",
       "0     2018-01-31 18:08:00  8182629900        23\n",
       "1     2018-01-31 18:06:00  8182629900        13\n",
       "2     2018-01-31 18:05:00  8182629900        13\n",
       "3     2018-01-31 18:00:00  8182629900        10\n",
       "4     2018-01-31 17:53:00  5555113237        13\n",
       "...                   ...         ...       ...\n",
       "20473 2017-02-01 09:46:00  8183574404        10\n",
       "20474 2017-02-01 09:44:00  5550004400        11\n",
       "20475 2017-02-01 09:24:00  5568402801        13\n",
       "20477 2017-02-01 09:13:00  5536841610        16\n",
       "20478 2017-02-01 09:02:00  5553082744        32\n",
       "\n",
       "[16605 rows x 3 columns]"
      ]
     },
     "execution_count": 51,
     "metadata": {},
     "output_type": "execute_result"
    }
   ],
   "source": [
    "data"
   ]
  },
  {
   "cell_type": "code",
   "execution_count": 59,
   "metadata": {},
   "outputs": [],
   "source": [
    "#pd.DataFrame(data.groupby(pd.Grouper(key='Date', freq='1M')))\n",
    "#T.groupby(pd.Grouper(key='date', freq='1M')).sum()\n",
    "#T.groupby(T['date'].dt.strftime('%B'))['revenue'].sum()"
   ]
  },
  {
   "cell_type": "code",
   "execution_count": 63,
   "metadata": {},
   "outputs": [
    {
     "data": {
      "text/plain": [
       "dict_keys([(2017, 2), (2017, 3), (2017, 4), (2017, 5), (2017, 6), (2017, 7), (2017, 8), (2017, 9), (2017, 10), (2017, 11), (2017, 12), (2018, 1)])"
      ]
     },
     "execution_count": 63,
     "metadata": {},
     "output_type": "execute_result"
    }
   ],
   "source": [
    " gb.groups.keys()"
   ]
  },
  {
   "cell_type": "code",
   "execution_count": 117,
   "metadata": {},
   "outputs": [],
   "source": [
    "#gb = data.groupby([data['Date'].dt.year])['Date','Source','Duration']\n",
    "#gb = data.groupby([data['Date'].dt.year,data['Date'].dt.month])['Date','Source','Duration']\n",
    "#for key_year in gb.groups.keys():\n",
    "#    df_year = gb.get_group(key_year)\n",
    "    #print(df_year)\n",
    "#.rename_axis('Año').reset_index()\n",
    "#,data['Date'].dt.month,data['Date'].dt.day]"
   ]
  },
  {
   "cell_type": "code",
   "execution_count": 69,
   "metadata": {},
   "outputs": [],
   "source": [
    "df_gb_4 = pd.DataFrame(data.groupby([data['Date'].dt.year,data['Date'].dt.month,data['Date'].dt.day]).Source.count())"
   ]
  },
  {
   "cell_type": "code",
   "execution_count": 110,
   "metadata": {},
   "outputs": [
    {
     "data": {
      "text/plain": [
       "51"
      ]
     },
     "execution_count": 110,
     "metadata": {},
     "output_type": "execute_result"
    }
   ],
   "source": [
    "df_gb_4[df_gb_4.Source < 27 ].Source.sum()"
   ]
  },
  {
   "cell_type": "code",
   "execution_count": 108,
   "metadata": {},
   "outputs": [
    {
     "data": {
      "text/plain": [
       "(10, 1)"
      ]
     },
     "execution_count": 108,
     "metadata": {},
     "output_type": "execute_result"
    }
   ],
   "source": [
    "df_gb_4[df_gb_4.Source < 27 ].shape"
   ]
  },
  {
   "cell_type": "code",
   "execution_count": 86,
   "metadata": {},
   "outputs": [],
   "source": [
    "date_ = list(df_gb_4[df_gb_4.Source < 27 ].index)"
   ]
  },
  {
   "cell_type": "code",
   "execution_count": 104,
   "metadata": {},
   "outputs": [
    {
     "data": {
      "text/plain": [
       "10"
      ]
     },
     "execution_count": 104,
     "metadata": {},
     "output_type": "execute_result"
    }
   ],
   "source": [
    "len(date_)"
   ]
  },
  {
   "cell_type": "code",
   "execution_count": 101,
   "metadata": {},
   "outputs": [],
   "source": [
    "list_date = []\n",
    "for a,m,d in date_:\n",
    "    list_date.append(dt.date(a,m,d))"
   ]
  },
  {
   "cell_type": "code",
   "execution_count": 102,
   "metadata": {},
   "outputs": [
    {
     "data": {
      "text/plain": [
       "[datetime.date(2017, 2, 6),\n",
       " datetime.date(2017, 3, 20),\n",
       " datetime.date(2017, 4, 13),\n",
       " datetime.date(2017, 4, 16),\n",
       " datetime.date(2017, 8, 12),\n",
       " datetime.date(2017, 8, 13),\n",
       " datetime.date(2017, 11, 2),\n",
       " datetime.date(2017, 11, 20),\n",
       " datetime.date(2017, 12, 25),\n",
       " datetime.date(2018, 1, 1)]"
      ]
     },
     "execution_count": 102,
     "metadata": {},
     "output_type": "execute_result"
    }
   ],
   "source": [
    "list_date"
   ]
  },
  {
   "cell_type": "code",
   "execution_count": 111,
   "metadata": {},
   "outputs": [
    {
     "data": {
      "text/plain": [
       "(51, 3)"
      ]
     },
     "execution_count": 111,
     "metadata": {},
     "output_type": "execute_result"
    }
   ],
   "source": [
    "data[ data.Date.dt.date.isin(list_date)].shape"
   ]
  },
  {
   "cell_type": "markdown",
   "metadata": {},
   "source": [
    "## Agg"
   ]
  },
  {
   "cell_type": "raw",
   "metadata": {},
   "source": []
  },
  {
   "cell_type": "code",
   "execution_count": 133,
   "metadata": {},
   "outputs": [],
   "source": [
    "gb = data.groupby([data['Date'].dt.year,data['Date'].dt.month,data['Date'].dt.day]).agg(\n",
    "    {\n",
    "         'Duration':sum,    # Sum duration per group\n",
    "         'Duration': \"median\",  # get the count of \n",
    "\n",
    "    }\n",
    ")"
   ]
  },
  {
   "cell_type": "code",
   "execution_count": 134,
   "metadata": {},
   "outputs": [],
   "source": [
    "df_  = pd.DataFrame(gb)"
   ]
  },
  {
   "cell_type": "code",
   "execution_count": 135,
   "metadata": {},
   "outputs": [
    {
     "data": {
      "text/html": [
       "<div>\n",
       "<style scoped>\n",
       "    .dataframe tbody tr th:only-of-type {\n",
       "        vertical-align: middle;\n",
       "    }\n",
       "\n",
       "    .dataframe tbody tr th {\n",
       "        vertical-align: top;\n",
       "    }\n",
       "\n",
       "    .dataframe thead th {\n",
       "        text-align: right;\n",
       "    }\n",
       "</style>\n",
       "<table border=\"1\" class=\"dataframe\">\n",
       "  <thead>\n",
       "    <tr style=\"text-align: right;\">\n",
       "      <th></th>\n",
       "      <th></th>\n",
       "      <th></th>\n",
       "      <th>Duration</th>\n",
       "    </tr>\n",
       "    <tr>\n",
       "      <th>Date</th>\n",
       "      <th>Date</th>\n",
       "      <th>Date</th>\n",
       "      <th></th>\n",
       "    </tr>\n",
       "  </thead>\n",
       "  <tbody>\n",
       "    <tr>\n",
       "      <td rowspan=\"5\" valign=\"top\">2017</td>\n",
       "      <td rowspan=\"5\" valign=\"top\">2</td>\n",
       "      <td>1</td>\n",
       "      <td>13.0</td>\n",
       "    </tr>\n",
       "    <tr>\n",
       "      <td>2</td>\n",
       "      <td>18.0</td>\n",
       "    </tr>\n",
       "    <tr>\n",
       "      <td>3</td>\n",
       "      <td>18.0</td>\n",
       "    </tr>\n",
       "    <tr>\n",
       "      <td>6</td>\n",
       "      <td>26.0</td>\n",
       "    </tr>\n",
       "    <tr>\n",
       "      <td>7</td>\n",
       "      <td>16.0</td>\n",
       "    </tr>\n",
       "    <tr>\n",
       "      <td>...</td>\n",
       "      <td>...</td>\n",
       "      <td>...</td>\n",
       "      <td>...</td>\n",
       "    </tr>\n",
       "    <tr>\n",
       "      <td rowspan=\"5\" valign=\"top\">2018</td>\n",
       "      <td rowspan=\"5\" valign=\"top\">1</td>\n",
       "      <td>25</td>\n",
       "      <td>13.5</td>\n",
       "    </tr>\n",
       "    <tr>\n",
       "      <td>26</td>\n",
       "      <td>17.0</td>\n",
       "    </tr>\n",
       "    <tr>\n",
       "      <td>29</td>\n",
       "      <td>20.0</td>\n",
       "    </tr>\n",
       "    <tr>\n",
       "      <td>30</td>\n",
       "      <td>21.0</td>\n",
       "    </tr>\n",
       "    <tr>\n",
       "      <td>31</td>\n",
       "      <td>15.0</td>\n",
       "    </tr>\n",
       "  </tbody>\n",
       "</table>\n",
       "<p>262 rows × 1 columns</p>\n",
       "</div>"
      ],
      "text/plain": [
       "                Duration\n",
       "Date Date Date          \n",
       "2017 2    1         13.0\n",
       "          2         18.0\n",
       "          3         18.0\n",
       "          6         26.0\n",
       "          7         16.0\n",
       "...                  ...\n",
       "2018 1    25        13.5\n",
       "          26        17.0\n",
       "          29        20.0\n",
       "          30        21.0\n",
       "          31        15.0\n",
       "\n",
       "[262 rows x 1 columns]"
      ]
     },
     "execution_count": 135,
     "metadata": {},
     "output_type": "execute_result"
    }
   ],
   "source": [
    "df_"
   ]
  },
  {
   "cell_type": "markdown",
   "metadata": {},
   "source": [
    "## Eliminar los datos atípicos "
   ]
  },
  {
   "cell_type": "markdown",
   "metadata": {},
   "source": [
    "- Días con pocas lladas\n",
    "- Días festivos \n",
    "- Sabados y domingos \n",
    "\n",
    "- Llamadas fuera de horario "
   ]
  },
  {
   "cell_type": "code",
   "execution_count": null,
   "metadata": {},
   "outputs": [],
   "source": []
  },
  {
   "cell_type": "code",
   "execution_count": null,
   "metadata": {},
   "outputs": [],
   "source": [
    "#for key_year in gd_year.groups.keys():\n",
    "    #df_year = gd_year.get_group(key_year)\n",
    "    #gb_month = df_year.groupby(data['Date'].dt.month)"
   ]
  },
  {
   "cell_type": "code",
   "execution_count": null,
   "metadata": {},
   "outputs": [],
   "source": []
  },
  {
   "cell_type": "code",
   "execution_count": null,
   "metadata": {},
   "outputs": [],
   "source": [
    "\n"
   ]
  }
 ],
 "metadata": {
  "kernelspec": {
   "display_name": "Python 3",
   "language": "python",
   "name": "python3"
  },
  "language_info": {
   "codemirror_mode": {
    "name": "ipython",
    "version": 3
   },
   "file_extension": ".py",
   "mimetype": "text/x-python",
   "name": "python",
   "nbconvert_exporter": "python",
   "pygments_lexer": "ipython3",
   "version": "3.7.4"
  }
 },
 "nbformat": 4,
 "nbformat_minor": 2
}

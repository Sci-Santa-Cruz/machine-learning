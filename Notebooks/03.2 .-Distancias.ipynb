{
 "cells": [
  {
   "cell_type": "markdown",
   "metadata": {},
   "source": [
    "## Medidas de semejanza\n",
    "\n",
    "La base del agrupamiento es la determinación de la semejanza entre objetos.\n",
    "\n",
    "![](images/people-groups.jpg)\n",
    "![ ](images/blank.png)\n",
    "\n",
    "La semejanza es un juicio subjetivo mediante el cual las personas describen su percepción de cercanía o parecido entre dos objetos. El objetivo del reconocimiento de patrones es sistematizar la medición de esta evaluación.\n",
    "\n",
    "La __teoría de la Gestalt__ reconoce varios principios en base a los cuales se puede explicar la percepción. Entre estos principios podemos distinguir los de \"proximidad\" y \"similitud\". \n",
    "\n",
    "![](images/Gestalt_grouping.jpg)\n",
    "![ ](images/blank.png)\n",
    "\n",
    "La \"proximidad\" se puede medir de manera directa a través de medidas de distancia. La \"similitud\", por su parte, es un concepto más difícil de generalizar: la similitud entre objetos puede definirse a través de diferentes características. \n",
    "\n",
    "![](images/similarity.png)\n",
    "\n",
    "Las técnicas de reconocimiento de patrones miden la similitud en términos de la proximidad entre puntos de un espacio teórico. Este espacio se construye utilizando los rasgos que describen a un objeto como coordenadas, como en el siguiente ejemplo:\n",
    "\n",
    "![ ](images/FeatureSpace.png)\n",
    "![ ](images/blank.png)\n",
    "![ ](images/FeatureSpace small.png)\n",
    "\n"
   ]
  },
  {
   "cell_type": "markdown",
   "metadata": {},
   "source": [
    "## Distancia(s)\n",
    "\n",
    "La forma más común de medir la proximidad entre dos puntos es a través de la distancia. Una función de distancia es una función matemática que cumple las siguientes características:\n",
    "\n",
    "\\begin{eqnarray}\n",
    " D1 & & d(x,y)\\ge 0 \\\\\n",
    " D2 & & d(x,y)=0 \\iff x=y\\\\\n",
    " D3 & & d(x,y)=d(y,x)\\\\\n",
    " D4 & & d(x,y) + d(y,z) \\ge d(x,z)\n",
    "\\end{eqnarray}\n",
    "\n",
    "Existen diversas funciones de distancia, siendo algunas de las más comunes las siguientes:"
   ]
  },
  {
   "cell_type": "markdown",
   "metadata": {},
   "source": [
    "\n",
    "\n",
    "### **Distancia euclidiana** \n",
    "\n",
    "La forma más común para medir la distancia es la llamada distancia euclidiana. Corresponde a la distancia en línea recta desde un punto al otro\n",
    "\n",
    "![](images/euclidean.png)\n",
    "![ ](images/blank.png)\n",
    "\n",
    "En general, si $p = (p_1, p_2, ..., p_n)$ y $q = (q_1, q_2, ..., q_n)$ son dos puntos en un espacio de *n* características, la distancia euclidiana entre p y q es \n",
    "\n",
    "$$d(p,q) = \\sqrt{(p_1-q_1)^2, (p_2-q_2)^2 \\ldots (p_n-q_n)^2}\\ $$ \n",
    "\n",
    "Por ejemplo, en Python, utilizando el paquete [*scipy.spatial.distance*](http://docs.scipy.org/doc/scipy/reference/generated/scipy.spatial.distance.pdist.html#scipy.spatial.distance.pdist):"
   ]
  },
  {
   "cell_type": "code",
   "execution_count": 1,
   "metadata": {},
   "outputs": [],
   "source": [
    "from scipy.spatial import distance"
   ]
  },
  {
   "cell_type": "code",
   "execution_count": 2,
   "metadata": {},
   "outputs": [
    {
     "name": "stdout",
     "output_type": "stream",
     "text": [
      "La distancia entre el punto (1, 2, 3) y el punto (4, 5, 6) es: 5.196152422706632\n"
     ]
    }
   ],
   "source": [
    "a = (1,2,3)\n",
    "b = (4,5,6)\n",
    "\n",
    "print('La distancia entre el punto {} y el punto {} es:'.format(a,b), distance.euclidean(a,b))"
   ]
  },
  {
   "cell_type": "markdown",
   "metadata": {},
   "source": [
    "Para calcular todas las distancias en un conjunto de datos (el cual da como resultado un vector de distancias por pares de elementos) se realiza de la siguiente forma:"
   ]
  },
  {
   "cell_type": "code",
   "execution_count": 3,
   "metadata": {},
   "outputs": [],
   "source": [
    "import numpy as np\n",
    "import pandas as pd\n",
    "import os\n",
    "\n",
    "os.chdir('Data/Pima Indian Data Set/')"
   ]
  },
  {
   "cell_type": "markdown",
   "metadata": {},
   "source": [
    "<div class=\"alert alert-info\" role=\"alert\"><i class=\"fa fa-lightbulb-o\" aria-hidden=\"true\"></i> <strong> Más  sobre distancias en scipy </strong> https://docs.scipy.org/doc/scipy/reference/generated/scipy.spatial.distance.pdist.html</div>"
   ]
  },
  {
   "cell_type": "code",
   "execution_count": 4,
   "metadata": {},
   "outputs": [
    {
     "name": "stdout",
     "output_type": "stream",
     "text": [
      "    emb  gl2h  pad  ept  is2h   imc    fpd  edad  class\n",
      "0     6   148   72   35     0  33.6  0.627    50      1\n",
      "1     1    85   66   29     0  26.6  0.351    31      0\n",
      "2     8   183   64    0     0  23.3  0.672    32      1\n",
      "3     1    89   66   23    94  28.1  0.167    21      0\n",
      "4     0   137   40   35   168  43.1  2.288    33      1\n",
      "5     5   116   74    0     0  25.6  0.201    30      0\n",
      "6     3    78   50   32    88  31.0  0.248    26      1\n",
      "7    10   115    0    0     0  35.3  0.134    29      0\n",
      "8     2   197   70   45   543  30.5  0.158    53      1\n",
      "9     8   125   96    0     0   0.0  0.232    54      1\n",
      "10    4   110   92    0     0  37.6  0.191    30      0\n",
      "11   10   168   74    0     0  38.0  0.537    34      1\n",
      "12   10   139   80    0     0  27.1  1.441    57      0\n",
      "13    1   189   60   23   846  30.1  0.398    59      1\n",
      "14    5   166   72   19   175  25.8  0.587    51      1\n",
      "15    7   100    0    0     0  30.0  0.484    32      1\n",
      "16    0   118   84   47   230  45.8  0.551    31      1\n",
      "17    7   107   74    0     0  29.6  0.254    31      1\n",
      "18    1   103   30   38    83  43.3  0.183    33      0\n",
      "19    1   115   70   30    96  34.6  0.529    32      1\n"
     ]
    }
   ],
   "source": [
    "df = pd.read_csv(\"pima-indians-diabetes.data-small-orig\", \n",
    "                 names = ['emb', 'gl2h', 'pad', 'ept', 'is2h', 'imc', 'fpd', 'edad', 'class'])\n",
    "\n",
    "print(df)\n",
    "\n"
   ]
  },
  {
   "cell_type": "code",
   "execution_count": 5,
   "metadata": {},
   "outputs": [
    {
     "name": "stdout",
     "output_type": "stream",
     "text": [
      "\n",
      "Las distancias euclidianas (190) para los datos de diabetes son:\n",
      " [ 66.91095707  54.29633528 115.73444431 172.58913326  52.14577141\n",
      " 117.17040429  89.2139734  545.3336868   58.98403195  59.07783083\n",
      "  43.82200475  38.45663267 847.23273216 176.82715176  95.13664094\n",
      " 233.73884097  57.3422979  105.33891558 103.36348293 102.52313417\n",
      "  94.8171074  178.66729407  43.40532801  90.04093852  79.10586002\n",
      " 555.12723519  68.02627552  47.67625824  89.5265022   68.63991623\n",
      " 852.87821652 194.26707311  73.97011349 234.53716123  37.88151804\n",
      "  94.19616884 100.99025539 135.64400107 180.55650488  67.88602095\n",
      " 141.80786218  94.22467535 545.55944149  73.58725161  79.61608733\n",
      "  23.43305838  53.26379034 846.83015716 178.08777955 105.02821213\n",
      " 245.57130256  76.92765903 127.82894477 122.28127595  94.7391083\n",
      " 101.29783392  23.07415353 120.80497129 463.46171372 116.14479853\n",
      " 103.25817438 126.56676855 115.93370121 759.59795508 116.03648736\n",
      " 118.3372743  143.70955938  99.45982892  47.04296181  30.15594542\n",
      " 177.17676363 100.9879775  178.08840422 381.82757483 187.33882976\n",
      " 181.50109479 178.03391812 178.84830838 681.01510416  53.11481339\n",
      " 180.67336388  79.36817479 178.1695461   92.17630403  81.67217446\n",
      " 104.10649456  74.81373195 551.37465652  42.5013054   22.47220728\n",
      "  53.85046793  36.3701471  850.08722424 184.20691897  75.89756313\n",
      " 235.89862759  10.14902995 103.80891255 101.16870852 112.75860498\n",
      " 471.68342996 121.9139051  107.78480064 132.68791777 120.0692852\n",
      " 766.91579231 128.92693637 108.65107315 152.96447891 101.13337746\n",
      "  35.93458258  43.47457833 556.02341729 105.79272     92.36500013\n",
      "  91.20555032  88.48134407 852.25002769 198.4224161   16.4988636\n",
      " 249.77874987  74.74292207  97.66269708 122.91316457 551.09096842\n",
      " 552.73086678 546.08826543 548.11696388 304.12862016 370.27054169\n",
      " 558.25563703 324.24102832 552.72038068 471.85892026 455.2108826\n",
      "  47.41056508  64.66137197  34.66802101 850.06884283 184.1921986\n",
      " 105.95311937 240.81682201  47.05486674 124.65509376 112.34877929\n",
      "  61.16600131  43.14872536 851.12707209 187.36167382  92.92925185\n",
      " 235.20707812  20.19910812 110.79932339 103.18970028  39.07207719\n",
      " 847.14250827 177.36076934 100.88113208 240.58021572  61.72228195\n",
      " 120.85203894 114.18213549 848.08082625 178.44724519  92.54904564\n",
      " 238.1039313   41.87671154 114.23669535 107.49921741 671.58657351\n",
      " 853.54028458 621.83640406 850.87324011 769.11721228 754.23754028\n",
      " 202.25887029  84.1546273  186.78744842 123.31023159  97.06411986\n",
      " 250.57662399  74.33850214  97.24700819 123.68573897 235.88456543\n",
      " 157.61784615 136.29908468 102.53631084 101.28215847  45.330009  ]\n"
     ]
    }
   ],
   "source": [
    "md = distance.pdist(df, 'euclidean')\n",
    "print('\\nLas distancias euclidianas ({}) para los datos de diabetes son:\\n'.format(md.size), md)"
   ]
  },
  {
   "cell_type": "markdown",
   "metadata": {},
   "source": [
    "El resultado es un conjunto de 190 datos $n(n-1)/2$, es decir, el resultado de obtener las distancias de cada renglón contra los restantes.\n",
    "\n",
    "### **Distancia de Manhattan** \n",
    "\n",
    "También conocida como distancia del taxista, distancia lineal o distancia de ciudad, consiste en sumar las distancias horizontales y verticales, como lo haría un taxi que va de un punto a otro a través de las calles una ciudad. \n",
    "\n",
    "![](images/manhattan.png)\n",
    "$$d(p,q) = \\left|p-q \\right| = \\sum_{i=1}^n \\left|p_i-q_i \\right| \\ $$"
   ]
  },
  {
   "cell_type": "code",
   "execution_count": 6,
   "metadata": {},
   "outputs": [
    {
     "name": "stdout",
     "output_type": "stream",
     "text": [
      "\n",
      "Las distancias del uber (190) para los datos de diabetes son:\n",
      " [ 107.276  108.345  211.96   245.161   99.426  212.979  168.193  614.569\n",
      "  121.995  120.436   81.49    71.314  928.729  218.84   177.743  321.276\n",
      "  102.373  206.144  160.098  141.621  115.684  274.437   74.15   126.503\n",
      "  144.917  703.093  156.719   95.16   144.586  133.59   994.547  298.036\n",
      "  121.533  320.4     69.097  164.868  141.178  237.305  303.416   85.771\n",
      "  258.124  150.538  642.714  135.74   122.781   43.835   92.569  920.074\n",
      "  243.585  154.888  393.621   94.718  264.489  218.443  191.121  167.534\n",
      "   52.981  233.233  619.409  252.165  185.524  237.27   228.274  899.231\n",
      "  205.72   214.217  237.084  161.587  103.216   57.862  286.587  176.14\n",
      "  289.954  511.73   345.156  297.597  285.851  296.847  803.89   126.001\n",
      "  302.904  143.437  291.534  136.305  141.259  194.447   90.767  704.943\n",
      "   84.631   37.01    74.736   63.74   994.697  268.586   99.683  316.55\n",
      "   17.053  202.718  147.328  222.414  635.59   277.016  206.657  256.289\n",
      "  255.093  924.05   242.539  203.236  254.103  183.406   78.365   78.881\n",
      "  777.824  169.398  106.357  136.103  141.507 1048.464  354.953   27.65\n",
      "  387.917   93.82   184.049  210.095  723.574  730.133  655.879  673.683\n",
      "  350.64   437.129  781.826  447.693  709.996  635.825  570.471   85.641\n",
      "  125.305   64.309 1011.266  291.155  174.252  373.119   93.622  281.349\n",
      "  225.897   87.746   85.75  1020.707  305.196  115.893  307.56    34.063\n",
      "  201.708  162.338   70.804  946.039  232.25   155.053  357.814   75.683\n",
      "  246.654  197.408  955.043  243.154  151.857  358.59    71.687  257.458\n",
      "  203.412  726.489 1051.186  779.853  999.644  934.415  872.631  357.303\n",
      "  188.036  281.133  256.904  174.858  402.867   82.63   175.601  221.645\n",
      "  321.497  231.868  181.222  191.771  150.275   84.046]\n"
     ]
    }
   ],
   "source": [
    "md_manhattan = distance.pdist(df, 'cityblock')\n",
    "print('\\nLas distancias del uber ({}) para los datos de diabetes son:\\n'.format(md_manhattan.size), md_manhattan)"
   ]
  },
  {
   "cell_type": "markdown",
   "metadata": {},
   "source": [
    "### **Distancia de Minkowski** \n",
    "\n",
    "Es una generalización de las distancias de Manhattan $(k=1)$ y Euclidiana $(k=2)$. \n",
    "\n",
    "$$D(p,q)=\\left(\\sum_{i=1}^n \\left| p_i-q_i \\right|^k \\right)^\\frac{1}{k} $$"
   ]
  },
  {
   "cell_type": "code",
   "execution_count": 7,
   "metadata": {},
   "outputs": [
    {
     "name": "stdout",
     "output_type": "stream",
     "text": [
      "\n",
      "Las distancias de Minkowski con k=1 para los datos de diabetes son:\n",
      " [ 107.276  108.345  211.96   245.161   99.426  212.979  168.193  614.569\n",
      "  121.995  120.436   81.49    71.314  928.729  218.84   177.743  321.276\n",
      "  102.373  206.144  160.098  141.621  115.684  274.437   74.15   126.503\n",
      "  144.917  703.093  156.719   95.16   144.586  133.59   994.547  298.036\n",
      "  121.533  320.4     69.097  164.868  141.178  237.305  303.416   85.771\n",
      "  258.124  150.538  642.714  135.74   122.781   43.835   92.569  920.074\n",
      "  243.585  154.888  393.621   94.718  264.489  218.443  191.121  167.534\n",
      "   52.981  233.233  619.409  252.165  185.524  237.27   228.274  899.231\n",
      "  205.72   214.217  237.084  161.587  103.216   57.862  286.587  176.14\n",
      "  289.954  511.73   345.156  297.597  285.851  296.847  803.89   126.001\n",
      "  302.904  143.437  291.534  136.305  141.259  194.447   90.767  704.943\n",
      "   84.631   37.01    74.736   63.74   994.697  268.586   99.683  316.55\n",
      "   17.053  202.718  147.328  222.414  635.59   277.016  206.657  256.289\n",
      "  255.093  924.05   242.539  203.236  254.103  183.406   78.365   78.881\n",
      "  777.824  169.398  106.357  136.103  141.507 1048.464  354.953   27.65\n",
      "  387.917   93.82   184.049  210.095  723.574  730.133  655.879  673.683\n",
      "  350.64   437.129  781.826  447.693  709.996  635.825  570.471   85.641\n",
      "  125.305   64.309 1011.266  291.155  174.252  373.119   93.622  281.349\n",
      "  225.897   87.746   85.75  1020.707  305.196  115.893  307.56    34.063\n",
      "  201.708  162.338   70.804  946.039  232.25   155.053  357.814   75.683\n",
      "  246.654  197.408  955.043  243.154  151.857  358.59    71.687  257.458\n",
      "  203.412  726.489 1051.186  779.853  999.644  934.415  872.631  357.303\n",
      "  188.036  281.133  256.904  174.858  402.867   82.63   175.601  221.645\n",
      "  321.497  231.868  181.222  191.771  150.275   84.046]\n"
     ]
    }
   ],
   "source": [
    "md_minkowski = distance.pdist(df, 'minkowski', 1)\n",
    "print('\\nLas distancias de Minkowski con k=1 para los datos de diabetes son:\\n', md_minkowski)"
   ]
  },
  {
   "cell_type": "markdown",
   "metadata": {},
   "source": [
    "## Similaridad vs Disimilaridad vs Distancia"
   ]
  },
  {
   "cell_type": "markdown",
   "metadata": {},
   "source": [
    "Para algunos autores, una de las cuestiones básicas en el reconocimiento de patrones es poder\n",
    "establecer las diferencias entre los objetos, fenómenos o eventos y por tanto para ellos la __disimilaridad__\n",
    "es el concepto sobre el que han enfocado sus desarrollos [Pekalska, Duin, (2005)]. Para estos autores\n",
    "sólo cuando las diferencias han sido observadas y caracterizadas, la __similaridad__ empieza a desempeñar\n",
    "un rol. A partir de aquí llegan a la conclusión de que la _disimilaridad es más fundamental que la\n",
    "similaridad_ , por lo que han enfocado el desarrollo de sus teorías sobre la base de dicho concepto. Sin\n",
    "embargo, estos autores no dan una definición formal de una función de disimilaridad. Lo que sí queda\n",
    "claro, como expresan los propios autores de estas ideas, es que la opción por __las disimilaridades está\n",
    "avalada por el hecho que ellas pueden ser interpretadas como distancias en un espacio vectorial\n",
    "conveniente y en muchos casos ellas pueden ser intuitivamente más atractivas__.\n",
    "\n",
    "\n",
    "A diferencia de lo expuesto por los citados autores, existen muchos ejemplos prácticos en los que es\n",
    "la analogía, el parecido, la similaridad, entre los objetos, fenómenos o eventos, lo que proporciona la\n",
    "información básica para poder establecer el reconocimiento entre los mismos. \n",
    "\n",
    "_Cuando nos enfrentamos a dos cuadros clínicos, expuestos sobre la base de la sintomatología y los signos observados en los pacientes, en muchos casos no son las diferencias, sino las semejanzas lo que nos permite establecer un diagnóstico_ . \n",
    "\n",
    "De hecho, las diferencias pueden ser muchísimas y no tienen valor clínico. Los llamados\n",
    "__factores de riesgo__ en muchos padecimientos se establecen sobre la base de las semejanzas, no de las\n",
    "diferencias. Algo análogo ocurre con el establecimiento de zonas perspectivas para la existencia de\n",
    "yacimientos minerales, o para el cultivo en la agricultura, o para el establecimiento de un diagnóstico\n",
    "técnico del funcionamiento de un equipo, o el pronóstico meteorológico, o el modus operandi de\n",
    "acciones delictivas, o la conducta de grupos de clientes en mercados, o de turistas en ciertas ciudades y\n",
    "muchos ejemplos más donde es la similaridad la que resulta ser el factor fundamental. A este hecho se\n",
    "une otro de carácter básico y que es característico de las ciencias poco formalizadas (Medicina,\n",
    "Geociencias, Sociología, Psicología, Ecología, la Criminalística y otras): la frecuencia de aparición de\n",
    "las combinaciones de valores de esos rasgos.\n",
    "\n",
    "\n",
    "Es por ello que varios autores coincidimos en la idea de que uno de los conceptos fundamentales del\n",
    "Reconocimiento de Patrones es la analogía entre objetos, el parecido entre las descripciones de los\n",
    "objetos [Hubert, L.J. (1973), Tversky, A. (1977), Moskalienskii, E.D. (1984), Moskalienskii, E.D.,\n",
    "Chinaiev, Y.B. (1984), Goldfarb, L. (1985), Sato, M., Sato, Y. (1995), Rodríguez, A., Egenhofer, M.\n",
    "(2003, 2004), Schwering, A., Raubal, M. (2005)]. Muy en particular, este concepto, como mencionamos\n",
    "anteriormente, es clave en las llamadas ciencias poco formalizadas, que por demás tienen un gran\n",
    "impacto en la sociedad desde muchos puntos de vista: económico, político, social, etc.\n",
    "__La formalización del concepto de similaridad (o del de disimilaridad) es una tarea importante que ha\n",
    "sido comúnmente reducida al uso de las distancias__.\n",
    "\n",
    "Cuando el estudio se realiza en un _espacio de representación métrico, lo usual es considerar la\n",
    "proximidad como sinónimo conceptual de la analogía_. Mientras más parecidos (semejantes, análogos)\n",
    "son los objetos que se comparan, más cercanas deberán estar sus representaciones en el espacio que se\n",
    "considere. Y por supuesto que existen problemas del mundo real que satisfacen estas condiciones. Sin\n",
    "embargo, _cuando no hablamos de espacios métricos,  no es una distancia lo que se debe emplear\n",
    "para comparar las descripciones de los objetos_, es natural que esta idea deba ser ajustada a las nuevas\n",
    "circunstancias.\n",
    "\n",
    "El procedimiento empleado durante mucho tiempo por muchos investigadores ha sido considerar esa\n",
    "analogía, parecido, similaridad, como el opuesto o el inverso de una función de distancia. Y esto es, en\n",
    "ocasiones, correcto, pero no siempre los problemas del mundo real responden a estas exigencias.\n",
    "Para entender mejor estas ideas es importante recordar las principales diferencias y conexiones entre\n",
    "estos dos conceptos: distancia y similaridad (semejanza). Aunque a diferencia del concepto de\n",
    "distancia, en el caso de la similaridad (o disimilaridad) no existe una definición universalmente\n",
    "aceptada, lo que dificulta el análisis de estas diferencias."
   ]
  },
  {
   "cell_type": "markdown",
   "metadata": {},
   "source": [
    "#### Confusión "
   ]
  },
  {
   "cell_type": "markdown",
   "metadata": {},
   "source": [
    "- Modelos de Similaridad: Representación matemática para\n",
    "resolver el cálculo de la similaridad. Soporte para realizar\n",
    "búsquedas basadas en patrones erróneos de digitación,\n",
    "deletreo, escaneo, etc.\n",
    "- Funciones de Distancia: Establecen metodología y nivel de\n",
    "error permitido, unas miden si la hilera es aceptable o no y\n",
    "otras dan la similaridad.\n",
    "- Noción de Distancia: Comparar hileras y ver que diferencia\n",
    "hay entre ellas.\n",
    "- Algoritmos de Similaridad y Distancia: Funciones que\n",
    "permiten ver que tan diferentes son las hileras"
   ]
  },
  {
   "cell_type": "markdown",
   "metadata": {},
   "source": [
    "Ejemplo de algunas funciones de distancia no formales :\n",
    "- Distancia Hamming\n",
    "- Distancia de Levenshtein\n",
    "- Distancias con N-gramas\n",
    "- HOEM\n",
    "- HVDM\n",
    "- VDM"
   ]
  },
  {
   "cell_type": "markdown",
   "metadata": {},
   "source": [
    "### Distancia Hamming\n",
    "<img src=\"images/Hamming.png\" width=\"80%\">"
   ]
  },
  {
   "cell_type": "markdown",
   "metadata": {},
   "source": [
    "## Similaridad(es)\n",
    "\n",
    "Otra forma de medir semejanza entre dos objetos es a través de una función de **similaridad**. Aunque la similaridad guarda cierta relación de *inversas* con la distancia, su naturaleza es distinta: mientras que la idea de distancia se deriva de una relación espacial, la similaridad se deriva de un conteo de rasgos similares entre dos objetos.\n",
    "\n",
    "Una función de similaridad es una función que cumple con las siguientes condiciones:\n",
    "\n",
    "\n",
    "\\begin{eqnarray*}\n",
    " S1 & & s(x,y)\\ge 0 \\\\\n",
    " S2 & & s(x,y)\\le \\min\\{s(x,x), s(y,y)\\}\\\\\n",
    " S3 & & s(x,y)=s(y,x)\\\\\n",
    " S4 & & s(x,y) + s(y,z) \\le s(x,z) + s(y, y)\\\\\n",
    "\\end{eqnarray*}\n",
    "\n",
    "\n",
    "siendo $x, y$ y $z$ tres elementos cualesquiera de un conjunto. \n",
    "\n",
    "### Similaridad y distancia\n",
    "\n",
    "La forma más formal de obtener una función de similaridad es a través de las ya conocidas funciones de distancia. Una manera de construir la función de similaridad es definiendo $s(x,y)$ como\n",
    "\n",
    "$$Ec1 : s(x,y) = d(x,z) + d(z,y) - d(x,y)$$\n",
    "\n",
    "En este caso, $z$ es un valor de referencia.\n",
    "\n",
    "Para que $s(x,y)$ definida así sea una función de similaridad debe cumplir con las condiciones $S1$ a $S4$. \n",
    "\n",
    "* Para verificar $S1$ reescribimos la desigualdad del triángulo:<br><br>\n",
    "$d(x,z) + d(z,y) \\ge d(x,y) \\Longrightarrow  d(x,z) + d(z,y) - d(x,y)\\ge 0$ y se satisface $S1$.<br><br>\n",
    "\n",
    "* Un resultado que se deriva de la desigualdad del triángulo es la llamada *desigualdad inversa* en la que en lugar de establecer límites superiores se establecen límites inferiores:\n",
    "<br><br>\n",
    "$$d(x,y) + d(y,z) \\ge d(x,z)$$\n",
    "o bien...<br><br>\n",
    "$$d(x,y) \\ge d(x,z) − d(y,z)$$<br>\n",
    "Supongamos que $d(x,z) − d(y,z) \\ge 0$, entonces se cumple que <br><br>\n",
    "$$d(x,y) \\ge \\left| d(x,z) − d(y,z)\\right|$$<br>\n",
    "Por otra parte, si $d(x,z) − d(y,z) < 0$, entonces $d(x,z) < d(y,z)$<br>\n",
    "![](images/triangle.png)<br>\n",
    "y ahora preferimos la expresión <br>\n",
    "$$d(z,x) + d(x,y) \\ge d(z,y)$$<br>\n",
    "(que también es válida, al igual que $d(x,z) + d(z,y) \\ge d(x,y)$)<br><br>\n",
    "Y entonces, <br>\n",
    "$$d(x,y) \\ge d(z,y) − d(z,x) > 0$$<br>\n",
    "y combinando ambos casos...<br>\n",
    "$$d(x,y) \\ge \\left| d(z,y) − d(z,x)\\right| = \\left| d(x,z) − d(z,y)\\right|$$<br>\n",
    "o bien<br>\n",
    "$$\\left| d(x,z) - d(z,y) \\right| \\le d(x,y)$$<br>\n",
    "por lo tanto<br>\n",
    "\\begin{eqnarray*}\n",
    " s(x,y) & = & d(x,z) + d(z,y) - d(x,y) \\\\\n",
    " s(x,y) & \\le & d(x,z) + d(z,y) - \\left| d(x,z) - d(z,y) \\right|\n",
    "\\end{eqnarray*}\n",
    "pero<br><br>\n",
    "$\\mbox{if } d(x,z) \\ge d(y,z)  \\Rightarrow d(x,z) + d(y,z) - \\left| d(x,z) - d(y,z) \\right| = d(x,z) + d(y,z) - d(x,z) + d(y,z)  = 2d(y,z)$<br><br>\n",
    "y<br><br>\n",
    "$\\mbox{if } d(x,z) \\lt d(y,z)  \\Rightarrow d(x,z) + d(y,z) - \\left| d(x,z) - d(y,z) \\right| = d(x,z) + d(y,z) + d(x,z) - d(y,z) = 2d(x,z)$<br><br>\n",
    "o bien<br>\n",
    "$$\n",
    "d(x,z) + d(y,z) - \\left| d(x,z) - d(y,z) \\right| = \n",
    "\\begin{cases} \n",
    "2d(y,z), & \\mbox{if } d(x,z) \\ge d(y,z) \\\\ \n",
    "2d(x,z), & \\mbox{if } d(x,z) \\lt d(y,z)\n",
    "\\end{cases}\n",
    "$$<br><br>\n",
    "entonces<br><br>\n",
    "$$s(x,y) \\le 2\\min\\{d(x,z), d(y,z)\\} $$<br>\n",
    "y volviendo a la ecuación Ec1<br>\n",
    "\\begin{eqnarray*}\n",
    "s(x,x) & = & 2 d(x,z)\\\\\n",
    "s(y,y) & = & 2 d(y,z) \n",
    "\\end{eqnarray*}<br>\n",
    "entonces<br>\n",
    "$$s(x,y) \\le \\min\\{s(x,x), s(y,y)\\} $$<br>\n",
    "y se verifica la condición $S2$. <br><br>\n",
    "\n",
    "* $S3$ es trivial<br><br>\n",
    "\n",
    "* $S4$ se puede derivar de $D4$.<br><br>\n",
    "\n",
    "De manera semejante, dada la función de similaridad $s(x,y)$, puede obtenerse una medida de distancia haciendo:\n",
    "\n",
    "$$d(x, y) = s(x, x) + s(y, y)−2s(x, y)$$\n",
    "\n",
    "\n",
    "### Otras alternativa\n",
    "\n",
    "Otra alternativa más común para definir similaridades a partir de distancias es mediante:\n",
    "\n",
    " $$s(x,y) = \\frac{1}{d(x,y)}$$"
   ]
  },
  {
   "cell_type": "code",
   "execution_count": 8,
   "metadata": {},
   "outputs": [
    {
     "name": "stdout",
     "output_type": "stream",
     "text": [
      "\n",
      "Las distancias euclidianas para los datos de diabetes son:\n",
      " [ 66.91095707  54.29633528 115.73444431 172.58913326 102.52313417\n",
      "  94.8171074  178.66729407 135.64400107 180.55650488  94.7391083 ]\n",
      "\n",
      "Las similaridades euclidianas para los datos de diabetes son:\n",
      " [0.01494524 0.01841745 0.00864047 0.00579411 0.0097539  0.01054662\n",
      " 0.005597   0.00737224 0.00553843 0.0105553 ]\n",
      "\n",
      "Las similaridades euclidianas para los datos \"pequeños\" de diabetes son:\n",
      " [149.45235337 184.17449259  86.40470052  57.94107549  97.53896114\n",
      " 105.46619987  55.96995271  73.72239039  55.38432418 105.55303063]\n"
     ]
    }
   ],
   "source": [
    "md = distance.pdist(df.head(5), 'euclidean')\n",
    "print('\\nLas distancias euclidianas para los datos de diabetes son:\\n', md)\n",
    "\n",
    "ms = 1/md\n",
    "print('\\nLas similaridades euclidianas para los datos de diabetes son:\\n', ms)\n",
    "\n",
    "md2 = md/10000\n",
    "print('\\nLas similaridades euclidianas para los datos \"pequeños\" de diabetes son:\\n', 1/md2)"
   ]
  },
  {
   "cell_type": "markdown",
   "metadata": {},
   "source": [
    "La siguiente modificación resuelve el problema de posible división por cero.\n",
    "\n",
    "$$s(x,y) = \\frac{1}{d(x,y)+0.5}$$"
   ]
  },
  {
   "cell_type": "code",
   "execution_count": 9,
   "metadata": {},
   "outputs": [
    {
     "name": "stdout",
     "output_type": "stream",
     "text": [
      "\n",
      "Las similaridades euclidianas para los datos de diabetes son:\n",
      " [0.01483438 0.0182494  0.0086033  0.00577737 0.00970656 0.0104913\n",
      " 0.00558138 0.00734516 0.00552314 0.01049989]\n",
      "\n",
      "Las similaridades euclidianas para los datos \"pequeños\" de diabetes son:\n",
      " [1.97358905 1.97851478 1.95475354 1.9332678  1.95981473 1.96277899\n",
      " 1.93099874 1.94717547 1.93029455 1.96280904]\n"
     ]
    }
   ],
   "source": [
    "ms = 1/(md+0.5)\n",
    "print('\\nLas similaridades euclidianas para los datos de diabetes son:\\n', ms)\n",
    "\n",
    "ms2 = 1/(md2+0.5)\n",
    "print('\\nLas similaridades euclidianas para los datos \"pequeños\" de diabetes son:\\n', ms2)"
   ]
  },
  {
   "cell_type": "markdown",
   "metadata": {},
   "source": [
    "\n",
    "### Distancias normalizadas\n",
    "\n",
    "Cuando se trabaja con similaridades puede ser conveniente que los valores obtenidos queden restringidos a un rango, típicamente en [0, 1]. De esta manera resulta claro asociar 0 a la similaridad entre objetos totalmente disímiles y 1 entre objetos idénticos. Cuando las medidas de similaridad se derivan de una distancia, es conveniente, en tales casos, normalizar la distancia. Existen diversas maneras de normalizar las distancias, siendo las más comunes las siguientes:\n",
    "\n",
    "$$\\hat{d}(x,y) = \\frac{d(x,y)}{1+d(x,y)}$$\n",
    "\n",
    "y una función de similaridad normalizada derivada de esta distancia normalizada sería:\n",
    "\n",
    "$$s(x,y) = 1-\\hat{d}(x,y)$$"
   ]
  },
  {
   "cell_type": "code",
   "execution_count": 10,
   "metadata": {},
   "outputs": [
    {
     "name": "stdout",
     "output_type": "stream",
     "text": [
      "\n",
      "Las distancias euclidianas para los datos de diabetes son:\n",
      " [ 66.91095707  54.29633528 115.73444431 172.58913326 102.52313417\n",
      "  94.8171074  178.66729407 135.64400107 180.55650488  94.7391083 ]\n",
      "\n",
      "Las distancias euclidianas normalizadas para los datos de diabetes son:\n",
      " [0.98527484 0.98191562 0.99143355 0.99423927 0.99034032 0.98956345\n",
      " 0.99443416 0.99268171 0.99449207 0.98955495]\n",
      "\n",
      "Y las similaridades euclidianas correspondientes son:\n",
      " [0.01472516 0.01808438 0.00856645 0.00576073 0.00965968 0.01043655\n",
      " 0.00556584 0.00731829 0.00550793 0.01044505]\n",
      "\n",
      "Y para los datos pequeños:\n",
      " d: [0.00664662 0.00540031 0.01144103 0.0169661  0.01014827 0.00939265\n",
      " 0.01755311 0.01338287 0.01773543 0.009385  ] \n",
      " s: [0.99335338 0.99459969 0.98855897 0.9830339  0.98985173 0.99060735\n",
      " 0.98244689 0.98661713 0.98226457 0.990615  ]\n"
     ]
    }
   ],
   "source": [
    "md = distance.pdist(df.head(5), 'euclidean')\n",
    "print('\\nLas distancias euclidianas para los datos de diabetes son:\\n', md)\n",
    "mdn =  md/(1+md)\n",
    "print('\\nLas distancias euclidianas normalizadas para los datos de diabetes son:\\n', mdn)\n",
    "print('\\nY las similaridades euclidianas correspondientes son:\\n', 1-mdn)\n",
    "\n",
    "md2 = md/10000\n",
    "mdn2 =  md2/(1+md2)\n",
    "print('\\nY para los datos pequeños:\\n d:', mdn2, \"\\n s:\",1-mdn2)"
   ]
  },
  {
   "cell_type": "markdown",
   "metadata": {},
   "source": [
    "<hr style=\"border-width: 3px;\">\n",
    "\n",
    "### Tarea 3\n",
    "\n",
    "* Investigue y explique las funciones de distancia de Hamming, Pearson, Coseno y Gower. \n",
    "\n"
   ]
  },
  {
   "cell_type": "markdown",
   "metadata": {},
   "source": [
    "## Manifolds y grafos\n",
    "\n",
    "Una variedad es el objeto geométrico estándar en matemática que generaliza la noción intuitiva de curva (1-variedad) y de superficie (2-variedad) a cualquier dimensión y sobre cuerpos diversos (no necesariamente el de los reales). "
   ]
  },
  {
   "cell_type": "markdown",
   "metadata": {},
   "source": [
    "<img src='images/mani_1.png' width=\"300\">"
   ]
  },
  {
   "cell_type": "markdown",
   "metadata": {},
   "source": [
    "En teoría de grafos se denomina distancia entre dos vértices de un grafo al número de vértices mínimo que debe recorrerse para unirlos. La distancia entre dos nodos de un grafo es la longitud del camino más corto (a veces se denomina geodésico1). Si no hubiera conexión alguna entre dos vértices se dice que la distancia es infinita. Las distancias de todos los vértices de un grafo se computan en lo que se denomina matriz de distancias. el concepto se emplea en las mediadas de centralidad de redes. "
   ]
  },
  {
   "cell_type": "markdown",
   "metadata": {},
   "source": [
    "\n",
    "\n",
    "<img src='images/Ejemplo-de-grafo-reducido.png' width=\"300\">"
   ]
  },
  {
   "cell_type": "code",
   "execution_count": null,
   "metadata": {},
   "outputs": [],
   "source": []
  }
 ],
 "metadata": {
  "celltoolbar": "Raw Cell Format",
  "kernelspec": {
   "display_name": "Python 3 (ipykernel)",
   "language": "python",
   "name": "python3"
  },
  "language_info": {
   "codemirror_mode": {
    "name": "ipython",
    "version": 3
   },
   "file_extension": ".py",
   "mimetype": "text/x-python",
   "name": "python",
   "nbconvert_exporter": "python",
   "pygments_lexer": "ipython3",
   "version": "3.11.4"
  }
 },
 "nbformat": 4,
 "nbformat_minor": 1
}
